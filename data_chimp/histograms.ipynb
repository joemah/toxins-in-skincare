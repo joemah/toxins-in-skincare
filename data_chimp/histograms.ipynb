{
 "cells": [
  {
   "cell_type": "markdown",
   "metadata": {},
   "source": [
    "# Histograms\n",
    "\n",
    "This applet appears as a \"histograms\" button in the data chimp view and when it's enabled, it automatically shows a histogram for every numeric column within a data frame. These histograms are displayed on their own plots instead of being superimposed on the same plot (the default behavior of `df.plot.hist`). Moreover, it's possible to get the code that generated each histogram so that you can iterate on it (e.g., by adding a log scale, etc.).\n",
    "\n",
    "## How it works\n",
    "\n",
    "This applet uses two functions that data chimp interprets in a special way. `get_args` returns a list of dictionaries whose keys are argument names and whose values are their corresponding values. Each arg dictionary of this list is passed into `visualize`, which uses these dictionaries to create and return a visualization."
   ]
  },
  {
   "cell_type": "code",
   "execution_count": null,
   "metadata": {},
   "outputs": [],
   "source": [
    "def get_args(df):    \n",
    "    return [{'x': x} for x in df.columns.to_list() if df[x].dtype.kind in 'iuf']\n",
    "\n",
    "def visualize(df, args):    \n",
    "    return df[args['x']].plot.hist()"
   ]
  },
  {
   "cell_type": "markdown",
   "metadata": {},
   "source": [
    "[scatterplots.ipynb](./scatterplots.ipynb) is another example of an applet that uses these special functions. See [default.ipynb](./default.ipynb) for more docs on how applets work in general."
   ]
  }
 ],
 "metadata": {
  "kernelspec": {
   "display_name": "Python 3.9.6 64-bit",
   "language": "python",
   "name": "python3"
  },
  "language_info": {
   "name": "python",
   "version": "3.9.6"
  },
  "orig_nbformat": 4,
  "vscode": {
   "interpreter": {
    "hash": "31f2aee4e71d21fbe5cf8b01ff0e069b9275f58929596ceb00d14d90e3e16cd6"
   }
  }
 },
 "nbformat": 4,
 "nbformat_minor": 2
}
