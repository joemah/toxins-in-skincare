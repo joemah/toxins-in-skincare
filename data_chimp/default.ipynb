{
  "cells": [
    {
      "cell_type": "markdown",
      "metadata": {},
      "source": [
        "# Applets\n",
        "\n",
        "Applets are special jupyter notebooks whose cells are automatically run along side your notebooks to show auxiliary information and visualizations about the data you're working with. [histograms.ipynb](./histograms.ipynb), for example, automatically shows histograms for every numeric column in the data frame you're working with. It can be enabled by pressing the \"histograms\" button within the data chimp view.\n",
        "\n",
        "You can create new applets by creating new notebooks in this directory. The name of the notebook will be the label for it's enable/disable button in the UI. Each code cell within a applet has access to a `df` variable that is set to the data frame you're working with. It's also possible to create lists of visualizations from a single data frame using the `get_args` and `visualization` functions. See [histograms.ipynb](./histograms.ipynb) for an example."
      ]
    },
    {
      "cell_type": "markdown",
      "metadata": {},
      "source": [
        "## The \"default\" applet"
      ]
    },
    {
      "cell_type": "markdown",
      "metadata": {},
      "source": [
        "This notebook is the default applet whose cells are always run. The default applet is useful for data quality checks like the one below that shows a data frame with all columns that have more than 3% missing values if there's at least one such column in the data frame you're working with."
      ]
    },
    {
      "cell_type": "code",
      "execution_count": 4,
      "metadata": {},
      "outputs": [
        {
          "data": {
            "text/plain": [
              "Cabin    77.10\n",
              "Age      19.87\n",
              "dtype: float64"
            ]
          },
          "execution_count": 4,
          "metadata": {},
          "output_type": "execute_result"
        }
      ],
      "source": [
        "missing_df = (df\n",
        "  .isnull()\n",
        "  .mean()\n",
        "  .round(4)\n",
        "  .mul(100)\n",
        "  .sort_values(ascending=False)\n",
        ")\n",
        "badly_missing_df = missing_df[missing_df > 3]\n",
        "badly_missing_df if not badly_missing_df.empty else None"
      ]
    },
    {
      "cell_type": "markdown",
      "metadata": {},
      "source": [
        "The following cell is only for testing the above cell. We tell data chimp to ignore it by adding the `dchimp.ignore` cell tag."
      ]
    },
    {
      "cell_type": "code",
      "execution_count": 2,
      "metadata": {
        "tags": [
          "dchimp.ignore"
        ]
      },
      "outputs": [],
      "source": [
        "import pandas as pd\n",
        "df = pd.read_csv(\"https://raw.githubusercontent.com/datasciencedojo/datasets/master/titanic.csv\")"
      ]
    }
  ],
  "metadata": {
    "kernelspec": {
      "display_name": "Python 3.9.6 64-bit",
      "language": "python",
      "name": "python3"
    },
    "language_info": {
      "codemirror_mode": {
        "name": "ipython",
        "version": 3
      },
      "file_extension": ".py",
      "mimetype": "text/x-python",
      "name": "python",
      "nbconvert_exporter": "python",
      "pygments_lexer": "ipython3",
      "version": "3.9.6"
    },
    "orig_nbformat": 4,
    "vscode": {
      "interpreter": {
        "hash": "31f2aee4e71d21fbe5cf8b01ff0e069b9275f58929596ceb00d14d90e3e16cd6"
      }
    }
  },
  "nbformat": 4,
  "nbformat_minor": 2
}
