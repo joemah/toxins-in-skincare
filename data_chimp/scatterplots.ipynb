{
 "cells": [
  {
   "cell_type": "markdown",
   "metadata": {},
   "source": [
    "# Scatterplots\n",
    "\n",
    "This applet appears as a \"scatterplots\" button in the data chimp view, and when it's enabled, it automatically shows a scatter plot for every combination of numeric columns within a data frame. It's possible to get the code that generated each scatter plot so that you can iterate on it (e.g., by adding a log scale, etc.).\n",
    "\n",
    "## How it works\n",
    "\n",
    "This applet uses two functions that data chimp interprets in a special way. `get_args` returns a list of dictionaries whose keys are argument names and whose values are their corresponding values. Each arg dictionary of this list is passed into `visualize`, which uses these dictionaries to create and return a visualization."
   ]
  },
  {
   "cell_type": "code",
   "execution_count": null,
   "metadata": {},
   "outputs": [],
   "source": [
    "from itertools import combinations\n",
    "\n",
    "def get_args(df):    \n",
    "    return [{'x': x, 'y': y} for (x, y) in combinations(df.columns.to_list(), 2) \n",
    "        if df[x].dtype.kind in 'iuf' and df[y].dtype.kind in 'iuf']\n",
    "\n",
    "def visualize(df, args):    \n",
    "    return df.plot.scatter(x=args['x'], y=args['y'])"
   ]
  },
  {
   "cell_type": "markdown",
   "metadata": {},
   "source": [
    "[histograms.ipynb](./histograms.ipynb) is another example of an applet that uses these special functions. See [default.ipynb](./default.ipynb) for more docs on how applets work in general."
   ]
  }
 ],
 "metadata": {
  "kernelspec": {
   "display_name": "Python 3.9.6 64-bit",
   "language": "python",
   "name": "python3"
  },
  "language_info": {
   "name": "python",
   "version": "3.9.6"
  },
  "orig_nbformat": 4,
  "vscode": {
   "interpreter": {
    "hash": "31f2aee4e71d21fbe5cf8b01ff0e069b9275f58929596ceb00d14d90e3e16cd6"
   }
  }
 },
 "nbformat": 4,
 "nbformat_minor": 2
}
