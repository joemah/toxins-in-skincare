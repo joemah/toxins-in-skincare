{
 "cells": [
  {
   "cell_type": "markdown",
   "id": "e459add2",
   "metadata": {},
   "source": [
    "# Cleaning the Dataset for ML Algorithm\n",
    "#### This Notebook will delete all the products with the toxins and create a new dataset used for the machine learning algorithm\n",
    "\n",
    "- The dataframe of cleaned products only [here](../data/processed/cleaned_products_data.csv)\n",
    "- The list of hazardous products is [here](../references/hazardous_products.txt)\n",
    "- The list of clean products is [here](../references/clean_products.txt)\n",
    "\n",
    "***This notebook will only contain a dataframe and a seperate list of product names (used for website) with the clean products***"
   ]
  },
  {
   "cell_type": "code",
   "execution_count": null,
   "metadata": {},
   "outputs": [],
   "source": [
    "import pandas as pd\n",
    "import numpy as np\n",
    "import seaborn as sns\n",
    "import matplotlib.pyplot as plt\n",
    "import scipy as sp"
   ]
  },
  {
   "cell_type": "code",
   "execution_count": null,
   "id": "46058bc5",
   "metadata": {},
   "outputs": [],
   "source": [
    "df = pd.read_csv('../data/raw/cosmetics.csv')\n",
    "df.info()\n",
    "df.head(10)"
   ]
  },
  {
   "cell_type": "markdown",
   "id": "70f5f309",
   "metadata": {},
   "source": [
    "### Make a list of all of the toxins"
   ]
  },
  {
   "cell_type": "code",
   "execution_count": null,
   "id": "9c7d0b85",
   "metadata": {},
   "outputs": [],
   "source": [
    "ingredents_list = df['Ingredients'].tolist()\n",
    "# print(ingredents_list)"
   ]
  },
  {
   "cell_type": "code",
   "execution_count": null,
   "id": "82feb162",
   "metadata": {},
   "outputs": [],
   "source": [
    "# Create a dictionary with words as keys and variable names as values\n",
    "words = {'Ethanolamine': 'ethanolamine_occ', \n",
    "         'Oxybenzone': 'oxybenzone_occ', \n",
    "         'Resorcinol': 'resorcinol_occ', \n",
    "         'Formaldehyde': 'formaldehyde_occ', \n",
    "         'Diethanol': 'diethanolamine_occ', \n",
    "         'Silane': 'silanes_occ', \n",
    "         'Siloxane': 'siloxanes_occ', \n",
    "         'Octinaxate': 'octinaxate_occ',\n",
    "         #MODDERATE\n",
    "         'Parfum': 'parfum_occ', \n",
    "         'Fragrance': 'fragrance_occ',\n",
    "         'Triclosan': 'triclosan_occ', \n",
    "         'Octinoxates':'octinoxates_occ', \n",
    "         'Homosalate' : 'homosalate_occ', \n",
    "         'Teflon': 'teflon_occ',\n",
    "         #HIGH\n",
    "         'Talc': 'talc_occ', \n",
    "         'Parabens':'parabens_occ', \n",
    "         'Propylene Glycol': 'glycol_occ'}\n",
    "\n",
    "# Iterate over the dictionary\n",
    "for word, var in words.items():\n",
    "  # Use the `str.contains` method to find the occurrences where the word is found in the Ingredients column\n",
    "  # and create a variable with the corresponding name and value\n",
    "  globals()[var] = df[df['Ingredients'].str.contains(word)]"
   ]
  },
  {
   "cell_type": "code",
   "execution_count": null,
   "id": "856464c9",
   "metadata": {},
   "outputs": [],
   "source": [
    "%%capture cap \n",
    "\n",
    "words = {'Ethanolamine': 'ethanolamine_occ', \n",
    "         'Oxybenzone': 'oxybenzone_occ', \n",
    "         'Resorcinol': 'resorcinol_occ', \n",
    "         'Formaldehyde': 'formaldehyde_occ', \n",
    "         'Diethanol': 'diethanolamine_occ', \n",
    "         'Silane': 'silanes_occ', \n",
    "         'Siloxane': 'siloxanes_occ', \n",
    "         'Octinaxate': 'octinaxate_occ',\n",
    "         #MODDERATE\n",
    "         'Parfum': 'parfum_occ', \n",
    "         'Fragrance': 'fragrance_occ',\n",
    "         'Triclosan': 'triclosan_occ', \n",
    "         'Octinoxates':'octinoxates_occ', \n",
    "         'Homosalate' : 'homosalate_occ', \n",
    "         'Teflon': 'teflon_occ',\n",
    "         #HIGH\n",
    "         'Talc': 'talc_occ', \n",
    "         'Parabens':'parabens_occ', \n",
    "         'Propylene Glycol': 'glycol_occ'}\n",
    "\n",
    "words_tuples = {}\n",
    "for chemical, variable in words.items():\n",
    "    variable_value = eval(variable)\n",
    "    index = variable_value.index\n",
    "    name = variable_value.loc[index, \"Name\"]\n",
    "    if index.empty:\n",
    "        words_tuples[chemical] = \"No chemical found\"\n",
    "    else:\n",
    "        tuples = [(i, n) for i, n in zip(index, name)]\n",
    "        words_tuples[chemical] = tuples\n",
    "\n",
    "with open('../reports/hazardous_products.txt', 'w') as f:\n",
    "    for chemical, tuples in words_tuples.items():\n",
    "        if tuples == \"No chemical found\":\n",
    "            f.write(f\"No {chemical} found\\n\")\n",
    "        else:\n",
    "            f.write(f\"{chemical} found at index numbers:\\n\")\n",
    "            for i, n in tuples:\n",
    "                f.write(f\"{i} - {n}\\n\")\n",
    "            f.write(\"\\n\")"
   ]
  },
  {
   "cell_type": "code",
   "execution_count": null,
   "id": "9d74d22e",
   "metadata": {},
   "outputs": [],
   "source": [
    "with open(\"../references/hazardous_products.txt\", \"r\") as file:\n",
    "    index_numbers = [int(line.strip()) for line in file]\n",
    "\n",
    "selected_products = df.loc[df['Name'].isin(index_numbers)]\n",
    "\n",
    "print(selected_products['Name'])"
   ]
  },
  {
   "cell_type": "code",
   "execution_count": null,
   "id": "36a125cf",
   "metadata": {},
   "outputs": [],
   "source": [
    "with open(\"../references/hazardous_products.txt\", \"r\") as file:\n",
    "    index_numbers = []\n",
    "    for line in file:\n",
    "        try:\n",
    "            index_numbers.append(int(line.strip()))\n",
    "        except ValueError:\n",
    "            continue\n",
    "    index_numbers = [int(line.strip()) for line in file]\n",
    "\n",
    "# Use the .loc[] method to select the rows of the dataframe where the index number matches the number in your list\n",
    "selected_products = df.loc[df['Name'].isin(index_numbers)]\n",
    "\n",
    "# Print the selected products\n",
    "print(selected_products)"
   ]
  },
  {
   "cell_type": "markdown",
   "id": "43ec045e",
   "metadata": {},
   "source": [
    "### Make a loop that will run the same function on other toxins\n",
    "#### Store the toxins in a list\n",
    "- master list\n",
    "- hazard levels\n",
    "    - low\n",
    "    - moderate\n",
    "    - high\n",
    "#### Use a loop to print the products that contains the toxins"
   ]
  },
  {
   "cell_type": "markdown",
   "id": "5e47a2dc",
   "metadata": {},
   "source": [
    "### Lists sorted by Toxicity (for reference)\n"
   ]
  },
  {
   "cell_type": "code",
   "execution_count": null,
   "id": "f3374dce",
   "metadata": {},
   "outputs": [],
   "source": [
    "# master_list = [\n",
    "#     silanes_occ, oxybenzone_occ, siloxanes_occ, resorcinol_occ, ethanolamine_occ, formaldehyde_occ, diethanolamine_occ, octinaxate_occ,\n",
    "#     parfum_occ, fragrance_occ, triclosan_occ, octinoxates_occ, homosalate_occ, teflon_occ,\n",
    "#     talc_occ, parabens_occ, glycol_occ]\n",
    "\n",
    "# low_list = [\n",
    "#     silanes_occ, oxybenzone_occ, siloxanes_occ, resorcinol_occ, ethanolamine_occ, formaldehyde_occ, diethanolamine_occ, octinaxate_occ,\n",
    "#     ]\n",
    "\n",
    "# moderate_list = [\n",
    "#     parfum_occ, fragrance_occ, triclosan_occ, octinoxates_occ, homosalate_occ, teflon_occ,\n",
    "#     ]\n",
    "\n",
    "# high_list = [\n",
    "#     talc_occ, parabens_occ, glycol_occ\n",
    "# ]"
   ]
  },
  {
   "cell_type": "markdown",
   "id": "1336ed54",
   "metadata": {},
   "source": [
    "### Low Toxicity toxin products index number list is [here](../references/low_hazard_products.txt)"
   ]
  },
  {
   "cell_type": "code",
   "execution_count": null,
   "id": "5763cfd6",
   "metadata": {},
   "outputs": [],
   "source": [
    "low = {'Ethanolamine': 'ethanolamine_occ',\n",
    "       'Oxybenzone': 'oxybenzone_occ',\n",
    "       'Resorcinol': 'resorcinol_occ',\n",
    "       'Formaldehyde': 'formaldehyde_occ',\n",
    "       'Diethanol': 'diethanolamine_occ',\n",
    "       'Silane': 'silanes_occ',\n",
    "       'Siloxane': 'siloxanes_occ',\n",
    "       'Octinaxate': 'octinaxate_occ', }\n",
    "\n",
    "low_tuples = {}\n",
    "for chemical, variable in low.items():\n",
    "    variable_value = eval(variable)\n",
    "    index = variable_value.index\n",
    "    name = variable_value.loc[index, \"Name\"]\n",
    "    if index.empty:\n",
    "        low_tuples[chemical] = \"No chemical found\"\n",
    "    else:\n",
    "        tuples = [(i, n) for i, n in zip(index, name)]\n",
    "        low_tuples[chemical] = tuples\n",
    "\n",
    "with open('../references/low_hazard_products.txt', 'w') as f:\n",
    "    for chemical, tuples in low_tuples.items():\n",
    "        if tuples == \"No chemical found\":\n",
    "            f.write(f\"No {chemical} found\\n\")\n",
    "        else:\n",
    "            f.write(f\"{chemical} found at index numbers:\\n\")\n",
    "            for i, n in tuples:\n",
    "                f.write(f\"{i} - {n}\\n\")\n",
    "            f.write(\"\\n\")\n"
   ]
  },
  {
   "cell_type": "markdown",
   "id": "ca3c7799",
   "metadata": {},
   "source": [
    "### Moderate Toxicity toxin products index number list is [here](../references/mod_hazard_products.txt)"
   ]
  },
  {
   "cell_type": "code",
   "execution_count": null,
   "id": "c5334c9e",
   "metadata": {},
   "outputs": [],
   "source": [
    "mod = {\n",
    "    'Parfum': 'parfum_occ',\n",
    "    'Fragrance': 'fragrance_occ',\n",
    "    'Triclosan': 'triclosan_occ',\n",
    "    'Octinoxates': 'octinoxates_occ',\n",
    "    'Homosalate': 'homosalate_occ',\n",
    "    'Teflon': 'teflon_occ',\n",
    "}\n",
    "\n",
    "mod_tuples = {}\n",
    "for chemical, variable in mod.items():\n",
    "    variable_value = eval(variable)\n",
    "    index = variable_value.index\n",
    "    name = variable_value.loc[index, \"Name\"]\n",
    "    if index.empty:\n",
    "        mod_tuples[chemical] = \"No chemical found\"\n",
    "    else:\n",
    "        tuples = [(i, n) for i, n in zip(index, name)]\n",
    "        mod_tuples[chemical] = tuples\n",
    "\n",
    "with open('../references/mod_hazard_products.txt', 'w') as f:\n",
    "    for chemical, tuples in mod_tuples.items():\n",
    "        if tuples == \"No chemical found\":\n",
    "            f.write(f\"No {chemical} found\\n\")\n",
    "        else:\n",
    "            f.write(f\"{chemical} found at index numbers:\\n\")\n",
    "            for i, n in tuples:\n",
    "                f.write(f\"{i} - {n}\\n\")\n",
    "            f.write(\"\\n\")"
   ]
  },
  {
   "cell_type": "markdown",
   "id": "02aada87",
   "metadata": {},
   "source": [
    "### High Toxicity toxin products index number list is [here](../references/high_hazard_products.txt)"
   ]
  },
  {
   "cell_type": "code",
   "execution_count": null,
   "id": "2b2d6eb7",
   "metadata": {},
   "outputs": [],
   "source": [
    "high = {'Talc': 'talc_occ',\n",
    "        'Parabens': 'parabens_occ',\n",
    "        'Propylene Glycol ': 'glycol_occ'}\n",
    "\n",
    "high_tuples = {}\n",
    "for chemical, variable in mod.items():\n",
    "    variable_value = eval(variable)\n",
    "    index = variable_value.index\n",
    "    name = variable_value.loc[index, \"Name\"]\n",
    "    if index.empty:\n",
    "        high_tuples[chemical] = \"No chemical found\"\n",
    "    else:\n",
    "        tuples = [(i, n) for i, n in zip(index, name)]\n",
    "        high_tuples[chemical] = tuples\n",
    "\n",
    "with open('../references/mod_hazard_products.txt', 'w') as f:\n",
    "    for chemical, tuples in high_tuples.items():\n",
    "        if tuples == \"No chemical found\":\n",
    "            f.write(f\"No {chemical} found\\n\")\n",
    "        else:\n",
    "            f.write(f\"{chemical} found at index numbers:\\n\")\n",
    "            for i, n in tuples:\n",
    "                f.write(f\"{i} - {n}\\n\")\n",
    "            f.write(\"\\n\")\n"
   ]
  },
  {
   "cell_type": "markdown",
   "id": "0050ef5d",
   "metadata": {},
   "source": [
    "### Reading the textfile outputs to get the index numbers (for deletion)\n",
    "1. A new array is created to hold all of the indicies\n",
    "2. The index numbers are read from [here](../references/hazardous_products.txt)\n",
    "3. Adds to the ```products``` array if the text is a digit"
   ]
  },
  {
   "cell_type": "code",
   "execution_count": null,
   "id": "28b5b479",
   "metadata": {},
   "outputs": [],
   "source": [
    "%%capture cap \n",
    "with open('../reports/hazardous_products.txt', 'r') as f:\n",
    "    contents = f.read()\n",
    "    \n",
    "lines = contents.split('\\n')\n",
    "\n",
    "products = []\n",
    "\n",
    "for line in lines:\n",
    "    words = line.split()\n",
    "    for word in words:\n",
    "        if word.isdigit():\n",
    "            products.append(int(word))\n",
    "\n",
    "print(products)\n",
    "\n",
    "# Close the file\n",
    "f.close()\n",
    "\n",
    "print(type(products))\n",
    "\n",
    "products_array = np.array(products)\n",
    "print(type(products_array))\n",
    "\n",
    "print(products_array)"
   ]
  },
  {
   "cell_type": "markdown",
   "id": "3e40f0f2",
   "metadata": {},
   "source": [
    "### Add the toxicity column with these values:\n",
    "\n",
    "- Low\n",
    "- Moderate\n",
    "- High\n",
    "- n/a"
   ]
  },
  {
   "cell_type": "markdown",
   "id": "f5259726",
   "metadata": {},
   "source": [
    "### Now we must remove the index numbers (products) that are in the lists to make a dataset with non-toxic products"
   ]
  },
  {
   "cell_type": "code",
   "execution_count": null,
   "id": "765ce8b3",
   "metadata": {},
   "outputs": [],
   "source": [
    "# removed_products = []\n",
    "# with open('../reports/hazardous_products.txt', 'r') as f:\n",
    "#     for line in f:\n",
    "#         if 'found at index numbers:' in line:\n",
    "#             for index in f:\n",
    "#                 if index.strip().isdigit():\n",
    "#                     removed_products.append(int(index))\n",
    "#                 else:\n",
    "#                     break\n",
    "\n",
    "# removed_products_array = np.array(removed_products)\n",
    "\n",
    "# print(removed_products_array)\n",
    "# df = df.drop(removed_products_array)\n",
    "\n",
    "\n",
    "# index_numbers = []\n",
    "# with open('../references/hazardous_products.txt', 'r') as f:\n",
    "#     for line in f:\n",
    "#         if 'found at index numbers:' in line:\n",
    "#             for index in f:\n",
    "#                 if index.strip().isdigit():\n",
    "#                     index_numbers.append(int(index))\n",
    "#                 else:\n",
    "#                     break\n",
    "\n",
    "# index_array = np.array(index_numbers)\n",
    "# df = df.drop(index_array)\n",
    "\n",
    "with open('../references/hazardous_products.txt', 'r') as f:\n",
    "    contents = f.read()\n",
    "    \n",
    "lines = contents.split('\\n')\n",
    "\n",
    "products = []\n",
    "\n",
    "for line in lines:\n",
    "    words = line.split()\n",
    "    for word in words:\n",
    "        if word.isdigit():\n",
    "            products.append(int(word))\n",
    "\n",
    "\n",
    "f.close()\n",
    "\n",
    "toxic_array = np.array(products)\n",
    "\n",
    "print(toxic_array)\n",
    "\n",
    "df = df.drop(toxic_array)"
   ]
  },
  {
   "cell_type": "markdown",
   "id": "0c506b15",
   "metadata": {},
   "source": [
    "### **A total of 825 out of 1472 products are clean!**"
   ]
  },
  {
   "cell_type": "code",
   "execution_count": null,
   "id": "5ee590c1",
   "metadata": {},
   "outputs": [],
   "source": [
    "df.info()"
   ]
  },
  {
   "cell_type": "code",
   "execution_count": null,
   "id": "c8fb659d",
   "metadata": {},
   "outputs": [],
   "source": [
    "df.head()"
   ]
  },
  {
   "cell_type": "code",
   "execution_count": null,
   "id": "b3f27572",
   "metadata": {},
   "outputs": [],
   "source": [
    "df.describe()"
   ]
  },
  {
   "cell_type": "markdown",
   "id": "a7f65331",
   "metadata": {},
   "source": [
    "### Export the results to a s CSV file that has the new toxicity column to processed"
   ]
  },
  {
   "cell_type": "code",
   "execution_count": null,
   "id": "b7bb3106",
   "metadata": {},
   "outputs": [],
   "source": [
    "df.to_csv('../data/processed/clean_products_data.csv', index=False)"
   ]
  },
  {
   "cell_type": "markdown",
   "id": "52e99612",
   "metadata": {},
   "source": [
    "### Creating the list of clean products\n",
    "- `products_array` is the array that contains the index numbers of the toxic products\n",
    "- create the array without toxic products (clean products) using `np.setdiff1d()` method\n",
    "- access the product names by using the index numbers\n",
    "- make a txt file of the index number & product name"
   ]
  },
  {
   "cell_type": "code",
   "execution_count": null,
   "id": "ba382111",
   "metadata": {},
   "outputs": [],
   "source": [
    "print(\"Toxic Product Index numbers:\")\n",
    "print(toxic_array)\n",
    "\n",
    "# Total number of products range from 1 to 1471\n",
    "all_index = np.arange(1, 1472)\n",
    "clean_array = np.setdiff1d(all_index, toxic_array)\n",
    "\n",
    "print(\"Clean Product Index numbers:\")\n",
    "print(clean_array)"
   ]
  },
  {
   "cell_type": "code",
   "execution_count": null,
   "id": "96f781b3",
   "metadata": {},
   "outputs": [],
   "source": [
    "with open('../references/clean_products.txt', 'w') as f:\n",
    "    for i in range(len(clean_array)):\n",
    "        product_name = df.at[clean_array[i], 'Name']\n",
    "        f.write(str(clean_array[i]) + ': ' + product_name + '\\n')"
   ]
  }
 ],
 "metadata": {
  "kernelspec": {
   "display_name": "Python 3.9.13 ('base')",
   "language": "python",
   "name": "python3"
  },
  "language_info": {
   "codemirror_mode": {
    "name": "ipython",
    "version": 3
   },
   "file_extension": ".py",
   "mimetype": "text/x-python",
   "name": "python",
   "nbconvert_exporter": "python",
   "pygments_lexer": "ipython3",
   "version": "3.9.13"
  },
  "vscode": {
   "interpreter": {
    "hash": "0b5c61de2e429f9752d8dbc011c1d8d05e3d8719ce4f9a2a549c70706b4985bf"
   }
  }
 },
 "nbformat": 4,
 "nbformat_minor": 5
}
