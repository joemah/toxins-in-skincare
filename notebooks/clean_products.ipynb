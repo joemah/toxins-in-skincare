{
 "cells": [
  {
   "cell_type": "markdown",
   "id": "e459add2",
   "metadata": {},
   "source": [
    "# Cleaning the Dataset for ML Algorithm\n",
    "#### This Notebook will delete all the products with the toxins and create a new dataset used for the machine learning algorithm"
   ]
  },
  {
   "cell_type": "code",
   "execution_count": 1,
   "metadata": {},
   "outputs": [
    {
     "name": "stderr",
     "output_type": "stream",
     "text": [
      "UsageError: Line magic function `%%` not found.\n"
     ]
    }
   ],
   "source": [
    "import pandas as pd\n",
    "import numpy as np\n",
    "import seaborn as sns\n",
    "import matplotlib.pyplot as plt\n",
    "import scipy as sp\n",
    "%% capture cap"
   ]
  },
  {
   "cell_type": "code",
   "execution_count": 2,
   "id": "46058bc5",
   "metadata": {},
   "outputs": [
    {
     "data": {
      "text/html": [
       "<div>\n",
       "<style scoped>\n",
       "    .dataframe tbody tr th:only-of-type {\n",
       "        vertical-align: middle;\n",
       "    }\n",
       "\n",
       "    .dataframe tbody tr th {\n",
       "        vertical-align: top;\n",
       "    }\n",
       "\n",
       "    .dataframe thead th {\n",
       "        text-align: right;\n",
       "    }\n",
       "</style>\n",
       "<table border=\"1\" class=\"dataframe\">\n",
       "  <thead>\n",
       "    <tr style=\"text-align: right;\">\n",
       "      <th></th>\n",
       "      <th>Label</th>\n",
       "      <th>Brand</th>\n",
       "      <th>Name</th>\n",
       "      <th>Price</th>\n",
       "      <th>Rank</th>\n",
       "      <th>Ingredients</th>\n",
       "      <th>Combination</th>\n",
       "      <th>Dry</th>\n",
       "      <th>Normal</th>\n",
       "      <th>Oily</th>\n",
       "      <th>Sensitive</th>\n",
       "    </tr>\n",
       "  </thead>\n",
       "  <tbody>\n",
       "    <tr>\n",
       "      <th>0</th>\n",
       "      <td>Moisturizer</td>\n",
       "      <td>LA MER</td>\n",
       "      <td>Crème de la Mer</td>\n",
       "      <td>175</td>\n",
       "      <td>4.1</td>\n",
       "      <td>Algae (Seaweed) Extract, Mineral Oil, Petrolat...</td>\n",
       "      <td>1</td>\n",
       "      <td>1</td>\n",
       "      <td>1</td>\n",
       "      <td>1</td>\n",
       "      <td>1</td>\n",
       "    </tr>\n",
       "    <tr>\n",
       "      <th>1</th>\n",
       "      <td>Moisturizer</td>\n",
       "      <td>SK-II</td>\n",
       "      <td>Facial Treatment Essence</td>\n",
       "      <td>179</td>\n",
       "      <td>4.1</td>\n",
       "      <td>Galactomyces Ferment Filtrate (Pitera), Butyle...</td>\n",
       "      <td>1</td>\n",
       "      <td>1</td>\n",
       "      <td>1</td>\n",
       "      <td>1</td>\n",
       "      <td>1</td>\n",
       "    </tr>\n",
       "    <tr>\n",
       "      <th>2</th>\n",
       "      <td>Moisturizer</td>\n",
       "      <td>DRUNK ELEPHANT</td>\n",
       "      <td>Protini™ Polypeptide Cream</td>\n",
       "      <td>68</td>\n",
       "      <td>4.4</td>\n",
       "      <td>Water, Dicaprylyl Carbonate, Glycerin, Ceteary...</td>\n",
       "      <td>1</td>\n",
       "      <td>1</td>\n",
       "      <td>1</td>\n",
       "      <td>1</td>\n",
       "      <td>0</td>\n",
       "    </tr>\n",
       "    <tr>\n",
       "      <th>3</th>\n",
       "      <td>Moisturizer</td>\n",
       "      <td>LA MER</td>\n",
       "      <td>The Moisturizing Soft Cream</td>\n",
       "      <td>175</td>\n",
       "      <td>3.8</td>\n",
       "      <td>Algae (Seaweed) Extract, Cyclopentasiloxane, P...</td>\n",
       "      <td>1</td>\n",
       "      <td>1</td>\n",
       "      <td>1</td>\n",
       "      <td>1</td>\n",
       "      <td>1</td>\n",
       "    </tr>\n",
       "    <tr>\n",
       "      <th>4</th>\n",
       "      <td>Moisturizer</td>\n",
       "      <td>IT COSMETICS</td>\n",
       "      <td>Your Skin But Better™ CC+™ Cream with SPF 50+</td>\n",
       "      <td>38</td>\n",
       "      <td>4.1</td>\n",
       "      <td>Water, Snail Secretion Filtrate, Phenyl Trimet...</td>\n",
       "      <td>1</td>\n",
       "      <td>1</td>\n",
       "      <td>1</td>\n",
       "      <td>1</td>\n",
       "      <td>1</td>\n",
       "    </tr>\n",
       "  </tbody>\n",
       "</table>\n",
       "</div>"
      ],
      "text/plain": [
       "         Label           Brand                                           Name  \\\n",
       "0  Moisturizer          LA MER                                Crème de la Mer   \n",
       "1  Moisturizer           SK-II                       Facial Treatment Essence   \n",
       "2  Moisturizer  DRUNK ELEPHANT                     Protini™ Polypeptide Cream   \n",
       "3  Moisturizer          LA MER                    The Moisturizing Soft Cream   \n",
       "4  Moisturizer    IT COSMETICS  Your Skin But Better™ CC+™ Cream with SPF 50+   \n",
       "\n",
       "   Price  Rank                                        Ingredients  \\\n",
       "0    175   4.1  Algae (Seaweed) Extract, Mineral Oil, Petrolat...   \n",
       "1    179   4.1  Galactomyces Ferment Filtrate (Pitera), Butyle...   \n",
       "2     68   4.4  Water, Dicaprylyl Carbonate, Glycerin, Ceteary...   \n",
       "3    175   3.8  Algae (Seaweed) Extract, Cyclopentasiloxane, P...   \n",
       "4     38   4.1  Water, Snail Secretion Filtrate, Phenyl Trimet...   \n",
       "\n",
       "   Combination  Dry  Normal  Oily  Sensitive  \n",
       "0            1    1       1     1          1  \n",
       "1            1    1       1     1          1  \n",
       "2            1    1       1     1          0  \n",
       "3            1    1       1     1          1  \n",
       "4            1    1       1     1          1  "
      ]
     },
     "execution_count": 2,
     "metadata": {},
     "output_type": "execute_result"
    }
   ],
   "source": [
    "df = pd.read_csv('../data/raw/cosmetics.csv')\n",
    "df.head(5)"
   ]
  },
  {
   "cell_type": "markdown",
   "id": "70f5f309",
   "metadata": {},
   "source": [
    "### Make a list of all of the toxins"
   ]
  },
  {
   "cell_type": "code",
   "execution_count": 6,
   "id": "63201ec5",
   "metadata": {},
   "outputs": [],
   "source": [
    "ingredents_list = df['Ingredients'].tolist()\n",
    "# print(ingredents_list)"
   ]
  },
  {
   "cell_type": "code",
   "execution_count": 5,
   "id": "24e022ab",
   "metadata": {},
   "outputs": [
    {
     "name": "stdout",
     "output_type": "stream",
     "text": [
      "The string 'Algae (Seaweed) Extract, Mineral Oil, Petrolatum, Glycerin, Isohexadecane, Microcrystalline Wax, Lanolin Alcohol, Citrus Aurantifolia (Lime) Extract, Sesamum Indicum (Sesame) Seed Oil, Eucalyptus Globulus (Eucalyptus) Leaf Oil, Sesamum Indicum (Sesame) Seed Powder, Medicago Sativa (Alfalfa) Seed Powder, Helianthus Annuus (Sunflower) Seedcake, Prunus Amygdalus Dulcis (Sweet Almond) Seed Meal, Sodium Gluconate, Copper Gluconate, Calcium Gluconate, Magnesium Gluconate, Zinc Gluconate, Magnesium Sulfate, Paraffin, Tocopheryl Succinate, Niacin, Water, Beta-Carotene, Decyl Oleate, Aluminum Distearate, Octyldodecanol, Citric Acid, Cyanocobalamin, Magnesium Stearate, Panthenol, Limonene, Geraniol, Linalool, Hydroxycitronellal, Citronellol, Benzyl Salicylate, Citral, Sodium Benzoate, Alcohol Denat., Fragrance.' appears 0 time(s) in the Ingredients column.\n",
      "The string 'Galactomyces Ferment Filtrate (Pitera), Butylene Glycol, Pentylene Glycol, Water, Sodium Benzoate, Methylparaben, Sorbic Acid.' appears 0 time(s) in the Ingredients column.\n",
      "The string 'Water, Dicaprylyl Carbonate, Glycerin, Cetearyl Alcohol, Cetearyl Olivate, Sorbitan Olivate, Sclerocarya Birrea Seed Oil, Bacillus/Soybean/ Folic Acid Ferment Extract, Nymphaea Alba Root Extract, sh-Oligopeptide-1, sh-Oligopeptide-2, sh-Polypeptide-1, sh-Polypeptide-9, sh-Polypeptide-11, Copper Palmitoyl Heptapeptide-14, Heptapeptide-15 Palmitate, Palmitoyl Tetrapeptide-7, Palmitoyl Tripeptide-1, Alanine, Arginine, Glycine, Histidine, Isoleucine, Phenylalanine, Proline, Serine, Threonine, Valine, Acetyl Glutamine, Coconut Alkanes , Coco-Caprylate/Caprate, Sodium Hyaluronate, Aspartic Acid, Linoleic Acid, Linolenic Acid, Lecithin, Butylene Glycol, Polyvinyl Alcohol, Sodium Lactate, Sodium PCA, PCA, Sorbitan Isostearate, Carbomer, Polysorbate 20, Polysorbate 60, Lactic Acid/Glycolic Acid Copolymer, Hydroxyethyl Acrylate/Sodium Acryloyldimethyl Taurate Copolymer, Xanthan Gum, Isomalt, 1,2-Hexanediol, Caprylyl Glycol, Chlorphenesin, Phenoxyethanol, Tocopherol, Sodium Benzoate, Phenylpropanol, Glyceryl Caprylate, Symphytum Officinale Callus Culture Extract.' appears 1 time(s) in the Ingredients column.\n",
      "The string 'Algae (Seaweed) Extract, Cyclopentasiloxane, Petrolatum, Glyceryl Distearate, Phenyl Trimethicone, Butylene Glycol, Hydrogenated Vegetable Oil, Cholesterol, Butyrospermum Parkii (Shea Butter), Steareth-10, Dimethicone, Glyceryl Stearate Se, Polysilicone-11, Sesamum Indicum (Sesame) Seed Oil, Medicago Sativa (Alfalfa) Seed Powder, Helianthus Annuus (Sunflower) Seedcake, Prunus Amygdalus Dulcis (Sweet Almond) Seed Meal, Eucalyptus Globulus (Eucalyptus) Leaf Oil, Sodium Gluconate, Copper Gluconate, Calcium Gluconate, Magnesium Gluconate, Zinc Gluconate, Tocopheryl Succinate, Niacin, Sesamum Indicum (Sesame) Seed Powder, Water, Citrus Aurantifolia (Lime) Peel Extract, Laminaria Digitata Extract, Crithmum Maritimum Extract, Salicornia Herbacea Extract, Plankton Extract, Chlorella Vulgaris Extract, Glycine Soja (Soybean) Seed Extract, Glycerin, Caffeine, Sea Salt/Maris Sal/Sel Marin, Micrococcus Lysate, Diethylhexyl Succinate, Adenosine Phosphate, Creatine, Hydrolyzed Algin, Isocetyl Stearoyl Stearate, Cetyl Alcohol, Sucrose, Acetyl Hexapeptide-8, Glucose Oxidase, Polyacrylamide, Acetyl Carnitine Hcl, Glucose, Caprylic/Capric Triglyceride, C13-14 Isoparaffin, Tocopheryl Acetate, Tetrahexyldecyl Ascorbate, Sodium Pca, Glycosaminoglycans, Urea, Distearyldimonium Chloride, Dipalmitoyl Hydroxyproline, Sodium Hyaluronate, Laureth-7, Lecithin, Trehalose, Polyquaternium-51, Lactoperoxidase, Hydroxypropyl Cyclodextrin, Cyanocobalamin, Pentylene Glycol, Fragrance, Disodium Edta, Bht, Citronellol, Hydroxycitronellal, Geraniol, Linalool, Limonene, Potassium Sorbate, Phenoxyethanol' appears 0 time(s) in the Ingredients column.\n",
      "The string 'Water, Snail Secretion Filtrate, Phenyl Trimethicone, Dimethicone, Butylene Glycol, Butylene Glycol Dicaprylate/Dicaprate, Orbignya Oleifera Seed Oil, Butyloctyl Salicylate, Cetyl Peg/Ppg-10/1 Dimethicone, Cyclopentasiloxane, Cyclohexasiloxane, Magnesium Sulfate, Polyglyceryl-4 Isostearate, Dimethicone/Vinyl Dimethicone Crosspolymer, Aluminum Hydroxide, Hexyl Laurate, Stearic Acid, Calcium Stearate, Caprylyl Glycol, Triethoxycaprylylsilane, Ethylhexylglycerin, Citrus Medica Limonum (Lemon) Peel Oil, Tocopheryl Acetate, Sorbitan Isostearate, Phenoxyethanol, Citrus Aurantium Bergamia (Bergamot) Fruit Oil, 1,2-Hexanediol, Disodium Edta, Citrus Aurantium Dulcis (Orange) Peel Oil, Citrus Aurantifolia (Lime) Oil, Vitis Vinifera (Grape) Seed Oil, Punica Granatum Seed Oil, Pinus Sylvestris Leaf Oil, Persea Gratissima (Avocado) Oil, Niacinamide, Citrus Grandis (Grapefruit) Peel Oil, Cholesterol, Anthemis Nobilis Flower Water, Lactobacillus/Honeysuckle Flower/Licorice Root/Morus Alba Root/Pueraria Lobata Root/Schizandra Chinensis Fruit/Scutellaria Baicalensis Root/Sophora Japonica Flower Extract Ferment Filtrate, Perfluorohexane, Olea Europaea (Olive) Leaf Extract, Glycerin, Eucalyptus Globulus Leaf Oil, Camellia Sinensis Leaf Extract, Chrysanthemum Indicum Flower Extract, Pueraria Lobata Root Extract, Perfluorodecalin, Morus Alba Fruit Extract, Magnolia Kobus Bark Extract, Glycine Soja (Soybean) Sprout Extract, Diospyros Kaki Leaf Extract, Cinnamomum Cassia Bark Extract, Artemisia Princeps Leaf Extract, Pentafluoropropane, Curcuma Longa (Turmeric) Root Extract, Steareth-20, Hydrolyzed Hyaluronic Acid, Colloidal Oatmeal, Hydrolyzed Silk, Citric Acid, Sodium Benzoate, Potassium Sorbate, Aloe Barbadensis Leaf Extract, N-Hydroxysuccinimide, Hydrolyzed Collagen, Caprylhydroxamic Acid, Tocopherol, Thiamine Hcl, Riboflavin, Retinyl Palmitate, Pantothenic Acid, Palmitoyl Oligopeptide, Niacin, Folic Acid, Chrysin, Carnitine Hcl, Biotin, Ascorbic Acid, Palmitoyl Tetrapeptide-7, Chlorhexidine Digluconate. May Contain: Iron Oxides (Ci 77492, Ci 77491, Ci 77499).' appears 0 time(s) in the Ingredients column.\n",
      "The string 'Water, Saccharomyces/Camellia Sinensis Leaf/Cladosiphon Okamuranus/Rice Ferment Filtrate*, Dimethicone, Propanediol, Glycerin, Diglycerin, Diphenylsiloxy Phenyl Trimethicone, Gold, Belamcanda Chinensis Root Extract, Rosa Multiflora Fruit Extract, Houttuynia Cordata Extract, Sophora Angustifolia Root Extract, Sodium Hyaluronate, Lecithin, Pistacia Lentiscus (Mastic) Gum, Sodium Chloride, Sodium Citrate, Mica, Peg-9 Polydimethylsiloxyethyl Dimethicone, Dimethicone/Peg-10/15 Crosspolymer, Dimethicone/Phenyl Vinyl Dimethicone Crosspolymer, Disodium Edta, Tin Oxide, Titanium Dioxide, Butylene Glycol, Ethylhexylglycerin, Parfum/Fragrance, Alcohol, Phenoxyethanol. *Hadasei-3.' appears 0 time(s) in the Ingredients column.\n",
      "The string 'Water, Glycerin, Caprylic/ Capric Triglyceride, Isopropyl Isostearate, Pseudozyma Epicola/Camellia Sinensis Seed Oil/Glucose/Glycine Soja Meal/Malt Extract/Yeast Extract Ferment Filtrate (Pseudozyma Epicola/Camellia Sinensis Seed Oil/Glucose/Yeast Extract Ferment Filtrate), Stearic Acid, Glyceryl Stearate SE, Cetearyl Alcohol, Pentylene Glycol, Plantago Lanceolata Leaf Extract, Adansonia Digitata Seed Oil, Citrullus Lanatus (Watermelon) Seed Oil, Passiflora Edulis Seed Oil, Schinziophyton Rautanenii Kernel Oil, Sclerocarya Birrea Seed Oil, Polyglyceryl-6 Ximenia Americana Seedate, Sodium Hyaluronate Crosspolymer, Ceteareth-20, Trisodium Ethylenediamine Disuccinate, Sodium Hydroxide, Citric Acid, Carbomer, Xanthan Gum, Caprylyl Glycol, Chlorphenesin, Phenoxyethanol, Ethylhexylglycerin.' appears 0 time(s) in the Ingredients column.\n",
      "The string '100% Unrefined Sclerocraya Birrea (Marula) Kernel Oil.' appears 0 time(s) in the Ingredients column.\n",
      "The string 'Water, Glycerin, Cyclohexasiloxane, Squalane, Bis-Peg-18 Methyl Ether Dimethyl Silane, Sucrose Stearate, Stearyl Alcohol, Peg-8 Stearate, Urea, Myristyl Myristate, Pentaerythrityl Tetraethylhexanoate, Prunus Armeniaca Kernel Oil, Phenoxyethanol, Persea Gratissima Oil, Olea Europaea Oil, Oryza Sativa Bran Oil, Cetyl Alcohol, Glyceryl Stearate, Imperata Cylindrica Root Extract, Stearic Acid, Methylparaben, Chlorphenesin, Palmitic Acid, Disodium Edta, Acrylates/C10-30 Alkyl Acrylate Crosspolymer, Propylparaben, Carbomer, Triethanolamine, Prunus Amygdalus Dulcis Oil, Xanthan Gum, Sodium Hydroxide, Tocopherol, Pseudoalteromonas Ferment Extract, Hydroxypalmitoyl Sphinganine, Caprylyl Glycol.' appears 1 time(s) in the Ingredients column.\n",
      "The string 'Algae (Seaweed) Extract, Mineral Oil, Petrolatum, Glycerin, Isohexadecane, Microcrystalline Wax, Lanolin Alcohol, Citrus Aurantifolia (Lime) Extract, Sesamum Indicum (Sesame) Seed Oil, Eucalyptus Globulus (Eucalyptus) Leaf Oil, Sesamum Indicum (Sesame) Seed Powder, Medicago Sativa (Alfalfa) Seed Powder, Helianthus Annuus (Sunflower) Seedcake, Prunus Amygdalus Dulcis (Sweet Almond) Seed Meal, Sodium Gluconate, Copper Gluconate, Calcium Gluconate, Magnesium Gluconate, Zinc Gluconate, Magnesium Sulfate, Paraffin, Tocopheryl Succinate, Niacin, Water, Beta-Carotene, Decyl Oleate, Aluminum Distearate, Octyldodecanol, Citric Acid, Cyanocobalamin, Magnesium Stearate, Panthenol, Limonene, Geraniol, Linalool, Hydroxycitronellal, Citronellol, Benzyl Salicylate, Citral, Sodium Benzoate, Alcohol Denat., Fragrance.' appears 0 time(s) in the Ingredients column.\n",
      "The string 'Water, Glycerin, Propylene Glycol Dicaprylate/Dicaprate, Pentylene Glycol, Cetearyl Alcohol, Caprylic/Capric Triglyceride, Cetearyl Isononanoate, Betaine, Polymethyl Methacrylate, Steareth-21, Ficus Carica (Fig) Fruit Extract, Lepidium Meyenii Root Extract, Citrus Limon (Lemon) Peel Oil, Cucumis Sativus (Cucumber) Fruit Extract, Algae Extract, Nelumbo Nucifera Flower Extract, Hibiscus Esculentus Fruit Extract, Sodium Hyaluronate, Tocopheryl Acetate, Ascorbyl Tetraisopalmitate, Tocopherol, Behenyl Alcohol, Cetearyl Glucoside, Sorbitol, Dimethicone, Sodium PCA, Caprylyl Glycol, Carbomer, Tromethamine, Cetyl Alcohol, Stearyl Alcohol, Butylene Glycol, Xanthan Gum, Caramel, Citric Acid, Potassium Sorbate, Sorbic Acid, Phenoxyethanol, Limonene, Citral.' appears 0 time(s) in the Ingredients column.\n",
      "The string 'Caprylic/Capric Triglyceride Dicaprylyl Carbonate Squalane Rosa Canina Fruit Oil Oenothera Biennis Oil, Evening Primrose Oil Simmondsia Chinensis Oil, Jojoba Seed Oil Coriandrum Sativum Oil, Coriander Seed Oil Tocopherol Lavandula Angustifolia Oil, Lavender Oil Pelargonium Graveolens Flower Oil Linalool Rosmarinus Officinalis Leaf Oil, Rosemary Leaf Oil Citronellol Geraniol Lavandula Hybrida Oil Cucumis Sativus Extract, Cucumber Fruit Extract Curcuma Longa Extract, Turmeric Root Extract Limonene Citral Sclareolide Rosa Spp, Rose Flower Oil Jasminum Officinale Extract, Jasmine Extract Helianthus Annuus Seed Oil, Sunflower Seed Oil.' appears 1 time(s) in the Ingredients column.\n"
     ]
    },
    {
     "name": "stderr",
     "output_type": "stream",
     "text": [
      "/var/folders/mw/fc5wj4ns76x4xcwycqk0_bt00000gn/T/ipykernel_32309/617219501.py:5: UserWarning: This pattern is interpreted as a regular expression, and has match groups. To actually get the groups, use str.extract.\n",
      "  occ = df[df['Ingredients'].str.contains(string)]\n"
     ]
    },
    {
     "ename": "error",
     "evalue": "multiple repeat at position 463",
     "output_type": "error",
     "traceback": [
      "\u001b[0;31m---------------------------------------------------------------------------\u001b[0m",
      "\u001b[0;31merror\u001b[0m                                     Traceback (most recent call last)",
      "\u001b[0;32m/var/folders/mw/fc5wj4ns76x4xcwycqk0_bt00000gn/T/ipykernel_32309/617219501.py\u001b[0m in \u001b[0;36m<module>\u001b[0;34m\u001b[0m\n\u001b[1;32m      3\u001b[0m \u001b[0;32mfor\u001b[0m \u001b[0mstring\u001b[0m \u001b[0;32min\u001b[0m \u001b[0mdf\u001b[0m\u001b[0;34m[\u001b[0m\u001b[0;34m'Ingredients'\u001b[0m\u001b[0;34m]\u001b[0m\u001b[0;34m:\u001b[0m\u001b[0;34m\u001b[0m\u001b[0;34m\u001b[0m\u001b[0m\n\u001b[1;32m      4\u001b[0m   \u001b[0;31m# Use the `str.contains` method to find the occurrences where the string is found in the Ingredients column\u001b[0m\u001b[0;34m\u001b[0m\u001b[0;34m\u001b[0m\u001b[0m\n\u001b[0;32m----> 5\u001b[0;31m   \u001b[0mocc\u001b[0m \u001b[0;34m=\u001b[0m \u001b[0mdf\u001b[0m\u001b[0;34m[\u001b[0m\u001b[0mdf\u001b[0m\u001b[0;34m[\u001b[0m\u001b[0;34m'Ingredients'\u001b[0m\u001b[0;34m]\u001b[0m\u001b[0;34m.\u001b[0m\u001b[0mstr\u001b[0m\u001b[0;34m.\u001b[0m\u001b[0mcontains\u001b[0m\u001b[0;34m(\u001b[0m\u001b[0mstring\u001b[0m\u001b[0;34m)\u001b[0m\u001b[0;34m]\u001b[0m\u001b[0;34m\u001b[0m\u001b[0;34m\u001b[0m\u001b[0m\n\u001b[0m\u001b[1;32m      6\u001b[0m \u001b[0;34m\u001b[0m\u001b[0m\n\u001b[1;32m      7\u001b[0m   \u001b[0;31m# Use the `len` function to calculate the number of occurrences\u001b[0m\u001b[0;34m\u001b[0m\u001b[0;34m\u001b[0m\u001b[0m\n",
      "\u001b[0;32m~/opt/anaconda3/lib/python3.9/site-packages/pandas/core/strings/accessor.py\u001b[0m in \u001b[0;36mwrapper\u001b[0;34m(self, *args, **kwargs)\u001b[0m\n\u001b[1;32m    123\u001b[0m                 )\n\u001b[1;32m    124\u001b[0m                 \u001b[0;32mraise\u001b[0m \u001b[0mTypeError\u001b[0m\u001b[0;34m(\u001b[0m\u001b[0mmsg\u001b[0m\u001b[0;34m)\u001b[0m\u001b[0;34m\u001b[0m\u001b[0;34m\u001b[0m\u001b[0m\n\u001b[0;32m--> 125\u001b[0;31m             \u001b[0;32mreturn\u001b[0m \u001b[0mfunc\u001b[0m\u001b[0;34m(\u001b[0m\u001b[0mself\u001b[0m\u001b[0;34m,\u001b[0m \u001b[0;34m*\u001b[0m\u001b[0margs\u001b[0m\u001b[0;34m,\u001b[0m \u001b[0;34m**\u001b[0m\u001b[0mkwargs\u001b[0m\u001b[0;34m)\u001b[0m\u001b[0;34m\u001b[0m\u001b[0;34m\u001b[0m\u001b[0m\n\u001b[0m\u001b[1;32m    126\u001b[0m \u001b[0;34m\u001b[0m\u001b[0m\n\u001b[1;32m    127\u001b[0m         \u001b[0mwrapper\u001b[0m\u001b[0;34m.\u001b[0m\u001b[0m__name__\u001b[0m \u001b[0;34m=\u001b[0m \u001b[0mfunc_name\u001b[0m\u001b[0;34m\u001b[0m\u001b[0;34m\u001b[0m\u001b[0m\n",
      "\u001b[0;32m~/opt/anaconda3/lib/python3.9/site-packages/pandas/core/strings/accessor.py\u001b[0m in \u001b[0;36mcontains\u001b[0;34m(self, pat, case, flags, na, regex)\u001b[0m\n\u001b[1;32m   1212\u001b[0m         \u001b[0mdtype\u001b[0m\u001b[0;34m:\u001b[0m \u001b[0mbool\u001b[0m\u001b[0;34m\u001b[0m\u001b[0;34m\u001b[0m\u001b[0m\n\u001b[1;32m   1213\u001b[0m         \"\"\"\n\u001b[0;32m-> 1214\u001b[0;31m         \u001b[0;32mif\u001b[0m \u001b[0mregex\u001b[0m \u001b[0;32mand\u001b[0m \u001b[0mre\u001b[0m\u001b[0;34m.\u001b[0m\u001b[0mcompile\u001b[0m\u001b[0;34m(\u001b[0m\u001b[0mpat\u001b[0m\u001b[0;34m)\u001b[0m\u001b[0;34m.\u001b[0m\u001b[0mgroups\u001b[0m\u001b[0;34m:\u001b[0m\u001b[0;34m\u001b[0m\u001b[0;34m\u001b[0m\u001b[0m\n\u001b[0m\u001b[1;32m   1215\u001b[0m             warnings.warn(\n\u001b[1;32m   1216\u001b[0m                 \u001b[0;34m\"This pattern is interpreted as a regular expression, and has \"\u001b[0m\u001b[0;34m\u001b[0m\u001b[0;34m\u001b[0m\u001b[0m\n",
      "\u001b[0;32m~/opt/anaconda3/lib/python3.9/re.py\u001b[0m in \u001b[0;36mcompile\u001b[0;34m(pattern, flags)\u001b[0m\n\u001b[1;32m    250\u001b[0m \u001b[0;32mdef\u001b[0m \u001b[0mcompile\u001b[0m\u001b[0;34m(\u001b[0m\u001b[0mpattern\u001b[0m\u001b[0;34m,\u001b[0m \u001b[0mflags\u001b[0m\u001b[0;34m=\u001b[0m\u001b[0;36m0\u001b[0m\u001b[0;34m)\u001b[0m\u001b[0;34m:\u001b[0m\u001b[0;34m\u001b[0m\u001b[0;34m\u001b[0m\u001b[0m\n\u001b[1;32m    251\u001b[0m     \u001b[0;34m\"Compile a regular expression pattern, returning a Pattern object.\"\u001b[0m\u001b[0;34m\u001b[0m\u001b[0;34m\u001b[0m\u001b[0m\n\u001b[0;32m--> 252\u001b[0;31m     \u001b[0;32mreturn\u001b[0m \u001b[0m_compile\u001b[0m\u001b[0;34m(\u001b[0m\u001b[0mpattern\u001b[0m\u001b[0;34m,\u001b[0m \u001b[0mflags\u001b[0m\u001b[0;34m)\u001b[0m\u001b[0;34m\u001b[0m\u001b[0;34m\u001b[0m\u001b[0m\n\u001b[0m\u001b[1;32m    253\u001b[0m \u001b[0;34m\u001b[0m\u001b[0m\n\u001b[1;32m    254\u001b[0m \u001b[0;32mdef\u001b[0m \u001b[0mpurge\u001b[0m\u001b[0;34m(\u001b[0m\u001b[0;34m)\u001b[0m\u001b[0;34m:\u001b[0m\u001b[0;34m\u001b[0m\u001b[0;34m\u001b[0m\u001b[0m\n",
      "\u001b[0;32m~/opt/anaconda3/lib/python3.9/re.py\u001b[0m in \u001b[0;36m_compile\u001b[0;34m(pattern, flags)\u001b[0m\n\u001b[1;32m    302\u001b[0m     \u001b[0;32mif\u001b[0m \u001b[0;32mnot\u001b[0m \u001b[0msre_compile\u001b[0m\u001b[0;34m.\u001b[0m\u001b[0misstring\u001b[0m\u001b[0;34m(\u001b[0m\u001b[0mpattern\u001b[0m\u001b[0;34m)\u001b[0m\u001b[0;34m:\u001b[0m\u001b[0;34m\u001b[0m\u001b[0;34m\u001b[0m\u001b[0m\n\u001b[1;32m    303\u001b[0m         \u001b[0;32mraise\u001b[0m \u001b[0mTypeError\u001b[0m\u001b[0;34m(\u001b[0m\u001b[0;34m\"first argument must be string or compiled pattern\"\u001b[0m\u001b[0;34m)\u001b[0m\u001b[0;34m\u001b[0m\u001b[0;34m\u001b[0m\u001b[0m\n\u001b[0;32m--> 304\u001b[0;31m     \u001b[0mp\u001b[0m \u001b[0;34m=\u001b[0m \u001b[0msre_compile\u001b[0m\u001b[0;34m.\u001b[0m\u001b[0mcompile\u001b[0m\u001b[0;34m(\u001b[0m\u001b[0mpattern\u001b[0m\u001b[0;34m,\u001b[0m \u001b[0mflags\u001b[0m\u001b[0;34m)\u001b[0m\u001b[0;34m\u001b[0m\u001b[0;34m\u001b[0m\u001b[0m\n\u001b[0m\u001b[1;32m    305\u001b[0m     \u001b[0;32mif\u001b[0m \u001b[0;32mnot\u001b[0m \u001b[0;34m(\u001b[0m\u001b[0mflags\u001b[0m \u001b[0;34m&\u001b[0m \u001b[0mDEBUG\u001b[0m\u001b[0;34m)\u001b[0m\u001b[0;34m:\u001b[0m\u001b[0;34m\u001b[0m\u001b[0;34m\u001b[0m\u001b[0m\n\u001b[1;32m    306\u001b[0m         \u001b[0;32mif\u001b[0m \u001b[0mlen\u001b[0m\u001b[0;34m(\u001b[0m\u001b[0m_cache\u001b[0m\u001b[0;34m)\u001b[0m \u001b[0;34m>=\u001b[0m \u001b[0m_MAXCACHE\u001b[0m\u001b[0;34m:\u001b[0m\u001b[0;34m\u001b[0m\u001b[0;34m\u001b[0m\u001b[0m\n",
      "\u001b[0;32m~/opt/anaconda3/lib/python3.9/sre_compile.py\u001b[0m in \u001b[0;36mcompile\u001b[0;34m(p, flags)\u001b[0m\n\u001b[1;32m    786\u001b[0m     \u001b[0;32mif\u001b[0m \u001b[0misstring\u001b[0m\u001b[0;34m(\u001b[0m\u001b[0mp\u001b[0m\u001b[0;34m)\u001b[0m\u001b[0;34m:\u001b[0m\u001b[0;34m\u001b[0m\u001b[0;34m\u001b[0m\u001b[0m\n\u001b[1;32m    787\u001b[0m         \u001b[0mpattern\u001b[0m \u001b[0;34m=\u001b[0m \u001b[0mp\u001b[0m\u001b[0;34m\u001b[0m\u001b[0;34m\u001b[0m\u001b[0m\n\u001b[0;32m--> 788\u001b[0;31m         \u001b[0mp\u001b[0m \u001b[0;34m=\u001b[0m \u001b[0msre_parse\u001b[0m\u001b[0;34m.\u001b[0m\u001b[0mparse\u001b[0m\u001b[0;34m(\u001b[0m\u001b[0mp\u001b[0m\u001b[0;34m,\u001b[0m \u001b[0mflags\u001b[0m\u001b[0;34m)\u001b[0m\u001b[0;34m\u001b[0m\u001b[0;34m\u001b[0m\u001b[0m\n\u001b[0m\u001b[1;32m    789\u001b[0m     \u001b[0;32melse\u001b[0m\u001b[0;34m:\u001b[0m\u001b[0;34m\u001b[0m\u001b[0;34m\u001b[0m\u001b[0m\n\u001b[1;32m    790\u001b[0m         \u001b[0mpattern\u001b[0m \u001b[0;34m=\u001b[0m \u001b[0;32mNone\u001b[0m\u001b[0;34m\u001b[0m\u001b[0;34m\u001b[0m\u001b[0m\n",
      "\u001b[0;32m~/opt/anaconda3/lib/python3.9/sre_parse.py\u001b[0m in \u001b[0;36mparse\u001b[0;34m(str, flags, state)\u001b[0m\n\u001b[1;32m    953\u001b[0m \u001b[0;34m\u001b[0m\u001b[0m\n\u001b[1;32m    954\u001b[0m     \u001b[0;32mtry\u001b[0m\u001b[0;34m:\u001b[0m\u001b[0;34m\u001b[0m\u001b[0;34m\u001b[0m\u001b[0m\n\u001b[0;32m--> 955\u001b[0;31m         \u001b[0mp\u001b[0m \u001b[0;34m=\u001b[0m \u001b[0m_parse_sub\u001b[0m\u001b[0;34m(\u001b[0m\u001b[0msource\u001b[0m\u001b[0;34m,\u001b[0m \u001b[0mstate\u001b[0m\u001b[0;34m,\u001b[0m \u001b[0mflags\u001b[0m \u001b[0;34m&\u001b[0m \u001b[0mSRE_FLAG_VERBOSE\u001b[0m\u001b[0;34m,\u001b[0m \u001b[0;36m0\u001b[0m\u001b[0;34m)\u001b[0m\u001b[0;34m\u001b[0m\u001b[0;34m\u001b[0m\u001b[0m\n\u001b[0m\u001b[1;32m    956\u001b[0m     \u001b[0;32mexcept\u001b[0m \u001b[0mVerbose\u001b[0m\u001b[0;34m:\u001b[0m\u001b[0;34m\u001b[0m\u001b[0;34m\u001b[0m\u001b[0m\n\u001b[1;32m    957\u001b[0m         \u001b[0;31m# the VERBOSE flag was switched on inside the pattern.  to be\u001b[0m\u001b[0;34m\u001b[0m\u001b[0;34m\u001b[0m\u001b[0m\n",
      "\u001b[0;32m~/opt/anaconda3/lib/python3.9/sre_parse.py\u001b[0m in \u001b[0;36m_parse_sub\u001b[0;34m(source, state, verbose, nested)\u001b[0m\n\u001b[1;32m    442\u001b[0m     \u001b[0mstart\u001b[0m \u001b[0;34m=\u001b[0m \u001b[0msource\u001b[0m\u001b[0;34m.\u001b[0m\u001b[0mtell\u001b[0m\u001b[0;34m(\u001b[0m\u001b[0;34m)\u001b[0m\u001b[0;34m\u001b[0m\u001b[0;34m\u001b[0m\u001b[0m\n\u001b[1;32m    443\u001b[0m     \u001b[0;32mwhile\u001b[0m \u001b[0;32mTrue\u001b[0m\u001b[0;34m:\u001b[0m\u001b[0;34m\u001b[0m\u001b[0;34m\u001b[0m\u001b[0m\n\u001b[0;32m--> 444\u001b[0;31m         itemsappend(_parse(source, state, verbose, nested + 1,\n\u001b[0m\u001b[1;32m    445\u001b[0m                            not nested and not items))\n\u001b[1;32m    446\u001b[0m         \u001b[0;32mif\u001b[0m \u001b[0;32mnot\u001b[0m \u001b[0msourcematch\u001b[0m\u001b[0;34m(\u001b[0m\u001b[0;34m\"|\"\u001b[0m\u001b[0;34m)\u001b[0m\u001b[0;34m:\u001b[0m\u001b[0;34m\u001b[0m\u001b[0;34m\u001b[0m\u001b[0m\n",
      "\u001b[0;32m~/opt/anaconda3/lib/python3.9/sre_parse.py\u001b[0m in \u001b[0;36m_parse\u001b[0;34m(source, state, verbose, nested, first)\u001b[0m\n\u001b[1;32m    670\u001b[0m                                    source.tell() - here + len(this))\n\u001b[1;32m    671\u001b[0m             \u001b[0;32mif\u001b[0m \u001b[0mitem\u001b[0m\u001b[0;34m[\u001b[0m\u001b[0;36m0\u001b[0m\u001b[0;34m]\u001b[0m\u001b[0;34m[\u001b[0m\u001b[0;36m0\u001b[0m\u001b[0;34m]\u001b[0m \u001b[0;32min\u001b[0m \u001b[0m_REPEATCODES\u001b[0m\u001b[0;34m:\u001b[0m\u001b[0;34m\u001b[0m\u001b[0;34m\u001b[0m\u001b[0m\n\u001b[0;32m--> 672\u001b[0;31m                 raise source.error(\"multiple repeat\",\n\u001b[0m\u001b[1;32m    673\u001b[0m                                    source.tell() - here + len(this))\n\u001b[1;32m    674\u001b[0m             \u001b[0;32mif\u001b[0m \u001b[0mitem\u001b[0m\u001b[0;34m[\u001b[0m\u001b[0;36m0\u001b[0m\u001b[0;34m]\u001b[0m\u001b[0;34m[\u001b[0m\u001b[0;36m0\u001b[0m\u001b[0;34m]\u001b[0m \u001b[0;32mis\u001b[0m \u001b[0mSUBPATTERN\u001b[0m\u001b[0;34m:\u001b[0m\u001b[0;34m\u001b[0m\u001b[0;34m\u001b[0m\u001b[0m\n",
      "\u001b[0;31merror\u001b[0m: multiple repeat at position 463"
     ]
    }
   ],
   "source": [
    "\n",
    "string = ['Ethanolamine', 'Oxybenzone', 'Resorcinol', 'Formaldehyde', 'Diethanol', 'Silane', 'Siloxane', 'Octinaxate']\n",
    "\n",
    "for string in df['Ingredients']:\n",
    "  # Use the `str.contains` method to find the occurrences where the string is found in the Ingredients column\n",
    "  occ = df[df['Ingredients'].str.contains(string)]\n",
    "  \n",
    "  # Use the `len` function to calculate the number of occurrences\n",
    "  num_occ = len(occ)\n",
    "  \n",
    "  # Print the number of occurrences\n",
    "  print(f\"The string '{string}' appears {num_occ} time(s) in the Ingredients column.\")"
   ]
  },
  {
   "cell_type": "code",
   "execution_count": null,
   "id": "82feb162",
   "metadata": {},
   "outputs": [
    {
     "name": "stdout",
     "output_type": "stream",
     "text": [
      "    Ingredients\n",
      "0  Ethanolamine\n",
      "  Ingredients\n",
      "1  Oxybenzone\n",
      "  Ingredients\n",
      "2  Resorcinol\n",
      "    Ingredients\n",
      "3  Formaldehyde\n",
      "  Ingredients\n",
      "4   Diethanol\n",
      "  Ingredients\n",
      "5      Silane\n",
      "  Ingredients\n",
      "6    Siloxane\n",
      "  Ingredients\n",
      "7  Octinaxate\n"
     ]
    }
   ],
   "source": [
    "\n",
    "# Create a dataframe with sample data\n",
    "\n",
    "\n",
    "# Create a dictionary with words as keys and variable names as values\n",
    "words = {'Ethanolamine': 'ethanolamine_occ', 'Oxybenzone': 'oxybenzone_occ', 'Resorcinol': 'resorcinol_occ', 'Formaldehyde': 'formaldehyde_occ', 'Diethanol': 'diethanolamine_occ', 'Silane': 'silanes_occ', 'Siloxane': 'siloxanes_occ', 'Octinaxate': 'octinaxate_occ'}\n",
    "\n",
    "# Iterate over the dictionary\n",
    "for word, var in words.items():\n",
    "  # Use the `str.contains` method to find the occurrences where the word is found in the Ingredients column\n",
    "  # and create a variable with the corresponding name and value\n",
    "  globals()[var] = df[df['Ingredients'].str.contains(word)]\n",
    "\n",
    "# Print the variables to check their values\n",
    "print(ethanolamine_occ)\n",
    "print(oxybenzone_occ)\n",
    "print(resorcinol_occ)\n",
    "print(formaldehyde_occ)\n",
    "print(diethanolamine_occ)\n",
    "print(silanes_occ)\n",
    "print(siloxanes_occ)\n",
    "print(octinaxate_occ)\n"
   ]
  },
  {
   "cell_type": "code",
   "execution_count": null,
   "id": "5906af08",
   "metadata": {},
   "outputs": [],
   "source": []
  },
  {
   "cell_type": "markdown",
   "id": "43ec045e",
   "metadata": {},
   "source": [
    "### Make a loop that will run the same function on other toxins\n",
    "#### Store the toxins in a list\n",
    "- master list\n",
    "- hazard levels\n",
    "    - low\n",
    "    - moderate\n",
    "    - high\n",
    "#### Use a loop to print the produucts that contains the toxins"
   ]
  },
  {
   "cell_type": "code",
   "execution_count": null,
   "id": "33861591",
   "metadata": {},
   "outputs": [
    {
     "name": "stdout",
     "output_type": "stream",
     "text": [
      "Int64Index([  66,  120,  158,  196,  214,  215,  226,  245,  344,  442,  730,\n",
      "             753,  810,  887,  895,  921, 1064, 1197, 1252, 1290, 1309, 1326,\n",
      "            1327, 1340, 1342, 1365, 1376, 1416, 1454],\n",
      "           dtype='int64')\n",
      "66      CC Crème High Definition Radiance Face Cream S...\n",
      "120        Bio-Performance Advanced Super Restoring Cream\n",
      "158      Skin Perfecting Lotion - Blemish Prone/Oily Skin\n",
      "196                    Bio-Performance Glow Revival Cream\n",
      "214                                   BB Crème au Ginseng\n",
      "215                      Black Label Detox BB Beauty Balm\n",
      "226                     Bio-Performance LiftDynamic Cream\n",
      "245                            Ibuki Beauty Sleeping Mask\n",
      "344                Benefiance Extra Creamy Cleansing Foam\n",
      "442                          Pureness Deep Cleansing Foam\n",
      "730           Therapeutic Sulfur Mask Acne Treatment Mask\n",
      "753                     Bio-Performance LiftDynamic Serum\n",
      "810            REVEAL Concentrated Color Correcting Drops\n",
      "887                                             Clay Mask\n",
      "895                                       Crazy for Clay!\n",
      "921     Charcoal Pore Pudding Intensive Wash-Off Treat...\n",
      "1064                                        Peel-off Mask\n",
      "1197                           Ibuki Eye Correcting Cream\n",
      "1252                         Essential Energy Eye Definer\n",
      "1290                BB Eye Cream with Soothing Cornflower\n",
      "1309      Ultimate Sun Protection Lotion WetForce SPF 50+\n",
      "1326    Ultimate Sun Protection Cream Broad Spectrum S...\n",
      "1327    MOISTURE BOUND Tinted Treatment Moisturizer SP...\n",
      "1340    Future Solution LX Total Protective Cream Broa...\n",
      "1342            Sports BB Broad Spectrum SPF 50+ WetForce\n",
      "1365    Ultimate Sun Protection Lotion WetForce SPF 50...\n",
      "1376    CC Red Correct Automatic Perfector Broad Spect...\n",
      "1416    Super Fluid UV Mineral Defense Titanium Dioxid...\n",
      "1454    Future Solution LX Total Protective Emulsion B...\n",
      "Name: Name, dtype: object\n"
     ]
    },
    {
     "name": "stderr",
     "output_type": "stream",
     "text": [
      "UsageError: Line magic function `%%` not found.\n"
     ]
    }
   ],
   "source": [
    "\n",
    "# for var in var_list:\n",
    "#     var_index = var.index\n",
    "#     var_data = df.loca[var_index] \n",
    "#     print(var_data.iloc[:, 2])\n",
    "    \n",
    "    \n",
    "# Create a list of variables to use in the loop\n",
    "\n",
    "# Iterate over the list of variables\n",
    "# for variable in var_list:\n",
    "#   # Find the index of the rows containing the current variable\n",
    "talc_index = talc_occ.index\n",
    "\n",
    "  # Print the index\n",
    "print(talc_index)\n",
    "\n",
    "  # Get the data for these rows\n",
    "talc_data = df.loc[talc_index]\n",
    "\n",
    "  # Print the data for these rows\n",
    "print(talc_data.iloc[:,2])\n",
    "\n",
    "%% cap \n",
    "# print 'stuff'\n",
    "with open('output.txt', 'w') as f:\n",
    "    f.write(cap.stdout)\n",
    "    \n",
    "with open('/path/to/capture.txt') as f:\n",
    "    f.write(cap.stdout)"
   ]
  },
  {
   "cell_type": "code",
   "execution_count": null,
   "id": "bcda84a9",
   "metadata": {},
   "outputs": [],
   "source": [
    "master_list = [\n",
    "    silanes_occ, oxybenzone_occ, siloxanes_occ, resorcinol_occ, ethanolamine_occ, formaldehyde_occ, diethanolamine_occ, octinaxate_occ,\n",
    "    parfum_occ, fragrance_occ, triclosan_occ, octinoxates_occ, homosalate_occ, teflon_occ,\n",
    "    talc_occ, parabens_occ, glycol_occ]\n",
    "\n",
    "low_list = [\n",
    "    silanes_occ, oxybenzone_occ, siloxanes_occ, resorcinol_occ, ethanolamine_occ, formaldehyde_occ, diethanolamine_occ, octinaxate_occ,\n",
    "    ]\n",
    "\n",
    "moderate_list = [\n",
    "    parfum_occ, fragrance_occ, triclosan_occ, octinoxates_occ, homosalate_occ, teflon_occ,\n",
    "    ]\n",
    "\n",
    "high_list = [\n",
    "    talc_occ, parabens_occ, glycol_occ\n",
    "]"
   ]
  },
  {
   "cell_type": "markdown",
   "id": "854db081",
   "metadata": {},
   "source": [
    "### Add a column that tags the toxcity of the product:\n",
    "\n",
    "    - Low\n",
    "    - Medium\n",
    "    - High"
   ]
  },
  {
   "cell_type": "code",
   "execution_count": null,
   "id": "be6aed79",
   "metadata": {},
   "outputs": [
    {
     "ename": "",
     "evalue": "",
     "output_type": "error",
     "traceback": [
      "\u001b[1;31mRunning cells with 'Python 3.x' requires ipykernel package.\n",
      "\u001b[1;31mRun the following command to install 'ipykernel' into the Python environment. \n",
      "\u001b[1;31mCommand: '/usr/bin/python3 -m pip install ipykernel -U --user --force-reinstall'"
     ]
    }
   ],
   "source": []
  },
  {
   "cell_type": "markdown",
   "id": "a7f65331",
   "metadata": {},
   "source": [
    "### Export the results to a s CSV file that has the new toxicity column to processed"
   ]
  }
 ],
 "metadata": {
  "kernelspec": {
   "display_name": "Python 3.9.13 ('base')",
   "language": "python",
   "name": "python3"
  },
  "language_info": {
   "codemirror_mode": {
    "name": "ipython",
    "version": 3
   },
   "file_extension": ".py",
   "mimetype": "text/x-python",
   "name": "python",
   "nbconvert_exporter": "python",
   "pygments_lexer": "ipython3",
   "version": "3.9.13"
  },
  "vscode": {
   "interpreter": {
    "hash": "0b5c61de2e429f9752d8dbc011c1d8d05e3d8719ce4f9a2a549c70706b4985bf"
   }
  }
 },
 "nbformat": 4,
 "nbformat_minor": 5
}
