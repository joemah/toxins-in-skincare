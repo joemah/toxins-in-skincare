{
 "cells": [
  {
   "cell_type": "markdown",
   "metadata": {},
   "source": [
    "## This notebook will utilize the dynamic and interactive library [Plotly](https://plotly.com/)\n",
    "\n",
    "-> During wesbite development, [Docpane](https://docs.datapane.com/) will be used to display the interactive plots in the website"
   ]
  },
  {
   "cell_type": "code",
   "execution_count": 30,
   "metadata": {},
   "outputs": [],
   "source": [
    "import pandas as pd\n",
    "import numpy as np\n",
    "import seaborn as sns\n",
    "import matplotlib.pyplot as plt\n",
    "import matplotlib.ticker as ticker\n",
    "%matplotlib inline\n",
    "import scipy as sp\n",
    "\n",
    "import plotly.express as px\n",
    "import plotly.graph_objs as go\n",
    "import markdown"
   ]
  },
  {
   "cell_type": "code",
   "execution_count": 31,
   "metadata": {},
   "outputs": [
    {
     "data": {
      "text/html": [
       "<div>\n",
       "<style scoped>\n",
       "    .dataframe tbody tr th:only-of-type {\n",
       "        vertical-align: middle;\n",
       "    }\n",
       "\n",
       "    .dataframe tbody tr th {\n",
       "        vertical-align: top;\n",
       "    }\n",
       "\n",
       "    .dataframe thead th {\n",
       "        text-align: right;\n",
       "    }\n",
       "</style>\n",
       "<table border=\"1\" class=\"dataframe\">\n",
       "  <thead>\n",
       "    <tr style=\"text-align: right;\">\n",
       "      <th></th>\n",
       "      <th>Label</th>\n",
       "      <th>Brand</th>\n",
       "      <th>Name</th>\n",
       "      <th>Price</th>\n",
       "      <th>Rank</th>\n",
       "      <th>Ingredients</th>\n",
       "      <th>Combination</th>\n",
       "      <th>Dry</th>\n",
       "      <th>Normal</th>\n",
       "      <th>Oily</th>\n",
       "      <th>Sensitive</th>\n",
       "    </tr>\n",
       "  </thead>\n",
       "  <tbody>\n",
       "    <tr>\n",
       "      <th>0</th>\n",
       "      <td>Moisturizer</td>\n",
       "      <td>LA MER</td>\n",
       "      <td>Crème de la Mer</td>\n",
       "      <td>175</td>\n",
       "      <td>4.1</td>\n",
       "      <td>Algae (Seaweed) Extract, Mineral Oil, Petrolat...</td>\n",
       "      <td>1</td>\n",
       "      <td>1</td>\n",
       "      <td>1</td>\n",
       "      <td>1</td>\n",
       "      <td>1</td>\n",
       "    </tr>\n",
       "    <tr>\n",
       "      <th>1</th>\n",
       "      <td>Moisturizer</td>\n",
       "      <td>SK-II</td>\n",
       "      <td>Facial Treatment Essence</td>\n",
       "      <td>179</td>\n",
       "      <td>4.1</td>\n",
       "      <td>Galactomyces Ferment Filtrate (Pitera), Butyle...</td>\n",
       "      <td>1</td>\n",
       "      <td>1</td>\n",
       "      <td>1</td>\n",
       "      <td>1</td>\n",
       "      <td>1</td>\n",
       "    </tr>\n",
       "    <tr>\n",
       "      <th>2</th>\n",
       "      <td>Moisturizer</td>\n",
       "      <td>DRUNK ELEPHANT</td>\n",
       "      <td>Protini™ Polypeptide Cream</td>\n",
       "      <td>68</td>\n",
       "      <td>4.4</td>\n",
       "      <td>Water, Dicaprylyl Carbonate, Glycerin, Ceteary...</td>\n",
       "      <td>1</td>\n",
       "      <td>1</td>\n",
       "      <td>1</td>\n",
       "      <td>1</td>\n",
       "      <td>0</td>\n",
       "    </tr>\n",
       "    <tr>\n",
       "      <th>3</th>\n",
       "      <td>Moisturizer</td>\n",
       "      <td>LA MER</td>\n",
       "      <td>The Moisturizing Soft Cream</td>\n",
       "      <td>175</td>\n",
       "      <td>3.8</td>\n",
       "      <td>Algae (Seaweed) Extract, Cyclopentasiloxane, P...</td>\n",
       "      <td>1</td>\n",
       "      <td>1</td>\n",
       "      <td>1</td>\n",
       "      <td>1</td>\n",
       "      <td>1</td>\n",
       "    </tr>\n",
       "    <tr>\n",
       "      <th>4</th>\n",
       "      <td>Moisturizer</td>\n",
       "      <td>IT COSMETICS</td>\n",
       "      <td>Your Skin But Better™ CC+™ Cream with SPF 50+</td>\n",
       "      <td>38</td>\n",
       "      <td>4.1</td>\n",
       "      <td>Water, Snail Secretion Filtrate, Phenyl Trimet...</td>\n",
       "      <td>1</td>\n",
       "      <td>1</td>\n",
       "      <td>1</td>\n",
       "      <td>1</td>\n",
       "      <td>1</td>\n",
       "    </tr>\n",
       "  </tbody>\n",
       "</table>\n",
       "</div>"
      ],
      "text/plain": [
       "         Label           Brand                                           Name  \\\n",
       "0  Moisturizer          LA MER                                Crème de la Mer   \n",
       "1  Moisturizer           SK-II                       Facial Treatment Essence   \n",
       "2  Moisturizer  DRUNK ELEPHANT                     Protini™ Polypeptide Cream   \n",
       "3  Moisturizer          LA MER                    The Moisturizing Soft Cream   \n",
       "4  Moisturizer    IT COSMETICS  Your Skin But Better™ CC+™ Cream with SPF 50+   \n",
       "\n",
       "   Price  Rank                                        Ingredients  \\\n",
       "0    175   4.1  Algae (Seaweed) Extract, Mineral Oil, Petrolat...   \n",
       "1    179   4.1  Galactomyces Ferment Filtrate (Pitera), Butyle...   \n",
       "2     68   4.4  Water, Dicaprylyl Carbonate, Glycerin, Ceteary...   \n",
       "3    175   3.8  Algae (Seaweed) Extract, Cyclopentasiloxane, P...   \n",
       "4     38   4.1  Water, Snail Secretion Filtrate, Phenyl Trimet...   \n",
       "\n",
       "   Combination  Dry  Normal  Oily  Sensitive  \n",
       "0            1    1       1     1          1  \n",
       "1            1    1       1     1          1  \n",
       "2            1    1       1     1          0  \n",
       "3            1    1       1     1          1  \n",
       "4            1    1       1     1          1  "
      ]
     },
     "execution_count": 31,
     "metadata": {},
     "output_type": "execute_result"
    }
   ],
   "source": [
    "df = pd.read_csv('../data/raw/cosmetics.csv')\n",
    "df.head()"
   ]
  },
  {
   "cell_type": "markdown",
   "metadata": {},
   "source": [
    "### Circos graph used to visualize the relationship between the high end brand companies that utilize"
   ]
  },
  {
   "cell_type": "code",
   "execution_count": 32,
   "metadata": {},
   "outputs": [
    {
     "ename": "NameError",
     "evalue": "name 'circos' is not defined",
     "output_type": "error",
     "traceback": [
      "\u001b[0;31m---------------------------------------------------------------------------\u001b[0m",
      "\u001b[0;31mNameError\u001b[0m                                 Traceback (most recent call last)",
      "\u001b[0;32m/var/folders/mw/fc5wj4ns76x4xcwycqk0_bt00000gn/T/ipykernel_54274/605286188.py\u001b[0m in \u001b[0;36m<module>\u001b[0;34m\u001b[0m\n\u001b[0;32m----> 1\u001b[0;31m \u001b[0mc\u001b[0m \u001b[0;34m=\u001b[0m \u001b[0mcircos\u001b[0m\u001b[0;34m.\u001b[0m\u001b[0mCircos\u001b[0m\u001b[0;34m(\u001b[0m\u001b[0;34m)\u001b[0m\u001b[0;34m\u001b[0m\u001b[0;34m\u001b[0m\u001b[0m\n\u001b[0m\u001b[1;32m      2\u001b[0m \u001b[0mc\u001b[0m\u001b[0;34m.\u001b[0m\u001b[0mtrack\u001b[0m\u001b[0;34m(\u001b[0m\u001b[0;34m\"data\"\u001b[0m\u001b[0;34m,\u001b[0m \u001b[0;34m\"../references/clean_products.txt\"\u001b[0m\u001b[0;34m)\u001b[0m\u001b[0;34m\u001b[0m\u001b[0;34m\u001b[0m\u001b[0m\n\u001b[1;32m      3\u001b[0m \u001b[0mc\u001b[0m\u001b[0;34m.\u001b[0m\u001b[0mplot\u001b[0m\u001b[0;34m(\u001b[0m\u001b[0;34m\"circos.png\"\u001b[0m\u001b[0;34m,\u001b[0m \u001b[0mdpi\u001b[0m\u001b[0;34m=\u001b[0m\u001b[0;36m150\u001b[0m\u001b[0;34m)\u001b[0m\u001b[0;34m\u001b[0m\u001b[0;34m\u001b[0m\u001b[0m\n",
      "\u001b[0;31mNameError\u001b[0m: name 'circos' is not defined"
     ]
    }
   ],
   "source": [
    "c = circos.Circos()\n",
    "c.track(\"data\", \"../references/clean_products.txt\")\n",
    "c.plot(\"circos.png\", dpi=150)"
   ]
  },
  {
   "cell_type": "markdown",
   "metadata": {},
   "source": [
    "### First we need to create a mini dataframe that stores all of the categories (low, moderate, high) using the generated txt [files](../references) "
   ]
  },
  {
   "cell_type": "markdown",
   "metadata": {},
   "source": []
  },
  {
   "cell_type": "code",
   "execution_count": 42,
   "metadata": {},
   "outputs": [
    {
     "data": {
      "text/html": [
       "<div>\n",
       "<style scoped>\n",
       "    .dataframe tbody tr th:only-of-type {\n",
       "        vertical-align: middle;\n",
       "    }\n",
       "\n",
       "    .dataframe tbody tr th {\n",
       "        vertical-align: top;\n",
       "    }\n",
       "\n",
       "    .dataframe thead th {\n",
       "        text-align: right;\n",
       "    }\n",
       "</style>\n",
       "<table border=\"1\" class=\"dataframe\">\n",
       "  <thead>\n",
       "    <tr style=\"text-align: right;\">\n",
       "      <th></th>\n",
       "      <th>Toxin</th>\n",
       "      <th>Product</th>\n",
       "    </tr>\n",
       "  </thead>\n",
       "  <tbody>\n",
       "    <tr>\n",
       "      <th>0</th>\n",
       "      <td>Ethanolamine</td>\n",
       "      <td>No products found</td>\n",
       "    </tr>\n",
       "    <tr>\n",
       "      <th>1</th>\n",
       "      <td>Oxybenzone</td>\n",
       "      <td>No products found</td>\n",
       "    </tr>\n",
       "    <tr>\n",
       "      <th>3</th>\n",
       "      <td>Oxybenzone</td>\n",
       "      <td>Camera Ready CC Cream Broad Spectrum SPF 30 Da...</td>\n",
       "    </tr>\n",
       "    <tr>\n",
       "      <th>4</th>\n",
       "      <td>Oxybenzone</td>\n",
       "      <td>Lingerie de Peau BB Cream</td>\n",
       "    </tr>\n",
       "    <tr>\n",
       "      <th>5</th>\n",
       "      <td>Oxybenzone</td>\n",
       "      <td>Exfoliating Scrub</td>\n",
       "    </tr>\n",
       "    <tr>\n",
       "      <th>6</th>\n",
       "      <td>Oxybenzone</td>\n",
       "      <td>Hydra Life BB Creme Broad Spectrum SPF 30</td>\n",
       "    </tr>\n",
       "    <tr>\n",
       "      <th>7</th>\n",
       "      <td>Oxybenzone</td>\n",
       "      <td>The Broad Spectrum SPF 50 UV Protecting Fluid</td>\n",
       "    </tr>\n",
       "    <tr>\n",
       "      <th>8</th>\n",
       "      <td>Oxybenzone</td>\n",
       "      <td>Ultimate Sun Protection Spray Broad Spectrum S...</td>\n",
       "    </tr>\n",
       "    <tr>\n",
       "      <th>9</th>\n",
       "      <td>Oxybenzone</td>\n",
       "      <td>Broad Spectrum SPF 50 Sunscreen Face Cream</td>\n",
       "    </tr>\n",
       "    <tr>\n",
       "      <th>10</th>\n",
       "      <td>Oxybenzone</td>\n",
       "      <td>DayWear UV Base Advanced Anti-Oxidant &amp; UV Def...</td>\n",
       "    </tr>\n",
       "  </tbody>\n",
       "</table>\n",
       "</div>"
      ],
      "text/plain": [
       "           Toxin                                            Product\n",
       "0   Ethanolamine                                  No products found\n",
       "1     Oxybenzone                                  No products found\n",
       "3     Oxybenzone  Camera Ready CC Cream Broad Spectrum SPF 30 Da...\n",
       "4     Oxybenzone                          Lingerie de Peau BB Cream\n",
       "5     Oxybenzone                                  Exfoliating Scrub\n",
       "6     Oxybenzone          Hydra Life BB Creme Broad Spectrum SPF 30\n",
       "7     Oxybenzone      The Broad Spectrum SPF 50 UV Protecting Fluid\n",
       "8     Oxybenzone  Ultimate Sun Protection Spray Broad Spectrum S...\n",
       "9     Oxybenzone         Broad Spectrum SPF 50 Sunscreen Face Cream\n",
       "10    Oxybenzone  DayWear UV Base Advanced Anti-Oxidant & UV Def..."
      ]
     },
     "execution_count": 42,
     "metadata": {},
     "output_type": "execute_result"
    }
   ],
   "source": [
    "#LOW\n",
    "low_df = pd.read_csv('../references/low_hazard_products.txt', header=None)\n",
    "low_df['Toxin'] = low_df[0].str.extract(r'(No|Oxybenzone|Resorcinol|Formaldehyde|Diethanol|Silane|Siloxane|Octinaxate)', expand=True)\n",
    "low_df['Product'] = low_df[0].str.extract(r'\\d+ - (.*)', expand=True)\n",
    "low_df = low_df.drop(0, axis=1)\n",
    "\n",
    "# Replacing all \"NaN\" values with the correct Toxin name\n",
    "low_df.loc[0, 'Toxin'] = \"Ethanolamine\"\n",
    "low_df.loc[2:13,'Toxin'] = \"Oxybenzone\"\n",
    "low_df.loc[15, 'Toxin'] = \"Ethanolamine\"\n",
    "low_df.loc[16, 'Toxin'] = \"Formaldehyde\"\n",
    "low_df.loc[17, 'Toxin'] = \"Diethanol\"\n",
    "low_df.loc[19:67,'Toxin'] = \"Silane\"\n",
    "low_df.loc[69:71,'Toxin'] = \"Silane\"\n",
    "low_df.loc[72, 'Toxin'] = \"Octinaxate\"\n",
    "\n",
    "# Removing all unrelated 'NaN' values\n",
    "low_df = low_df.drop([2,14,18,68], axis=0)\n",
    "\n",
    "# Assigning the empty cells in 'Product' column to 'No products found'\n",
    "low_df['Product'].fillna('No products found', inplace=True)\n",
    "\n",
    "low_df.to_csv('../data/interim/low_hazard_data.csv')\n",
    "\n",
    "low_df.head(10)"
   ]
  },
  {
   "cell_type": "code",
   "execution_count": null,
   "metadata": {},
   "outputs": [
    {
     "data": {
      "text/html": [
       "<div>\n",
       "<style scoped>\n",
       "    .dataframe tbody tr th:only-of-type {\n",
       "        vertical-align: middle;\n",
       "    }\n",
       "\n",
       "    .dataframe tbody tr th {\n",
       "        vertical-align: top;\n",
       "    }\n",
       "\n",
       "    .dataframe thead th {\n",
       "        text-align: right;\n",
       "    }\n",
       "</style>\n",
       "<table border=\"1\" class=\"dataframe\">\n",
       "  <thead>\n",
       "    <tr style=\"text-align: right;\">\n",
       "      <th></th>\n",
       "      <th>Toxin</th>\n",
       "      <th>Product</th>\n",
       "    </tr>\n",
       "  </thead>\n",
       "  <tbody>\n",
       "    <tr>\n",
       "      <th>0</th>\n",
       "      <td>Parfum</td>\n",
       "      <td>No products found</td>\n",
       "    </tr>\n",
       "    <tr>\n",
       "      <th>2</th>\n",
       "      <td>Parfum</td>\n",
       "      <td>Benefiance WrinkleResist24 Night Cream</td>\n",
       "    </tr>\n",
       "    <tr>\n",
       "      <th>3</th>\n",
       "      <td>Parfum</td>\n",
       "      <td>Goodnight Glow Retin-ALT Sleeping Crème</td>\n",
       "    </tr>\n",
       "    <tr>\n",
       "      <th>4</th>\n",
       "      <td>Parfum</td>\n",
       "      <td>Beauty Elixir</td>\n",
       "    </tr>\n",
       "    <tr>\n",
       "      <th>5</th>\n",
       "      <td>Parfum</td>\n",
       "      <td>The Silk Cream</td>\n",
       "    </tr>\n",
       "    <tr>\n",
       "      <th>6</th>\n",
       "      <td>Parfum</td>\n",
       "      <td>Vinosource Moisturizing Sorbet</td>\n",
       "    </tr>\n",
       "    <tr>\n",
       "      <th>7</th>\n",
       "      <td>Parfum</td>\n",
       "      <td>Luminous Dewy Skin Night Concentrate</td>\n",
       "    </tr>\n",
       "    <tr>\n",
       "      <th>8</th>\n",
       "      <td>Parfum</td>\n",
       "      <td>Seaberry Moisturizing Face Oil</td>\n",
       "    </tr>\n",
       "    <tr>\n",
       "      <th>9</th>\n",
       "      <td>Parfum</td>\n",
       "      <td>Renewed Hope in A Jar Refreshing &amp; Refining Mo...</td>\n",
       "    </tr>\n",
       "    <tr>\n",
       "      <th>10</th>\n",
       "      <td>Parfum</td>\n",
       "      <td>Cold Plasma Sub-D Firming Neck Treatment</td>\n",
       "    </tr>\n",
       "  </tbody>\n",
       "</table>\n",
       "</div>"
      ],
      "text/plain": [
       "     Toxin                                            Product\n",
       "0   Parfum                                  No products found\n",
       "2   Parfum             Benefiance WrinkleResist24 Night Cream\n",
       "3   Parfum            Goodnight Glow Retin-ALT Sleeping Crème\n",
       "4   Parfum                                      Beauty Elixir\n",
       "5   Parfum                                     The Silk Cream\n",
       "6   Parfum                     Vinosource Moisturizing Sorbet\n",
       "7   Parfum               Luminous Dewy Skin Night Concentrate\n",
       "8   Parfum                     Seaberry Moisturizing Face Oil\n",
       "9   Parfum  Renewed Hope in A Jar Refreshing & Refining Mo...\n",
       "10  Parfum           Cold Plasma Sub-D Firming Neck Treatment"
      ]
     },
     "execution_count": 16,
     "metadata": {},
     "output_type": "execute_result"
    }
   ],
   "source": [
    "#MODERATE\n",
    "df = pd.read_csv('../references/mod_hazard_products.txt', header=None, sep='\\t')\n",
    "df['Toxin'] = df[0].str.extract(r'(No|Fragrance|Octinoxates|Homosalate|Teflon)', expand=True)\n",
    "df['Product'] = df[0].str.extract(r'\\d+ - (.*)', expand=True)\n",
    "df = df.drop(0, axis=1)\n",
    "\n",
    "df.loc[0:132, 'Toxin'] = \"Parfum\"\n",
    "df.loc[134:633,'Toxin'] = \"Fragrance\"\n",
    "df.loc[133,'Toxin'] = \"Fragrance\"\n",
    "df.loc[636:639, 'Toxin'] = \"Triclosan\"\n",
    "df.loc[640:656, 'Toxin'] = \"Homosalate\"\n",
    "\n",
    "df = df.drop([1,132,634, 635, 653], axis=0)\n",
    "\n",
    "df['Product'].fillna('No products found', inplace=True)\n",
    "\n",
    "df.to_csv('../data/interim/mod_hazard_data.csv')\n",
    "\n",
    "df.head(10)"
   ]
  },
  {
   "cell_type": "code",
   "execution_count": null,
   "metadata": {},
   "outputs": [
    {
     "data": {
      "text/html": [
       "<div>\n",
       "<style scoped>\n",
       "    .dataframe tbody tr th:only-of-type {\n",
       "        vertical-align: middle;\n",
       "    }\n",
       "\n",
       "    .dataframe tbody tr th {\n",
       "        vertical-align: top;\n",
       "    }\n",
       "\n",
       "    .dataframe thead th {\n",
       "        text-align: right;\n",
       "    }\n",
       "</style>\n",
       "<table border=\"1\" class=\"dataframe\">\n",
       "  <thead>\n",
       "    <tr style=\"text-align: right;\">\n",
       "      <th></th>\n",
       "      <th>Toxin</th>\n",
       "      <th>Product</th>\n",
       "    </tr>\n",
       "  </thead>\n",
       "  <tbody>\n",
       "    <tr>\n",
       "      <th>1</th>\n",
       "      <td>Talc</td>\n",
       "      <td>CC Crème High Definition Radiance Face Cream S...</td>\n",
       "    </tr>\n",
       "    <tr>\n",
       "      <th>2</th>\n",
       "      <td>Talc</td>\n",
       "      <td>Bio-Performance Advanced Super Restoring Cream</td>\n",
       "    </tr>\n",
       "    <tr>\n",
       "      <th>3</th>\n",
       "      <td>Talc</td>\n",
       "      <td>Skin Perfecting Lotion - Blemish Prone/Oily Skin</td>\n",
       "    </tr>\n",
       "    <tr>\n",
       "      <th>4</th>\n",
       "      <td>Talc</td>\n",
       "      <td>Bio-Performance Glow Revival Cream</td>\n",
       "    </tr>\n",
       "    <tr>\n",
       "      <th>5</th>\n",
       "      <td>Talc</td>\n",
       "      <td>BB Crème au Ginseng</td>\n",
       "    </tr>\n",
       "    <tr>\n",
       "      <th>6</th>\n",
       "      <td>Talc</td>\n",
       "      <td>Black Label Detox BB Beauty Balm</td>\n",
       "    </tr>\n",
       "    <tr>\n",
       "      <th>7</th>\n",
       "      <td>Talc</td>\n",
       "      <td>Bio-Performance LiftDynamic Cream</td>\n",
       "    </tr>\n",
       "    <tr>\n",
       "      <th>8</th>\n",
       "      <td>Talc</td>\n",
       "      <td>Ibuki Beauty Sleeping Mask</td>\n",
       "    </tr>\n",
       "    <tr>\n",
       "      <th>9</th>\n",
       "      <td>Talc</td>\n",
       "      <td>Benefiance Extra Creamy Cleansing Foam</td>\n",
       "    </tr>\n",
       "    <tr>\n",
       "      <th>10</th>\n",
       "      <td>Talc</td>\n",
       "      <td>Pureness Deep Cleansing Foam</td>\n",
       "    </tr>\n",
       "  </tbody>\n",
       "</table>\n",
       "</div>"
      ],
      "text/plain": [
       "   Toxin                                            Product\n",
       "1   Talc  CC Crème High Definition Radiance Face Cream S...\n",
       "2   Talc     Bio-Performance Advanced Super Restoring Cream\n",
       "3   Talc   Skin Perfecting Lotion - Blemish Prone/Oily Skin\n",
       "4   Talc                 Bio-Performance Glow Revival Cream\n",
       "5   Talc                                BB Crème au Ginseng\n",
       "6   Talc                   Black Label Detox BB Beauty Balm\n",
       "7   Talc                  Bio-Performance LiftDynamic Cream\n",
       "8   Talc                         Ibuki Beauty Sleeping Mask\n",
       "9   Talc             Benefiance Extra Creamy Cleansing Foam\n",
       "10  Talc                       Pureness Deep Cleansing Foam"
      ]
     },
     "execution_count": 17,
     "metadata": {},
     "output_type": "execute_result"
    }
   ],
   "source": [
    "#HIGH\n",
    "df = pd.read_csv('../references/high_hazard_products.txt', header=None, sep='\\t')\n",
    "df['Toxin'] = df[0].str.extract(r'(No|Fragrance|Octinoxates|Homosalate|Teflon)', expand=True)\n",
    "df['Product'] = df[0].str.extract(r'\\d+ - (.*)', expand=True)\n",
    "df = df.drop(0, axis=1)\n",
    "\n",
    "df.loc[0, 'Toxin'] = \"Talc\"\n",
    "df.loc[1:29, 'Toxin'] = 'Talc'\n",
    "df.loc[32:188,'Toxin'] = \"Propylene Glycol\"\n",
    "\n",
    "\n",
    "df = df.drop([0,30,31], axis=0)\n",
    "\n",
    "df['Product'].fillna('No products found', inplace=True)\n",
    "\n",
    "df.to_csv('../data/interim/high_hazard_data.csv')\n",
    "\n",
    "df.head(10)"
   ]
  },
  {
   "cell_type": "markdown",
   "metadata": {},
   "source": [
    "## Toxic dataframe\n",
    "Combine all three toxicities to form a combined dataframe with low, moderate, and high hazard products"
   ]
  },
  {
   "cell_type": "code",
   "execution_count": 33,
   "metadata": {},
   "outputs": [],
   "source": [
    "font_paths = {\n",
    "    \"Redaction\": '../src/fonts/redaction-cufonfonts/Redaction-mL8P5.otf',\n",
    "    \"Redaction_Italics\" : '../src/fonts/redaction-cufonfonts/Redaction50Italic-2ODWo.otf',\n",
    "    \"Redaction_Bold\" : '../src/fonts/redaction-cufonfonts/Redaction50Bold-vmXRL.otf',\n",
    "    \"Redaction_Blur\": \"../src/fonts/redaction-cufonfonts/Redaction50-8Mg4n.otf\",\n",
    "    \"Playfair_Display\" : '../src/fonts/PlayfairDisplay-Regular.ttf'\n",
    "}\n",
    "\n",
    "def get_font_prop(font_name):\n",
    "    font_path = font_paths[font_name]\n",
    "    return matplotlib.font_manager.FontProperties(fname=font_path)"
   ]
  },
  {
   "cell_type": "markdown",
   "metadata": {},
   "source": [
    "### [Sunburst Plot](https://plotly.com/python/sunburst-charts/#basic-sunburst-plot-with-plotlyexpress) of the three different categories of hazardness\n",
    "- Low\n",
    "- Moderate\n",
    "- High"
   ]
  },
  {
   "cell_type": "code",
   "execution_count": null,
   "metadata": {},
   "outputs": [
    {
     "ename": "ValueError",
     "evalue": "Value of 'names' is not the name of a column in 'data_frame'. Expected one of ['Unnamed: 0', 'Toxin', 'Product'] but received: toxic_category",
     "output_type": "error",
     "traceback": [
      "\u001b[0;31m---------------------------------------------------------------------------\u001b[0m",
      "\u001b[0;31mValueError\u001b[0m                                Traceback (most recent call last)",
      "\u001b[0;32m/var/folders/mw/fc5wj4ns76x4xcwycqk0_bt00000gn/T/ipykernel_54274/3442539897.py\u001b[0m in \u001b[0;36m<module>\u001b[0;34m\u001b[0m\n\u001b[1;32m      8\u001b[0m \u001b[0;34m\u001b[0m\u001b[0m\n\u001b[1;32m      9\u001b[0m \u001b[0;31m# create the sunburst chart\u001b[0m\u001b[0;34m\u001b[0m\u001b[0;34m\u001b[0m\u001b[0m\n\u001b[0;32m---> 10\u001b[0;31m fig = px.sunburst(\n\u001b[0m\u001b[1;32m     11\u001b[0m     \u001b[0mdf\u001b[0m\u001b[0;34m,\u001b[0m\u001b[0;34m\u001b[0m\u001b[0;34m\u001b[0m\u001b[0m\n\u001b[1;32m     12\u001b[0m     \u001b[0mnames\u001b[0m\u001b[0;34m=\u001b[0m\u001b[0;34m'toxic_category'\u001b[0m\u001b[0;34m,\u001b[0m\u001b[0;34m\u001b[0m\u001b[0;34m\u001b[0m\u001b[0m\n",
      "\u001b[0;32m~/opt/anaconda3/lib/python3.9/site-packages/plotly/express/_chart_types.py\u001b[0m in \u001b[0;36msunburst\u001b[0;34m(data_frame, names, values, parents, path, ids, color, color_continuous_scale, range_color, color_continuous_midpoint, color_discrete_sequence, color_discrete_map, hover_name, hover_data, custom_data, labels, title, template, width, height, branchvalues, maxdepth)\u001b[0m\n\u001b[1;32m   1539\u001b[0m     \u001b[0;32mif\u001b[0m \u001b[0mpath\u001b[0m \u001b[0;32mis\u001b[0m \u001b[0;32mnot\u001b[0m \u001b[0;32mNone\u001b[0m \u001b[0;32mand\u001b[0m \u001b[0mbranchvalues\u001b[0m \u001b[0;32mis\u001b[0m \u001b[0;32mNone\u001b[0m\u001b[0;34m:\u001b[0m\u001b[0;34m\u001b[0m\u001b[0;34m\u001b[0m\u001b[0m\n\u001b[1;32m   1540\u001b[0m         \u001b[0mbranchvalues\u001b[0m \u001b[0;34m=\u001b[0m \u001b[0;34m\"total\"\u001b[0m\u001b[0;34m\u001b[0m\u001b[0;34m\u001b[0m\u001b[0m\n\u001b[0;32m-> 1541\u001b[0;31m     return make_figure(\n\u001b[0m\u001b[1;32m   1542\u001b[0m         \u001b[0margs\u001b[0m\u001b[0;34m=\u001b[0m\u001b[0mlocals\u001b[0m\u001b[0;34m(\u001b[0m\u001b[0;34m)\u001b[0m\u001b[0;34m,\u001b[0m\u001b[0;34m\u001b[0m\u001b[0;34m\u001b[0m\u001b[0m\n\u001b[1;32m   1543\u001b[0m         \u001b[0mconstructor\u001b[0m\u001b[0;34m=\u001b[0m\u001b[0mgo\u001b[0m\u001b[0;34m.\u001b[0m\u001b[0mSunburst\u001b[0m\u001b[0;34m,\u001b[0m\u001b[0;34m\u001b[0m\u001b[0;34m\u001b[0m\u001b[0m\n",
      "\u001b[0;32m~/opt/anaconda3/lib/python3.9/site-packages/plotly/express/_core.py\u001b[0m in \u001b[0;36mmake_figure\u001b[0;34m(args, constructor, trace_patch, layout_patch)\u001b[0m\n\u001b[1;32m   1988\u001b[0m     \u001b[0mapply_default_cascade\u001b[0m\u001b[0;34m(\u001b[0m\u001b[0margs\u001b[0m\u001b[0;34m)\u001b[0m\u001b[0;34m\u001b[0m\u001b[0;34m\u001b[0m\u001b[0m\n\u001b[1;32m   1989\u001b[0m \u001b[0;34m\u001b[0m\u001b[0m\n\u001b[0;32m-> 1990\u001b[0;31m     \u001b[0margs\u001b[0m \u001b[0;34m=\u001b[0m \u001b[0mbuild_dataframe\u001b[0m\u001b[0;34m(\u001b[0m\u001b[0margs\u001b[0m\u001b[0;34m,\u001b[0m \u001b[0mconstructor\u001b[0m\u001b[0;34m)\u001b[0m\u001b[0;34m\u001b[0m\u001b[0;34m\u001b[0m\u001b[0m\n\u001b[0m\u001b[1;32m   1991\u001b[0m     \u001b[0;32mif\u001b[0m \u001b[0mconstructor\u001b[0m \u001b[0;32min\u001b[0m \u001b[0;34m[\u001b[0m\u001b[0mgo\u001b[0m\u001b[0;34m.\u001b[0m\u001b[0mTreemap\u001b[0m\u001b[0;34m,\u001b[0m \u001b[0mgo\u001b[0m\u001b[0;34m.\u001b[0m\u001b[0mSunburst\u001b[0m\u001b[0;34m,\u001b[0m \u001b[0mgo\u001b[0m\u001b[0;34m.\u001b[0m\u001b[0mIcicle\u001b[0m\u001b[0;34m]\u001b[0m \u001b[0;32mand\u001b[0m \u001b[0margs\u001b[0m\u001b[0;34m[\u001b[0m\u001b[0;34m\"path\"\u001b[0m\u001b[0;34m]\u001b[0m \u001b[0;32mis\u001b[0m \u001b[0;32mnot\u001b[0m \u001b[0;32mNone\u001b[0m\u001b[0;34m:\u001b[0m\u001b[0;34m\u001b[0m\u001b[0;34m\u001b[0m\u001b[0m\n\u001b[1;32m   1992\u001b[0m         \u001b[0margs\u001b[0m \u001b[0;34m=\u001b[0m \u001b[0mprocess_dataframe_hierarchy\u001b[0m\u001b[0;34m(\u001b[0m\u001b[0margs\u001b[0m\u001b[0;34m)\u001b[0m\u001b[0;34m\u001b[0m\u001b[0;34m\u001b[0m\u001b[0m\n",
      "\u001b[0;32m~/opt/anaconda3/lib/python3.9/site-packages/plotly/express/_core.py\u001b[0m in \u001b[0;36mbuild_dataframe\u001b[0;34m(args, constructor)\u001b[0m\n\u001b[1;32m   1403\u001b[0m     \u001b[0;31m# now that things have been prepped, we do the systematic rewriting of `args`\u001b[0m\u001b[0;34m\u001b[0m\u001b[0;34m\u001b[0m\u001b[0m\n\u001b[1;32m   1404\u001b[0m \u001b[0;34m\u001b[0m\u001b[0m\n\u001b[0;32m-> 1405\u001b[0;31m     df_output, wide_id_vars = process_args_into_dataframe(\n\u001b[0m\u001b[1;32m   1406\u001b[0m         \u001b[0margs\u001b[0m\u001b[0;34m,\u001b[0m \u001b[0mwide_mode\u001b[0m\u001b[0;34m,\u001b[0m \u001b[0mvar_name\u001b[0m\u001b[0;34m,\u001b[0m \u001b[0mvalue_name\u001b[0m\u001b[0;34m\u001b[0m\u001b[0;34m\u001b[0m\u001b[0m\n\u001b[1;32m   1407\u001b[0m     )\n",
      "\u001b[0;32m~/opt/anaconda3/lib/python3.9/site-packages/plotly/express/_core.py\u001b[0m in \u001b[0;36mprocess_args_into_dataframe\u001b[0;34m(args, wide_mode, var_name, value_name)\u001b[0m\n\u001b[1;32m   1205\u001b[0m                         \u001b[0;32mif\u001b[0m \u001b[0margument\u001b[0m \u001b[0;34m==\u001b[0m \u001b[0;34m\"index\"\u001b[0m\u001b[0;34m:\u001b[0m\u001b[0;34m\u001b[0m\u001b[0;34m\u001b[0m\u001b[0m\n\u001b[1;32m   1206\u001b[0m                             \u001b[0merr_msg\u001b[0m \u001b[0;34m+=\u001b[0m \u001b[0;34m\"\\n To use the index, pass it in directly as `df.index`.\"\u001b[0m\u001b[0;34m\u001b[0m\u001b[0;34m\u001b[0m\u001b[0m\n\u001b[0;32m-> 1207\u001b[0;31m                         \u001b[0;32mraise\u001b[0m \u001b[0mValueError\u001b[0m\u001b[0;34m(\u001b[0m\u001b[0merr_msg\u001b[0m\u001b[0;34m)\u001b[0m\u001b[0;34m\u001b[0m\u001b[0;34m\u001b[0m\u001b[0m\n\u001b[0m\u001b[1;32m   1208\u001b[0m                 \u001b[0;32melif\u001b[0m \u001b[0mlength\u001b[0m \u001b[0;32mand\u001b[0m \u001b[0mlen\u001b[0m\u001b[0;34m(\u001b[0m\u001b[0mdf_input\u001b[0m\u001b[0;34m[\u001b[0m\u001b[0margument\u001b[0m\u001b[0;34m]\u001b[0m\u001b[0;34m)\u001b[0m \u001b[0;34m!=\u001b[0m \u001b[0mlength\u001b[0m\u001b[0;34m:\u001b[0m\u001b[0;34m\u001b[0m\u001b[0;34m\u001b[0m\u001b[0m\n\u001b[1;32m   1209\u001b[0m                     raise ValueError(\n",
      "\u001b[0;31mValueError\u001b[0m: Value of 'names' is not the name of a column in 'data_frame'. Expected one of ['Unnamed: 0', 'Toxin', 'Product'] but received: toxic_category"
     ]
    }
   ],
   "source": [
    "# read in the three dataframes\n",
    "low_hazard_data = pd.read_csv('../data/interim/low_hazard_data.csv')\n",
    "mod_hazard_data = pd.read_csv('../data/interim/mod_hazard_data.csv')\n",
    "high_hazard_data = pd.read_csv('../data/interim/high_hazard_data.csv')\n",
    "\n",
    "# concatenate the three dataframes into a single dataframe\n",
    "df = pd.concat([low_hazard_data, mod_hazard_data, high_hazard_data])\n",
    "\n",
    "# create the sunburst chart\n",
    "fig = px.sunburst(\n",
    "    df,\n",
    "    names='toxic_category',\n",
    "    parents='toxic_chemical',\n",
    "    values='Product'\n",
    ")\n",
    "\n",
    "fig.show()"
   ]
  },
  {
   "cell_type": "markdown",
   "metadata": {},
   "source": [
    "### [Bar Charts](https://plotly.com/python/bar-charts/) of the three different categories of hazardness\n",
    "- Low\n",
    "- Moderate\n",
    "- High"
   ]
  },
  {
   "cell_type": "code",
   "execution_count": 40,
   "metadata": {},
   "outputs": [
    {
     "data": {
      "application/vnd.plotly.v1+json": {
       "config": {
        "plotlyServerURL": "https://plot.ly"
       },
       "data": [
        {
         "alignmentgroup": "True",
         "hovertemplate": "Brand=%{x}<br>Rank=%{y}<extra></extra>",
         "legendgroup": "",
         "marker": {
          "color": "#636efa",
          "pattern": {
           "shape": ""
          }
         },
         "name": "",
         "offsetgroup": "",
         "orientation": "v",
         "showlegend": false,
         "textposition": "auto",
         "type": "bar",
         "x": [
          "LA MER",
          "SK-II",
          "DRUNK ELEPHANT",
          "LA MER",
          "IT COSMETICS",
          "TATCHA",
          "DRUNK ELEPHANT",
          "DRUNK ELEPHANT",
          "KIEHL'S SINCE 1851",
          "LA MER",
          "FRESH",
          "KIEHL'S SINCE 1851",
          "BELIF",
          "SUNDAY RILEY",
          "FARMACY",
          "DRUNK ELEPHANT",
          "FIRST AID BEAUTY",
          "CLINIQUE",
          "FRESH",
          "SK-II",
          "LA MER",
          "BAREMINERALS",
          "SHISEIDO",
          "FRESH",
          "BELIF",
          "CHARLOTTE TILBURY",
          "DRUNK ELEPHANT",
          "ORIGINS",
          "CLINIQUE",
          "SK-II",
          "FRESH",
          "TATCHA",
          "OLEHENRIKSEN",
          "JOSIE MARAN",
          "IT COSMETICS",
          "FARSÁLI",
          "LANEIGE",
          "LANEIGE",
          "SK-II",
          "DR. JART+",
          "TATCHA",
          "SHISEIDO",
          "CLINIQUE",
          "OLEHENRIKSEN",
          "SUNDAY RILEY",
          "GLOW RECIPE",
          "HERBIVORE",
          "TARTE",
          "SUNDAY RILEY",
          "CAUDALIE",
          "CAUDALIE",
          "YOUTH TO THE PEOPLE",
          "LA MER",
          "BIOSSANCE",
          "TARTE",
          "SHISEIDO",
          "ORIGINS",
          "ESTÉE LAUDER",
          "SON & PARK",
          "TATCHA",
          "OLEHENRIKSEN",
          "AMOREPACIFIC",
          "BOBBI BROWN",
          "DR. JART+",
          "CAUDALIE",
          "HERBIVORE",
          "ERBORIAN",
          "SMASHBOX",
          "SUNDAY RILEY",
          "FARSÁLI",
          "IT COSMETICS",
          "TATCHA",
          "GLAMGLOW",
          "ESTÉE LAUDER",
          "DR. JART+",
          "SUNDAY RILEY",
          "FRESH",
          "LANEIGE",
          "AMOREPACIFIC",
          "GLAMGLOW",
          "FARMACY",
          "PETER THOMAS ROTH",
          "AMOREPACIFIC",
          "IT COSMETICS",
          "FRESH",
          "FRESH",
          "FIRST AID BEAUTY",
          "IT COSMETICS",
          "SHISEIDO",
          "FRESH",
          "ORIGINS",
          "TARTE",
          "CLINIQUE",
          "JOSIE MARAN",
          "LANEIGE",
          "JACK BLACK",
          "GLOW RECIPE",
          "LA MER",
          "LA MER",
          "PHILOSOPHY",
          "PERRICONE MD",
          "LANCÔME",
          "ALGENIST",
          "IT COSMETICS",
          "DR. JART+",
          "CLINIQUE",
          "JOSIE MARAN",
          "OLEHENRIKSEN",
          "SHISEIDO",
          "FARMACY",
          "ORIGINS",
          "HERBIVORE",
          "OLEHENRIKSEN",
          "BELIF",
          "CHARLOTTE TILBURY",
          "YOUTH TO THE PEOPLE",
          "SK-II",
          "TATCHA",
          "KIEHL'S SINCE 1851",
          "BIOSSANCE",
          "SHISEIDO",
          "ORIGINS",
          "SHISEIDO",
          "MAKE UP FOR EVER",
          "IT COSMETICS",
          "KIEHL'S SINCE 1851",
          "BOBBI BROWN",
          "FRESH",
          "KORRES",
          "FRESH",
          "BELIF",
          "YOUTH TO THE PEOPLE",
          "MURAD",
          "IT COSMETICS",
          "TARTE",
          "SMASHBOX",
          "FIRST AID BEAUTY",
          "MURAD",
          "ESTÉE LAUDER",
          "TATCHA",
          "GUERLAIN",
          "BIOSSANCE",
          "DIOR",
          "SMASHBOX",
          "ORIGINS",
          "KORA ORGANICS",
          "LANEIGE",
          "SK-II",
          "DR. DENNIS GROSS SKINCARE",
          "REN CLEAN SKINCARE",
          "MURAD",
          "OLEHENRIKSEN",
          "DIOR",
          "KIEHL'S SINCE 1851",
          "FIRST AID BEAUTY",
          "ORIGINS",
          "BIOSSANCE",
          "FIRST AID BEAUTY",
          "MURAD",
          "GUERLAIN",
          "FRESH",
          "ORIGINS",
          "LA MER",
          "CLINIQUE",
          "SHISEIDO",
          "CAUDALIE",
          "LANCÔME",
          "MURAD",
          "CLINIQUE",
          "KOPARI",
          "SHISEIDO",
          "CLARINS",
          "FARSÁLI",
          "TARTE",
          "SHISEIDO",
          "SHISEIDO",
          "LA MER",
          "NURSE JAMIE",
          "LANCER",
          "LANCÔME",
          "TATCHA",
          "DR. DENNIS GROSS SKINCARE",
          "SMASHBOX",
          "L'OCCITANE",
          "ESTÉE LAUDER",
          "KATE SOMERVILLE",
          "SUPERGOOP!",
          "ALGENIST",
          "ORIGINS",
          "CAUDALIE",
          "CAUDALIE",
          "SHISEIDO",
          "DR. DENNIS GROSS SKINCARE",
          "KORRES",
          "CLINIQUE",
          "SATURDAY SKIN",
          "SHISEIDO",
          "SEPHORA COLLECTION",
          "BELIF",
          "JOSIE MARAN",
          "MILK MAKEUP",
          "ESTÉE LAUDER",
          "ESTÉE LAUDER",
          "OLEHENRIKSEN",
          "DIOR",
          "CLINIQUE",
          "PHILOSOPHY",
          "KIEHL'S SINCE 1851",
          "SK-II",
          "LANCÔME",
          "CAUDALIE",
          "CLARINS",
          "AMOREPACIFIC",
          "FRESH",
          "ERBORIAN",
          "DR. JART+",
          "ALGENIST",
          "PHILOSOPHY",
          "JOSIE MARAN",
          "MURAD",
          "CLINIQUE",
          "KIEHL'S SINCE 1851",
          "FARMACY",
          "PHILOSOPHY",
          "AMOREPACIFIC",
          "CLINIQUE",
          "SHISEIDO",
          "CAUDALIE",
          "DIOR",
          "KATE SOMERVILLE",
          "DR. DENNIS GROSS SKINCARE",
          "ESTÉE LAUDER",
          "CLINIQUE",
          "MURAD",
          "GUERLAIN",
          "BAREMINERALS",
          "AMOREPACIFIC",
          "HERBIVORE",
          "SEPHORA COLLECTION",
          "CLARINS",
          "ESTÉE LAUDER",
          "TARTE",
          "FIRST AID BEAUTY",
          "DR. BRANDT SKINCARE",
          "LANEIGE",
          "SHISEIDO",
          "TARTE",
          "GLAMGLOW",
          "LANCÔME",
          "BIOSSANCE",
          "IT COSMETICS",
          "ORIGINS",
          "LANCÔME",
          "KATE SOMERVILLE",
          "J.ONE",
          "KATE SOMERVILLE",
          "PERRICONE MD",
          "KAT VON D",
          "DIOR",
          "PERRICONE MD",
          "JOSIE MARAN",
          "TATA HARPER",
          "SHISEIDO",
          "DR. JART+",
          "HERBIVORE",
          "LANCÔME",
          "SHISEIDO",
          "CAUDALIE",
          "JACK BLACK",
          "LANCÔME",
          "CLINIQUE",
          "ESTÉE LAUDER",
          "FIRST AID BEAUTY",
          "PETER THOMAS ROTH",
          "BOBBI BROWN",
          "CLINIQUE",
          "HERBIVORE",
          "TATA HARPER",
          "SEPHORA COLLECTION",
          "CLINIQUE",
          "PHILOSOPHY",
          "SK-II",
          "KIEHL'S SINCE 1851",
          "DIOR",
          "CLINIQUE",
          "TARTE",
          "GLAMGLOW",
          "ALGENIST",
          "LANCÔME",
          "KIEHL'S SINCE 1851",
          "ALGENIST",
          "SHISEIDO",
          "SATURDAY SKIN",
          "LA MER",
          "HERBIVORE",
          "CLARINS",
          "KATE SOMERVILLE",
          "GO-TO",
          "DRUNK ELEPHANT",
          "DRUNK ELEPHANT",
          "FRESH",
          "FARMACY",
          "PHILOSOPHY",
          "LANCÔME",
          "FRESH",
          "TATCHA",
          "CLINIQUE",
          "KIEHL'S SINCE 1851",
          "LANCÔME",
          "SEPHORA COLLECTION",
          "TATCHA",
          "FIRST AID BEAUTY",
          "ORIGINS",
          "SHISEIDO",
          "KATE SOMERVILLE",
          "LA MER",
          "BOSCIA",
          "DRUNK ELEPHANT",
          "BOSCIA",
          "OLEHENRIKSEN",
          "AMOREPACIFIC",
          "CLINIQUE",
          "SK-II",
          "FRESH",
          "EVE LOM",
          "KATE SOMERVILLE",
          "YOUTH TO THE PEOPLE",
          "OLEHENRIKSEN",
          "BOSCIA",
          "OLEHENRIKSEN",
          "SEPHORA COLLECTION",
          "KIEHL'S SINCE 1851",
          "SK-II",
          "DR. BRANDT SKINCARE",
          "CLINIQUE",
          "TATA HARPER",
          "BIOSSANCE",
          "CAUDALIE",
          "KORRES",
          "TARTE",
          "CAUDALIE",
          "KIEHL'S SINCE 1851",
          "CLINIQUE",
          "KIEHL'S SINCE 1851",
          "SHISEIDO",
          "DRUNK ELEPHANT",
          "SEPHORA COLLECTION",
          "SHISEIDO",
          "GLAMGLOW",
          "SUNDAY RILEY",
          "PETER THOMAS ROTH",
          "CAUDALIE",
          "MURAD",
          "MAKEUP ERASER",
          "BOSCIA",
          "LA MER",
          "MAKE UP FOR EVER",
          "KATE SOMERVILLE",
          "BOSCIA",
          "IT COSMETICS",
          "PHILOSOPHY",
          "AMOREPACIFIC",
          "FARMACY",
          "CLINIQUE",
          "DRUNK ELEPHANT",
          "ESTÉE LAUDER",
          "REN CLEAN SKINCARE",
          "LANCER",
          "MURAD",
          "LANEIGE",
          "CLARINS",
          "SHISEIDO",
          "DR. JART+",
          "CLINIQUE",
          "CAUDALIE",
          "DRUNK ELEPHANT",
          "ORIGINS",
          "OLEHENRIKSEN",
          "CLINIQUE",
          "GLOW RECIPE",
          "CLARINS",
          "LAURA MERCIER",
          "NEOGEN DERMALOGY",
          "GLAMGLOW",
          "MURAD",
          "INDIE LEE",
          "JACK BLACK",
          "CLINIQUE",
          "KIEHL'S SINCE 1851",
          "FRESH",
          "CLINIQUE",
          "IT COSMETICS",
          "CLINIQUE",
          "BELIF",
          "TATA HARPER",
          "KIEHL'S SINCE 1851",
          "KIEHL'S SINCE 1851",
          "DR. DENNIS GROSS SKINCARE",
          "LANEIGE",
          "LANCÔME",
          "OLEHENRIKSEN",
          "CLARINS",
          "KOH GEN DO",
          "JACK BLACK",
          "INDIE LEE",
          "LA MER",
          "SEPHORA COLLECTION",
          "CAUDALIE",
          "REN CLEAN SKINCARE",
          "GLAMGLOW",
          "MURAD",
          "OLEHENRIKSEN",
          "SEPHORA COLLECTION",
          "LA MER",
          "KOH GEN DO",
          "OLEHENRIKSEN",
          "CLINIQUE",
          "FIRST AID BEAUTY",
          "KORRES",
          "SEPHORA COLLECTION",
          "SHISEIDO",
          "LANCÔME",
          "TATA HARPER",
          "SEPHORA COLLECTION",
          "JACK BLACK",
          "BOBBI BROWN",
          "SEPHORA COLLECTION",
          "SHISEIDO",
          "TARTE",
          "CLINIQUE",
          "CLINIQUE",
          "LANCÔME",
          "DR. JART+",
          "FIRST AID BEAUTY",
          "BOSCIA",
          "CAUDALIE",
          "CAUDALIE",
          "CLINIQUE",
          "DR. JART+",
          "FRESH",
          "LANEIGE",
          "FRESH",
          "SHISEIDO",
          "DR. BRANDT SKINCARE",
          "LANEIGE",
          "SEPHORA COLLECTION",
          "L'OCCITANE",
          "TATCHA",
          "CHARLOTTE TILBURY",
          "ORIGINS",
          "LANCÔME",
          "HERBIVORE",
          "MURAD",
          "ORIGINS",
          "KOPARI",
          "SEPHORA COLLECTION",
          "LANCER",
          "SEPHORA COLLECTION",
          "ORIGINS",
          "SUNDAY RILEY",
          "PHILOSOPHY",
          "SATURDAY SKIN",
          "VOLITION BEAUTY",
          "PHILOSOPHY",
          "KATE SOMERVILLE",
          "TOO FACED",
          "ORIGINS",
          "SEPHORA COLLECTION",
          "SHISEIDO",
          "ORIGINS",
          "BOSCIA",
          "SUNDAY RILEY",
          "SHISEIDO",
          "BELIF",
          "FARMACY",
          "KIEHL'S SINCE 1851",
          "SHISEIDO",
          "SATURDAY SKIN",
          "BELIF",
          "PETER THOMAS ROTH",
          "MILK MAKEUP",
          "CLINIQUE",
          "PETER THOMAS ROTH",
          "FRESH",
          "BAREMINERALS",
          "BELIF",
          "MURAD",
          "PERRICONE MD",
          "MURAD",
          "GLAMGLOW",
          "CLARINS",
          "PETER THOMAS ROTH",
          "SEPHORA COLLECTION",
          "FRESH",
          "OLEHENRIKSEN",
          "PHILOSOPHY",
          "DIOR",
          "KORRES",
          "SEPHORA COLLECTION",
          "BELIF",
          "SEPHORA COLLECTION",
          "PERRICONE MD",
          "LA MER",
          "MURAD",
          "GLAMGLOW",
          "CLINIQUE",
          "PETER THOMAS ROTH",
          "SHISEIDO",
          "SHISEIDO",
          "SHISEIDO",
          "SK-II",
          "SKIN INC SUPPLEMENT BAR",
          "ORIGINS",
          "BOSCIA",
          "ALGENIST",
          "OLEHENRIKSEN",
          "BOSCIA",
          "LANCÔME",
          "KIEHL'S SINCE 1851",
          "SEPHORA COLLECTION",
          "MURAD",
          "CLINIQUE",
          "DR. DENNIS GROSS SKINCARE",
          "EVE LOM",
          "ERBORIAN",
          "ERBORIAN",
          "NUFACE",
          "TARTE",
          "CLINIQUE",
          "KATE SOMERVILLE",
          "KLORANE",
          "KATE SOMERVILLE",
          "BOBBI BROWN",
          "FIRST AID BEAUTY",
          "PHILOSOPHY",
          "LANCER",
          "PETER THOMAS ROTH",
          "ERBORIAN",
          "CLINIQUE",
          "BEAUTYBIO",
          "GO-TO",
          "PERRICONE MD",
          "GLAMGLOW",
          "FIRST AID BEAUTY",
          "ORIGINS",
          "LA MER",
          "KATE SOMERVILLE",
          "ALGENIST",
          "NARS",
          "SEPHORA COLLECTION",
          "OLEHENRIKSEN",
          "MURAD",
          "KIEHL'S SINCE 1851",
          "LANEIGE",
          "OLEHENRIKSEN",
          "KIEHL'S SINCE 1851",
          "SHISEIDO",
          "DR. JART+",
          "BLITHE",
          "ESTÉE LAUDER",
          "CLINIQUE",
          "CLINIQUE",
          "SUNDAY RILEY",
          "CLINIQUE",
          "FRESH",
          "CLINIQUE",
          "REN CLEAN SKINCARE",
          "MURAD",
          "KIEHL'S SINCE 1851",
          "SEPHORA COLLECTION",
          "ERNO LASZLO",
          "KIEHL'S SINCE 1851",
          "SEPHORA COLLECTION",
          "CLARISONIC",
          "FENTY BEAUTY BY RIHANNA",
          "CLINIQUE",
          "ALGENIST",
          "REN CLEAN SKINCARE",
          "DERMADOCTOR",
          "DRUNK ELEPHANT",
          "SUNDAY RILEY",
          "ESTÉE LAUDER",
          "OLEHENRIKSEN",
          "LANCÔME",
          "DR. DENNIS GROSS SKINCARE",
          "LANCÔME",
          "KIEHL'S SINCE 1851",
          "LA MER",
          "SHISEIDO",
          "GLAMGLOW",
          "DRUNK ELEPHANT",
          "DR. DENNIS GROSS SKINCARE",
          "OLEHENRIKSEN",
          "DRUNK ELEPHANT",
          "CAUDALIE",
          "FARSÁLI",
          "SUNDAY RILEY",
          "DRUNK ELEPHANT",
          "CAUDALIE",
          "KIEHL'S SINCE 1851",
          "CLARINS",
          "LA MER",
          "HERBIVORE",
          "ALGENIST",
          "PEACE OUT",
          "PETER THOMAS ROTH",
          "FIRST AID BEAUTY",
          "DR. DENNIS GROSS SKINCARE",
          "MURAD",
          "DRUNK ELEPHANT",
          "CAUDALIE",
          "CAUDALIE",
          "ESTÉE LAUDER",
          "LA MER",
          "DR. JART+",
          "KATE SOMERVILLE",
          "PETER THOMAS ROTH",
          "DIOR",
          "BIOEFFECT",
          "LA MER",
          "PETER THOMAS ROTH",
          "OLEHENRIKSEN",
          "ORIGINS",
          "BECCA",
          "GLAMGLOW",
          "FRESH",
          "PETER THOMAS ROTH",
          "BIOSSANCE",
          "PETER THOMAS ROTH",
          "SK-II",
          "KIEHL'S SINCE 1851",
          "CLINIQUE",
          "DIOR",
          "COVER FX",
          "SHISEIDO",
          "FRESH",
          "LA MER",
          "FRESH",
          "MOON JUICE",
          "ORIGINS",
          "MURAD",
          "NEOGEN DERMALOGY",
          "PRIVATE DOCTOR",
          "LANCÔME",
          "HERBIVORE",
          "MURAD",
          "CAUDALIE",
          "PETER THOMAS ROTH",
          "PERRICONE MD",
          "DR. DENNIS GROSS SKINCARE",
          "IT COSMETICS",
          "KATE SOMERVILLE",
          "PHILOSOPHY",
          "JOSIE MARAN",
          "SUNDAY RILEY",
          "CAUDALIE",
          "GUERLAIN",
          "HUM NUTRITION",
          "CLINIQUE",
          "DR. JART+",
          "TATCHA",
          "KORRES",
          "ALGENIST",
          "DIOR",
          "MURAD",
          "BIOEFFECT",
          "TATA HARPER",
          "DR. DENNIS GROSS SKINCARE",
          "CLINIQUE",
          "LANCER",
          "PERRICONE MD",
          "DIOR",
          "BECCA",
          "TATA HARPER",
          "CAUDALIE",
          "ALGENIST",
          "FIRST AID BEAUTY",
          "MURAD",
          "KATE SOMERVILLE",
          "LANCÔME",
          "PEACE OUT",
          "PETER THOMAS ROTH",
          "VOLITION BEAUTY",
          "MURAD",
          "MOON JUICE",
          "JACK BLACK",
          "CLARINS",
          "DR. BRANDT SKINCARE",
          "SHISEIDO",
          "DR. DENNIS GROSS SKINCARE",
          "J.ONE",
          "COVER FX",
          "YOUTH TO THE PEOPLE",
          "KATE SOMERVILLE",
          "ESTÉE LAUDER",
          "CLINIQUE",
          "PERRICONE MD",
          "PHILOSOPHY",
          "FOREO",
          "PERRICONE MD",
          "OLEHENRIKSEN",
          "LIGHTSTIM",
          "KORRES",
          "PETER THOMAS ROTH",
          "BECCA",
          "PHILOSOPHY",
          "REN CLEAN SKINCARE",
          "ORIGINS",
          "LANCER",
          "REN CLEAN SKINCARE",
          "ALGENIST",
          "KATE SOMERVILLE",
          "MILK MAKEUP",
          "IT COSMETICS",
          "MURAD",
          "AMOREPACIFIC",
          "PETER THOMAS ROTH",
          "COOLA",
          "CLARINS",
          "ORIGINS",
          "MURAD",
          "PETER THOMAS ROTH",
          "MURAD",
          "REN CLEAN SKINCARE",
          "DIOR",
          "CAUDALIE",
          "DIOR",
          "IT COSMETICS",
          "MURAD",
          "FIRST AID BEAUTY",
          "PETER THOMAS ROTH",
          "ESTÉE LAUDER",
          "PERRICONE MD",
          "DR. JART+",
          "AMOREPACIFIC",
          "DR. DENNIS GROSS SKINCARE",
          "OLEHENRIKSEN",
          "DR. DENNIS GROSS SKINCARE",
          "SHISEIDO",
          "KATE SOMERVILLE",
          "ALGENIST",
          "KATE SOMERVILLE",
          "PETER THOMAS ROTH",
          "PETER THOMAS ROTH",
          "MURAD",
          "ORIGINS",
          "CLINIQUE",
          "CLINIQUE",
          "PERRICONE MD",
          "DIOR",
          "TARTE",
          "MURAD",
          "PETER THOMAS ROTH",
          "SHISEIDO",
          "MURAD",
          "DR. DENNIS GROSS SKINCARE",
          "KIEHL'S SINCE 1851",
          "KIEHL'S SINCE 1851",
          "ORIGINS",
          "MURAD",
          "CAUDALIE",
          "KORRES",
          "PETER THOMAS ROTH",
          "BELIF",
          "MURAD",
          "BAREMINERALS",
          "DIOR",
          "KATE SOMERVILLE",
          "ORIGINS",
          "KATE SOMERVILLE",
          "FIRST AID BEAUTY",
          "LANCER",
          "BIOEFFECT",
          "MURAD",
          "DR. BRANDT SKINCARE",
          "SKIN INC SUPPLEMENT BAR",
          "DIOR",
          "DR. BRANDT SKINCARE",
          "FRESH",
          "REN CLEAN SKINCARE",
          "DR. BRANDT SKINCARE",
          "DERMADOCTOR",
          "CLARINS",
          "ALGENIST",
          "DERMADOCTOR",
          "ESTÉE LAUDER",
          "KATE SOMERVILLE",
          "KATE SOMERVILLE",
          "PERRICONE MD",
          "HUM NUTRITION",
          "SHISEIDO",
          "MURAD",
          "ALGENIST",
          "PETER THOMAS ROTH",
          "JACK BLACK",
          "DR. BRANDT SKINCARE",
          "PHILOSOPHY",
          "ERNO LASZLO",
          "KIEHL'S SINCE 1851",
          "REN CLEAN SKINCARE",
          "BEAUTYBIO",
          "MURAD",
          "PERRICONE MD",
          "DERMADOCTOR",
          "BELIF",
          "CLINIQUE",
          "BOSCIA",
          "MURAD",
          "ALGENIST",
          "DR. BRANDT SKINCARE",
          "ALGENIST",
          "FRESH",
          "KATE SOMERVILLE",
          "PERRICONE MD",
          "ALGENIST",
          "PETER THOMAS ROTH",
          "CLARINS",
          "BOSCIA",
          "FRESH",
          "CLINIQUE",
          "JACK BLACK",
          "SEPHORA COLLECTION",
          "DR. BRANDT SKINCARE",
          "OMOROVICZA",
          "CLINIQUE",
          "PERRICONE MD",
          "ALGENIST",
          "PETER THOMAS ROTH",
          "SK-II",
          "DR. JART+",
          "SEPHORA COLLECTION",
          "SUMMER FRIDAYS",
          "FARMACY",
          "LANEIGE",
          "FRESH",
          "KIEHL'S SINCE 1851",
          "FRESH",
          "SUMMER FRIDAYS",
          "SEPHORA COLLECTION",
          "ORIGINS",
          "LA MER",
          "SAND & SKY",
          "DR. JART+",
          "ORIGINS",
          "ORIGINS",
          "PETER THOMAS ROTH",
          "TATCHA",
          "BOSCIA",
          "SEPHORA COLLECTION",
          "ESTÉE LAUDER",
          "KORA ORGANICS",
          "PETER THOMAS ROTH",
          "SK-II",
          "GLOW RECIPE",
          "DR. JART+",
          "FRESH",
          "FRESH",
          "ORIGINS",
          "ORIGINS",
          "FARMACY",
          "REN CLEAN SKINCARE",
          "KIEHL'S SINCE 1851",
          "ORIGINS",
          "KIEHL'S SINCE 1851",
          "GLAMGLOW",
          "ORIGINS",
          "SEPHORA COLLECTION",
          "FRESH",
          "SHISEIDO",
          "SEPHORA COLLECTION",
          "SK-II",
          "LA MER",
          "SEPHORA COLLECTION",
          "EVE LOM",
          "FRESH",
          "OLEHENRIKSEN",
          "CAUDALIE",
          "FRESH",
          "DR. JART+",
          "TATCHA",
          "ERNO LASZLO",
          "DR. JART+",
          "SEPHORA COLLECTION",
          "LANCÔME",
          "PHILOSOPHY",
          "TOO COOL FOR SCHOOL",
          "FARMACY",
          "SEPHORA COLLECTION",
          "ESTÉE LAUDER",
          "SEPHORA COLLECTION",
          "SEPHORA COLLECTION",
          "SHISEIDO",
          "FIRST AID BEAUTY",
          "REN CLEAN SKINCARE",
          "GLOW RECIPE",
          "SEPHORA COLLECTION",
          "TATCHA",
          "GLAMGLOW",
          "DR. JART+",
          "SEPHORA COLLECTION",
          "LANEIGE",
          "SEPHORA COLLECTION",
          "KIEHL'S SINCE 1851",
          "DR. BRANDT SKINCARE",
          "SATURDAY SKIN",
          "SEPHORA COLLECTION",
          "GLAMGLOW",
          "BOSCIA",
          "KORRES",
          "PETER THOMAS ROTH",
          "SEPHORA COLLECTION",
          "TATA HARPER",
          "DR. JART+",
          "DR. JART+",
          "FIRST AID BEAUTY",
          "DR. JART+",
          "AMOREPACIFIC",
          "SEPHORA COLLECTION",
          "FARMACY",
          "SEPHORA COLLECTION",
          "CLINIQUE",
          "BOSCIA",
          "FRESH",
          "SEPHORA COLLECTION",
          "ERNO LASZLO",
          "HERBIVORE",
          "TATA HARPER",
          "YOUTH TO THE PEOPLE",
          "DR. JART+",
          "INDIE LEE",
          "DIOR",
          "SEPHORA COLLECTION",
          "LANEIGE",
          "GLAMGLOW",
          "SEPHORA COLLECTION",
          "SEPHORA COLLECTION",
          "FRESH",
          "DR. JART+",
          "ESTÉE LAUDER",
          "DR. JART+",
          "LA MER",
          "FOREO",
          "DR. JART+",
          "DIOR",
          "BOSCIA",
          "EVE LOM",
          "PETER THOMAS ROTH",
          "KORRES",
          "ESTÉE LAUDER",
          "CAUDALIE",
          "DR. JART+",
          "ORIGINS",
          "SEPHORA COLLECTION",
          "SEPHORA COLLECTION",
          "FOREO",
          "CHARLOTTE TILBURY",
          "TATA HARPER",
          "LA MER",
          "VOLITION BEAUTY",
          "ORIGINS",
          "DR. BRANDT SKINCARE",
          "SEPHORA COLLECTION",
          "DR. JART+",
          "OMOROVICZA",
          "ORIGINS",
          "J.ONE",
          "SEPHORA COLLECTION",
          "SEPHORA COLLECTION",
          "DR. JART+",
          "SEPHORA COLLECTION",
          "DR. JART+",
          "DR. DENNIS GROSS SKINCARE",
          "PERRICONE MD",
          "BELIF",
          "SEPHORA COLLECTION",
          "PETER THOMAS ROTH",
          "SEPHORA COLLECTION",
          "CLARINS",
          "PERRICONE MD",
          "DR. JART+",
          "SEPHORA COLLECTION",
          "DR. JART+",
          "DR. JART+",
          "SATURDAY SKIN",
          "BLITHE",
          "DR. BRANDT SKINCARE",
          "CLARINS",
          "SEPHORA COLLECTION",
          "GLAMGLOW",
          "SEPHORA COLLECTION",
          "OMOROVICZA",
          "ALGENIST",
          "SEPHORA COLLECTION",
          "OLEHENRIKSEN",
          "DR. DENNIS GROSS SKINCARE",
          "FIRST AID BEAUTY",
          "REN CLEAN SKINCARE",
          "LANEIGE",
          "KIEHL'S SINCE 1851",
          "AMOREPACIFIC",
          "DR. JART+",
          "BOBBI BROWN",
          "CLINIQUE",
          "FOREO",
          "DR. BRANDT SKINCARE",
          "PETER THOMAS ROTH",
          "FIRST AID BEAUTY",
          "AMOREPACIFIC",
          "DIOR",
          "MURAD",
          "TOO COOL FOR SCHOOL",
          "CLINIQUE",
          "SEPHORA COLLECTION",
          "ESTÉE LAUDER",
          "LANCÔME",
          "OMOROVICZA",
          "FOREO",
          "DR ROEBUCK’S",
          "BOSCIA",
          "TOO COOL FOR SCHOOL",
          "SKIN INC SUPPLEMENT BAR",
          "TARTE",
          "DR. JART+",
          "FOREO",
          "DIOR",
          "DR. JART+",
          "DR. JART+",
          "BLITHE",
          "LANCÔME",
          "FOREO",
          "DR. JART+",
          "DIOR",
          "DR. JART+",
          "BOSCIA",
          "BOSCIA",
          "PHILOSOPHY",
          "ERBORIAN",
          "ORIGINS",
          "DR. JART+",
          "MURAD",
          "SEPHORA COLLECTION",
          "JOSIE MARAN",
          "KATE SOMERVILLE",
          "ALGENIST",
          "BOSCIA",
          "LA MER",
          "SKIN INC SUPPLEMENT BAR",
          "PETER THOMAS ROTH",
          "BOSCIA",
          "TOO COOL FOR SCHOOL",
          "TOO COOL FOR SCHOOL",
          "TOO COOL FOR SCHOOL",
          "BELIF",
          "SKIN LAUNDRY",
          "DERMADOCTOR",
          "KATE SOMERVILLE",
          "SEPHORA COLLECTION",
          "ORIGINS",
          "SKIN LAUNDRY",
          "REN CLEAN SKINCARE",
          "LANCER",
          "BELIF",
          "ORIGINS",
          "SEPHORA COLLECTION",
          "SEPHORA COLLECTION",
          "LANCÔME",
          "LANEIGE",
          "ORIGINS",
          "LANCER",
          "ANTHONY",
          "ALGENIST",
          "ORIGINS",
          "BOBBI BROWN",
          "CLARINS",
          "ORIGINS",
          "LANCER",
          "CLINIQUE",
          "DERMADOCTOR",
          "BOBBI BROWN",
          "SEPHORA COLLECTION",
          "EVE LOM",
          "ORIGINS",
          "TOO COOL FOR SCHOOL",
          "ST. TROPEZ TANNING ESSENTIALS",
          "NATURALLY SERIOUS",
          "EVE LOM",
          "ERNO LASZLO",
          "DR ROEBUCK’S",
          "PERRICONE MD",
          "ORIGINS",
          "ORIGINS",
          "SKIN LAUNDRY",
          "CLINIQUE",
          "LA MER",
          "DRUNK ELEPHANT",
          "SHISEIDO",
          "KIEHL'S SINCE 1851",
          "OLEHENRIKSEN",
          "ESTÉE LAUDER",
          "FRESH",
          "BELIF",
          "LA MER",
          "ORIGINS",
          "TATCHA",
          "SHISEIDO",
          "DRUNK ELEPHANT",
          "CLINIQUE",
          "SATURDAY SKIN",
          "IT COSMETICS",
          "SK-II",
          "DR. DENNIS GROSS SKINCARE",
          "BIOSSANCE",
          "LANCÔME",
          "PETER THOMAS ROTH",
          "ALGENIST",
          "KIEHL'S SINCE 1851",
          "WANDER BEAUTY",
          "LANEIGE",
          "CLARINS",
          "FRESH",
          "LA MER",
          "SEPHORA COLLECTION",
          "CLINIQUE",
          "LANCÔME",
          "ESTÉE LAUDER",
          "SHISEIDO",
          "LANEIGE",
          "FIRST AID BEAUTY",
          "WANDER BEAUTY",
          "SHISEIDO",
          "CAUDALIE",
          "TATCHA",
          "PETER THOMAS ROTH",
          "CAUDALIE",
          "PETER THOMAS ROTH",
          "TATA HARPER",
          "PETER THOMAS ROTH",
          "CLINIQUE",
          "LANCÔME",
          "KORA ORGANICS",
          "ESTÉE LAUDER",
          "AMOREPACIFIC",
          "MURAD",
          "PEACE OUT",
          "TARTE",
          "BOBBI BROWN",
          "DR. BRANDT SKINCARE",
          "FRESH",
          "ORIGINS",
          "YOUTH TO THE PEOPLE",
          "BOBBI BROWN",
          "SUNDAY RILEY",
          "SHISEIDO",
          "MURAD",
          "FIRST AID BEAUTY",
          "OLEHENRIKSEN",
          "KIEHL'S SINCE 1851",
          "FARMACY",
          "KORRES",
          "SHISEIDO",
          "PERRICONE MD",
          "EDIBLE BEAUTY",
          "SEPHORA COLLECTION",
          "CLINIQUE",
          "FRESH",
          "CAUDALIE",
          "LANCER",
          "FRESH",
          "DIOR",
          "CLARINS",
          "BELIF",
          "CLINIQUE",
          "AMOREPACIFIC",
          "PHILOSOPHY",
          "BEAUTYBIO",
          "FIRST AID BEAUTY",
          "KATE SOMERVILLE",
          "FRESH",
          "TARTE",
          "PERRICONE MD",
          "ORIGINS",
          "AMOREPACIFIC",
          "LANCÔME",
          "ORIGINS",
          "PERRICONE MD",
          "ERNO LASZLO",
          "CLINIQUE",
          "DR. DENNIS GROSS SKINCARE",
          "FIRST AID BEAUTY",
          "DR. DENNIS GROSS SKINCARE",
          "ERNO LASZLO",
          "GUERLAIN",
          "PERRICONE MD",
          "ESTÉE LAUDER",
          "SHISEIDO",
          "DR. DENNIS GROSS SKINCARE",
          "ALGENIST",
          "SHISEIDO",
          "KIEHL'S SINCE 1851",
          "DR ROEBUCK’S",
          "DIOR",
          "SHISEIDO",
          "PETER THOMAS ROTH",
          "LANCÔME",
          "FOREO",
          "L'OCCITANE",
          "DR. DENNIS GROSS SKINCARE",
          "DR. BRANDT SKINCARE",
          "PETER THOMAS ROTH",
          "MURAD",
          "L'OCCITANE",
          "PHILOSOPHY",
          "PERRICONE MD",
          "KIEHL'S SINCE 1851",
          "CLINIQUE",
          "KATE SOMERVILLE",
          "CLINIQUE",
          "CHARLOTTE TILBURY",
          "BOSCIA",
          "PERRICONE MD",
          "PHILOSOPHY",
          "REN CLEAN SKINCARE",
          "ANTHONY",
          "HUM NUTRITION",
          "PETER THOMAS ROTH",
          "KORRES",
          "BOSCIA",
          "BEAUTYBIO",
          "KIEHL'S SINCE 1851",
          "PERRICONE MD",
          "MURAD",
          "INDIE LEE",
          "FIRST AID BEAUTY",
          "KATE SOMERVILLE",
          "CLARINS",
          "ORIGINS",
          "VOLITION BEAUTY",
          "PETER THOMAS ROTH",
          "ESTÉE LAUDER",
          "PHILOSOPHY",
          "KATE SOMERVILLE",
          "DERMADOCTOR",
          "REN CLEAN SKINCARE",
          "PHILOSOPHY",
          "PERRICONE MD",
          "BAREMINERALS",
          "DIOR",
          "LANCÔME",
          "SHISEIDO",
          "TATCHA",
          "ORIGINS",
          "CLARINS",
          "SHISEIDO",
          "DIOR",
          "BEAUTYBIO",
          "PHILOSOPHY",
          "KATE SOMERVILLE",
          "CLARINS",
          "SUPERGOOP!",
          "FIRST AID BEAUTY",
          "KIEHL'S SINCE 1851",
          "PETER THOMAS ROTH",
          "DR. JART+",
          "TATA HARPER",
          "SK-II",
          "ALGENIST",
          "KIEHL'S SINCE 1851",
          "ORIGINS",
          "PERRICONE MD",
          "SKIN INC SUPPLEMENT BAR",
          "BAREMINERALS",
          "GUERLAIN",
          "PHILOSOPHY",
          "KLORANE",
          "DR. BRANDT SKINCARE",
          "ORIGINS",
          "ALGENIST",
          "NARS",
          "NATURALLY SERIOUS",
          "DERMADOCTOR",
          "BOSCIA",
          "PHILOSOPHY",
          "SKIN LAUNDRY",
          "DERMADOCTOR",
          "YVES SAINT LAURENT",
          "KATE SOMERVILLE",
          "CLARINS",
          "KENZOKI",
          "DR. BRANDT SKINCARE",
          "EVE LOM",
          "KLORANE",
          "CLINIQUE",
          "KENZOKI",
          "ESTÉE LAUDER",
          "BIOEFFECT",
          "PERRICONE MD",
          "PHILOSOPHY",
          "KENZOKI",
          "SEPHORA COLLECTION",
          "APIVITA",
          "OMOROVICZA",
          "REN CLEAN SKINCARE",
          "LAURA MERCIER",
          "LAURA MERCIER",
          "SHISEIDO",
          "NARS",
          "SUPERGOOP!",
          "LAURA MERCIER",
          "TATCHA",
          "SHISEIDO",
          "SUPERGOOP!",
          "KIEHL'S SINCE 1851",
          "LANCÔME",
          "NEOGEN DERMALOGY",
          "MURAD",
          "DRUNK ELEPHANT",
          "DRUNK ELEPHANT",
          "CLARINS",
          "SHISEIDO",
          "CLARINS",
          "SUPERGOOP!",
          "LAURA MERCIER",
          "NARS",
          "JOSIE MARAN",
          "FARMACY",
          "COOLA",
          "SHISEIDO",
          "AMOREPACIFIC",
          "PETER THOMAS ROTH",
          "PETER THOMAS ROTH",
          "SUPERGOOP!",
          "PHILOSOPHY",
          "PHILOSOPHY",
          "COOLA",
          "PERRICONE MD",
          "MURAD",
          "AMOREPACIFIC",
          "ESTÉE LAUDER",
          "CLARINS",
          "LANCÔME",
          "SHISEIDO",
          "ORIGINS",
          "SHISEIDO",
          "COOLA",
          "DIOR",
          "SUPERGOOP!",
          "LANCÔME",
          "SEPHORA COLLECTION",
          "CLINIQUE",
          "CLINIQUE",
          "VOLITION BEAUTY",
          "ESTÉE LAUDER",
          "SMASHBOX",
          "TARTE",
          "KIEHL'S SINCE 1851",
          "SHISEIDO",
          "CLINIQUE",
          "FIRST AID BEAUTY",
          "KIEHL'S SINCE 1851",
          "COOLA",
          "KIEHL'S SINCE 1851",
          "LA MER",
          "SUPERGOOP!",
          "COOLA",
          "SHISEIDO",
          "SHISEIDO",
          "SHISEIDO",
          "PETER THOMAS ROTH",
          "ILIA",
          "DIOR",
          "CLINIQUE",
          "SUPERGOOP!",
          "FIRST AID BEAUTY",
          "AMOREPACIFIC",
          "FRESH",
          "CLINIQUE",
          "ERBORIAN",
          "BIOSSANCE",
          "LANCER",
          "SUPERGOOP!",
          "CLINIQUE",
          "TARTE",
          "JACK BLACK",
          "CLINIQUE",
          "TARTE",
          "LAURA MERCIER",
          "COOLA",
          "COOLA",
          "FRESH",
          "MURAD",
          "SUPERGOOP!",
          "MURAD",
          "COOLA",
          "SUPERGOOP!",
          "ALGENIST",
          "DERMADOCTOR",
          "CLARINS",
          "CLINIQUE",
          "CLINIQUE",
          "SHISEIDO",
          "MDSOLARSCIENCES",
          "DR. DENNIS GROSS SKINCARE",
          "BELIF",
          "LAURA MERCIER",
          "ILIA",
          "ESTÉE LAUDER",
          "DR. DENNIS GROSS SKINCARE",
          "COOLA",
          "CLINIQUE",
          "SUPERGOOP!",
          "MOROCCANOIL",
          "DERMADOCTOR",
          "CLINIQUE",
          "COOLA",
          "ESTÉE LAUDER",
          "DR. DENNIS GROSS SKINCARE",
          "KIEHL'S SINCE 1851",
          "LANCÔME",
          "TOM FORD",
          "SKIN LAUNDRY",
          "KATE SOMERVILLE",
          "CLINIQUE",
          "COOLA",
          "LAURA MERCIER",
          "KAPLAN MD",
          "HUM NUTRITION",
          "CLINIQUE",
          "ESTÉE LAUDER",
          "ANTHONY",
          "MDSOLARSCIENCES",
          "KORRES",
          "AMOREPACIFIC",
          "COOLA",
          "MDSOLARSCIENCES",
          "COOLA",
          "ILIA",
          "EVE LOM",
          "DR. BRANDT SKINCARE",
          "CLARINS",
          "MDSOLARSCIENCES",
          "CLINIQUE",
          "COOLA",
          "MDSOLARSCIENCES",
          "CANE + AUSTIN",
          "SUPERGOOP!",
          "MOROCCANOIL",
          "CLINIQUE",
          "PHILOSOPHY",
          "AMOREPACIFIC",
          "BLACK UP",
          "COOLA",
          "MOROCCANOIL",
          "CLINIQUE",
          "MOROCCANOIL",
          "SHISEIDO",
          "COOLA",
          "CANE + AUSTIN",
          "MDSOLARSCIENCES",
          "COOLA",
          "MOROCCANOIL",
          "SUPERGOOP!",
          "PETER THOMAS ROTH",
          "COOLA",
          "VITA LIBERATA",
          "IT COSMETICS",
          "URBAN DECAY",
          "KATE SOMERVILLE",
          "KORRES",
          "KATE SOMERVILLE",
          "VITA LIBERATA",
          "ST. TROPEZ TANNING ESSENTIALS",
          "DERMAFLASH"
         ],
         "xaxis": "x",
         "y": [
          4.1,
          4.1,
          4.4,
          3.8,
          4.1,
          4.2,
          4.2,
          4.4,
          4.4,
          5,
          4.3,
          4.4,
          4.5,
          4.1,
          4.6,
          4.4,
          4.6,
          4.4,
          4.4,
          4.3,
          4.1,
          3.9,
          4.6,
          4.1,
          4.6,
          4.4,
          4.5,
          4.4,
          3.9,
          4.1,
          4.4,
          4.5,
          4.2,
          4.5,
          3.9,
          3.9,
          4.4,
          4.4,
          4.1,
          4.2,
          4,
          4.4,
          4.5,
          4.3,
          4.2,
          4.1,
          4.6,
          3.7,
          4.2,
          4.3,
          4.5,
          4.8,
          4.2,
          4.4,
          4.3,
          4.5,
          4.4,
          4.4,
          4.6,
          4.3,
          4.6,
          4,
          4.5,
          4.2,
          4.2,
          4.4,
          4.1,
          4,
          4.1,
          4,
          3.9,
          4.5,
          4,
          4.4,
          4.6,
          4.4,
          4.4,
          4.3,
          4.4,
          4.3,
          4.1,
          4.4,
          4.5,
          4.3,
          4,
          4.4,
          4.2,
          3.8,
          4.3,
          4.1,
          4.3,
          4.3,
          4.4,
          3.9,
          4.7,
          4.5,
          4.1,
          0,
          3.3,
          4.1,
          3.8,
          4.3,
          4.3,
          3.6,
          4.3,
          4,
          4.1,
          4.4,
          4.6,
          4.3,
          4.5,
          4.5,
          4.3,
          4.7,
          3.5,
          4.2,
          0,
          4.2,
          4.3,
          4.7,
          4.3,
          4.3,
          4.3,
          4.2,
          4.2,
          4.7,
          3.9,
          4.3,
          4.4,
          4.8,
          4.7,
          4.8,
          4.4,
          4.5,
          4.4,
          4.1,
          4.3,
          4.6,
          4,
          4.4,
          4.2,
          4.4,
          4.2,
          4.1,
          3.5,
          4.3,
          4.6,
          4.2,
          4.1,
          4.9,
          4.2,
          4.3,
          4.3,
          4.1,
          4.2,
          4.1,
          4.6,
          4.2,
          4.3,
          4.1,
          4.2,
          4.7,
          3.6,
          4.1,
          4.3,
          4.1,
          4.5,
          4,
          3.8,
          4.2,
          4,
          4.2,
          4.5,
          4.4,
          4.1,
          4.4,
          4,
          5,
          4.5,
          4.5,
          4.6,
          4.4,
          3.9,
          3.9,
          4.7,
          4.2,
          4.4,
          4.4,
          4,
          4.4,
          3.9,
          4.1,
          4.2,
          4.4,
          5,
          4.6,
          4.8,
          4.2,
          4.3,
          4.4,
          3.8,
          4.1,
          4.2,
          4.2,
          4.4,
          4,
          4.3,
          4.4,
          4.3,
          4.3,
          4.5,
          4.1,
          4.1,
          4.2,
          4.4,
          4.1,
          4.4,
          4.4,
          4.1,
          4.3,
          4.5,
          3.9,
          4.5,
          4,
          4.4,
          4.3,
          3.7,
          4.2,
          5,
          3.9,
          4.2,
          4.9,
          4.7,
          4.6,
          4.3,
          4.1,
          4.2,
          4.6,
          4.4,
          4.5,
          4,
          3.9,
          4.2,
          4.2,
          5,
          4.4,
          4.2,
          4.1,
          3.9,
          4.4,
          3.8,
          4.4,
          4.2,
          4.6,
          4.3,
          4.3,
          4.3,
          4.1,
          4.5,
          4.2,
          4.5,
          3.4,
          3.9,
          4.1,
          4,
          4.6,
          4.7,
          4.5,
          4.5,
          4.6,
          4.1,
          4.1,
          3.9,
          4.5,
          4.3,
          4.4,
          4.1,
          4.3,
          4.3,
          0,
          4,
          4.5,
          4.2,
          3.9,
          4.7,
          4,
          4.2,
          4.4,
          4.1,
          4.7,
          3.9,
          4.6,
          4.6,
          3.9,
          4.2,
          4.5,
          4.1,
          4.8,
          4.5,
          4.3,
          4.4,
          4.6,
          4.5,
          4.6,
          4.2,
          4.4,
          4.6,
          4.3,
          4.7,
          4.5,
          4.4,
          4.4,
          4.3,
          4.9,
          4.4,
          4.3,
          4.5,
          4.1,
          4.5,
          4.4,
          4.7,
          4.6,
          4.1,
          4.6,
          4.3,
          4.5,
          4.4,
          4.4,
          4.3,
          4.7,
          4.4,
          4.7,
          4.3,
          4.7,
          4.4,
          4.2,
          4.8,
          4.3,
          4.6,
          4.5,
          4.4,
          4.6,
          4.4,
          4.5,
          4.8,
          4.5,
          4.7,
          4.5,
          4.1,
          4.3,
          4.4,
          3.8,
          4.3,
          4.3,
          4.4,
          4.1,
          4.4,
          4.3,
          4.1,
          4.5,
          4.6,
          4.5,
          4.3,
          4.2,
          4.5,
          0,
          4.4,
          4.6,
          4.6,
          4.5,
          4.5,
          4.4,
          4.5,
          4.7,
          4,
          4.6,
          4.5,
          4.6,
          3.7,
          4.4,
          4.5,
          4.7,
          4.4,
          4.1,
          4.4,
          4.4,
          4.6,
          4.4,
          4.6,
          0,
          4.4,
          4.7,
          4.6,
          4.6,
          4.4,
          4.4,
          5,
          4.6,
          4.5,
          4.5,
          4.2,
          4.7,
          4.5,
          4.8,
          4.4,
          5,
          4.7,
          4.6,
          4.3,
          3.9,
          4.5,
          4.5,
          4.6,
          4.2,
          4.6,
          4.5,
          4.5,
          4.5,
          4.8,
          4.6,
          3.8,
          4.5,
          4.1,
          4.5,
          4.6,
          4.2,
          4.2,
          4.5,
          4.4,
          4.6,
          3.6,
          5,
          4.4,
          4.3,
          3.3,
          4.1,
          4.4,
          4.3,
          4.5,
          3.9,
          3.8,
          4.5,
          4.2,
          4.2,
          4.4,
          4.5,
          4.5,
          4.7,
          4.9,
          4.2,
          4.4,
          4.5,
          0,
          4.5,
          4.5,
          4.1,
          4.7,
          4.2,
          4.3,
          3.9,
          3.9,
          4.6,
          4.6,
          4.1,
          4.3,
          4.2,
          4.3,
          4.4,
          4.4,
          4.3,
          4.3,
          4.4,
          4.3,
          4.1,
          4.5,
          4.1,
          4.3,
          4.5,
          4.3,
          4.3,
          3.7,
          4.2,
          4.2,
          3.6,
          4.6,
          4.3,
          4.4,
          4.4,
          4.5,
          4.2,
          4.5,
          4.4,
          4.9,
          2.8,
          4.5,
          4.8,
          4.4,
          4.4,
          4.6,
          4.5,
          4.3,
          4.3,
          4.3,
          4.4,
          4.3,
          4.5,
          4.4,
          4.3,
          4.3,
          4.4,
          4.5,
          4.2,
          4.6,
          4.3,
          4.6,
          4.5,
          4.3,
          4.1,
          4.3,
          4.5,
          4.5,
          3.4,
          4.2,
          4.3,
          4.5,
          4.4,
          4.7,
          4.6,
          4.1,
          4.2,
          4.5,
          0,
          4.5,
          3.9,
          0,
          4.4,
          4.3,
          4.5,
          4.1,
          4,
          4.9,
          4.5,
          3.9,
          4.2,
          4.5,
          4.5,
          4.2,
          4.1,
          4.3,
          4.6,
          4,
          4.3,
          4.2,
          4.4,
          4.4,
          4.6,
          5,
          4.4,
          4.5,
          4.5,
          4.4,
          4.4,
          4.3,
          4.7,
          4.7,
          4.9,
          4.2,
          4.4,
          3.5,
          4.7,
          5,
          3.7,
          5,
          5,
          3.9,
          4.4,
          4.4,
          4.5,
          3.9,
          4.1,
          4.3,
          4.3,
          4.3,
          2,
          4.5,
          4.5,
          3.5,
          3.9,
          4.2,
          4.2,
          4.2,
          4.5,
          4,
          4.2,
          4.4,
          4.2,
          3.9,
          4,
          4.2,
          3.8,
          4.1,
          3.9,
          4.5,
          4,
          4.3,
          4.3,
          4.3,
          4.1,
          3.8,
          4.5,
          4.5,
          4.4,
          4.3,
          4.2,
          4.2,
          4.3,
          4.6,
          4.3,
          5,
          4.4,
          4.4,
          4.4,
          4.5,
          4.2,
          4,
          4.4,
          4.4,
          4.3,
          4.6,
          4.4,
          4.7,
          4,
          4.6,
          3.6,
          3.4,
          4.3,
          4.6,
          3.9,
          4.9,
          4,
          3.9,
          4.7,
          4.8,
          4.2,
          4.3,
          4.3,
          4.1,
          4.6,
          4.5,
          4.3,
          3.9,
          4.2,
          4.7,
          4,
          4.3,
          4.1,
          3.6,
          4,
          4.2,
          4.1,
          3.8,
          3.9,
          4.8,
          5,
          4.1,
          5,
          3.7,
          4.5,
          3.1,
          5,
          4.1,
          4.9,
          4.4,
          4.2,
          4.3,
          4.1,
          4.3,
          5,
          4.4,
          4.6,
          4.2,
          4.2,
          4.7,
          4.5,
          4.5,
          4.7,
          3.7,
          3.4,
          4.5,
          3.9,
          3.9,
          4.2,
          3.9,
          3.9,
          4,
          4,
          4.3,
          4.5,
          3.9,
          4.1,
          4.6,
          4,
          4.8,
          4.3,
          3.6,
          4.4,
          3.8,
          3.9,
          5,
          4.1,
          3.9,
          4.2,
          4.1,
          4.1,
          4,
          4.4,
          4,
          4.3,
          4.6,
          4.4,
          4.7,
          3.6,
          3.3,
          4.5,
          5,
          3.8,
          4.4,
          3.6,
          4.3,
          4.6,
          4.6,
          4,
          4.3,
          4.4,
          4.2,
          4.4,
          4,
          4.4,
          4.3,
          4,
          4.4,
          4.1,
          3.7,
          4.5,
          3.7,
          4.1,
          4.1,
          4,
          4.6,
          4.6,
          4,
          4,
          0,
          3.9,
          4.1,
          5,
          4.3,
          4.4,
          3.7,
          4.1,
          4.2,
          4.1,
          4.3,
          4.5,
          3.9,
          4.4,
          4.9,
          4.6,
          4.4,
          4.7,
          4.2,
          4.7,
          4.6,
          4.2,
          3.8,
          4.3,
          4.5,
          3.7,
          4.5,
          4.2,
          3.9,
          4.1,
          4.3,
          3.6,
          4,
          5,
          3.7,
          4.1,
          4.4,
          4.3,
          4.3,
          4.2,
          4.4,
          3.7,
          4.6,
          4.3,
          4,
          4.7,
          4.5,
          4.5,
          5,
          4.5,
          4.4,
          4.8,
          4.3,
          4,
          3.6,
          4.5,
          4.6,
          4.4,
          3.8,
          4.8,
          4.2,
          4.5,
          4.2,
          4.2,
          4.1,
          3.8,
          3.6,
          3.8,
          4.5,
          3.9,
          4.3,
          5,
          3.6,
          4.1,
          4.3,
          4.8,
          4.4,
          4.9,
          5,
          4.1,
          4.3,
          4.6,
          4.2,
          4.7,
          4.3,
          4.5,
          4.3,
          4.1,
          4.9,
          4.7,
          4.2,
          4.3,
          4.6,
          4.1,
          4.1,
          3.9,
          5,
          4,
          4.6,
          4.7,
          3.8,
          3.7,
          4.1,
          4.5,
          4,
          4.7,
          4.8,
          4.6,
          4.4,
          4,
          4.4,
          4.5,
          0,
          4.7,
          4.1,
          3.9,
          4.4,
          3.7,
          4.5,
          4.4,
          4.4,
          3.9,
          4.7,
          4.6,
          4.4,
          4.2,
          4.6,
          4.3,
          4.3,
          4.6,
          4.6,
          4.5,
          4.5,
          4.3,
          4.5,
          4.3,
          4.4,
          4.3,
          4.5,
          4.4,
          4.4,
          4.5,
          3.6,
          4,
          4.5,
          3.9,
          4.1,
          4.5,
          4.3,
          2.6,
          4.4,
          4.6,
          4.6,
          4.7,
          4.3,
          3.5,
          4.4,
          4.4,
          4.7,
          3.9,
          4,
          4.3,
          4.3,
          4.3,
          4.3,
          4.7,
          4.5,
          3.5,
          4.6,
          4.4,
          4,
          4.1,
          4.7,
          4.2,
          4.4,
          4.4,
          4.4,
          4.4,
          4.4,
          4.3,
          4.7,
          4.1,
          4.8,
          4,
          4.2,
          4.2,
          4.6,
          4.1,
          4.1,
          4.7,
          4.6,
          4.3,
          4.5,
          3.8,
          4.1,
          4.4,
          3.3,
          4.3,
          4.4,
          4.5,
          4.3,
          5,
          5,
          4.3,
          4.3,
          5,
          4.7,
          4.5,
          4.5,
          4.6,
          3.8,
          4.3,
          3.8,
          4.8,
          5,
          4.7,
          3.9,
          2.8,
          4.6,
          4.3,
          4.5,
          4.4,
          5,
          3.4,
          3,
          4.9,
          4.3,
          4.3,
          4.2,
          4,
          3.9,
          4.3,
          4.6,
          4.1,
          4.9,
          3.2,
          5,
          3.7,
          5,
          4.5,
          4.8,
          4.2,
          4.1,
          4,
          3.9,
          4.8,
          4.1,
          5,
          4.3,
          4.6,
          4.4,
          5,
          4,
          4,
          4.4,
          3.8,
          3.8,
          4.1,
          4.3,
          4.5,
          4.5,
          4.6,
          4.6,
          4.5,
          0,
          5,
          4.2,
          3.6,
          3.8,
          4.1,
          3.3,
          2.8,
          4.6,
          4,
          3.9,
          4.2,
          4.1,
          1,
          3.8,
          4.2,
          3.3,
          4.1,
          4.1,
          4.8,
          4.3,
          3.8,
          3.4,
          4.3,
          4.3,
          3.8,
          4,
          0,
          3.4,
          4.9,
          4.5,
          4.2,
          4.3,
          4.2,
          3.7,
          4.5,
          3.9,
          4.2,
          4.1,
          4.3,
          4.6,
          3.8,
          4.2,
          4,
          4,
          4.3,
          3,
          2.9,
          3.6,
          5,
          4.1,
          4.3,
          4.3,
          4.4,
          3.6,
          3.8,
          4.4,
          3.8,
          4.6,
          3.9,
          4,
          4.6,
          4.4,
          4.2,
          2.7,
          3.6,
          3.5,
          3.8,
          4.5,
          0,
          4.2,
          3.7,
          4.4,
          3.9,
          3.8,
          2.7,
          4.5,
          3.6,
          0,
          4.3,
          4.3,
          4.2,
          4.4,
          4,
          4.6,
          4.1,
          4,
          4,
          4.4,
          3.9,
          4.2,
          4.5,
          3.7,
          4.3,
          3.8,
          3.8,
          3.6,
          4.4,
          4,
          3.9,
          4.3,
          4,
          4.2,
          4.2,
          3.5,
          4.2,
          4.1,
          4.1,
          3.2,
          3.8,
          4.2,
          4.1,
          4.6,
          3.9,
          4,
          4,
          4.1,
          3.7,
          4.2,
          4,
          4.4,
          3.7,
          3.9,
          4.1,
          3.5,
          4.3,
          4.1,
          4.6,
          4,
          4.2,
          3.8,
          4.3,
          4.1,
          4,
          4.1,
          3.3,
          3.9,
          4.2,
          4,
          3.9,
          3.9,
          4.1,
          4.2,
          3.6,
          4.4,
          4.5,
          3,
          3.9,
          3.8,
          3.3,
          4.4,
          5,
          4.5,
          4,
          4.3,
          3.8,
          3.9,
          3.8,
          4.3,
          3.9,
          3.7,
          3.5,
          4.2,
          4.3,
          4.1,
          5,
          3.7,
          3.8,
          4,
          5,
          4.2,
          3.4,
          3.7,
          3.9,
          4.5,
          3,
          4.6,
          3.5,
          4.4,
          3.9,
          3.7,
          3.8,
          2.8,
          4,
          3.5,
          4,
          3.6,
          3.9,
          3.5,
          3.7,
          3.5,
          3.5,
          3.8,
          4,
          4.1,
          4,
          4.3,
          3.8,
          3.7,
          3.9,
          3.3,
          3.9,
          4.2,
          5,
          4.2,
          3.6,
          4.3,
          3.8,
          3.3,
          4,
          3.6,
          0,
          4,
          3.8,
          4.2,
          3.8,
          3.4,
          3,
          3.8,
          3.4,
          3.9,
          3.7,
          3.3,
          3.9,
          3.9,
          4.1,
          3.7,
          3.3,
          3.5,
          4.2,
          3.8,
          3.5,
          4,
          3.7,
          4,
          3.4,
          0,
          4.1,
          5,
          3.7,
          3.6,
          3.4,
          3.8,
          3.7,
          3.1,
          4,
          3.7,
          3,
          3,
          4.3,
          3.6,
          4,
          3.6,
          3.5,
          3.5,
          5,
          3.9,
          4,
          4.2,
          3.2,
          3,
          3.3,
          3.3,
          3.8,
          1.8,
          4.1,
          3.8,
          3.9,
          3.4,
          3,
          4,
          3.5,
          3,
          3.5,
          3.3,
          3.7,
          3.9,
          3.7,
          5,
          4.1,
          3.1,
          3.5,
          0,
          4,
          3.8,
          3.7,
          4.4,
          4.3,
          4.5,
          4.4,
          4.5,
          4.4,
          4.5,
          3.7,
          4.3,
          4.4,
          4.4,
          4.6,
          4.7,
          3.3,
          3.6,
          4.1,
          4.3,
          3.9,
          3.7,
          4.1,
          4.1,
          4,
          4.6,
          4.6,
          4.1,
          4.2,
          4.1,
          4.6,
          4.1,
          4.1,
          3.8,
          4.1,
          4.3,
          4.2,
          3.8,
          3.8,
          3.5,
          4.2,
          5,
          4.6,
          4.1,
          3.8,
          4,
          3.3,
          4.2,
          4.2,
          4.3,
          3.9,
          4.2,
          3.8,
          4.1,
          4.2,
          3.7,
          4.1,
          4.2,
          3.6,
          3.5,
          4.4,
          3.5,
          4.7,
          3.7,
          4.2,
          4.2,
          5,
          4.3,
          3.4,
          3.7,
          4.3,
          4,
          4.2,
          4.1,
          4,
          3.5,
          4.2,
          4.5,
          3.7,
          4.8,
          4.1,
          4.4,
          4,
          4.6,
          4.2,
          3.7,
          4.1,
          3.9,
          4.1,
          4.1,
          3.7,
          4.7,
          4.3,
          3.4,
          4.3,
          4.1,
          3.4,
          4.1,
          3.8,
          3.8,
          4.5,
          4.3,
          4.1,
          3.7,
          4.4,
          4.8,
          4.2,
          3.8,
          4.4,
          4.4,
          5,
          0,
          3.9,
          4.4,
          4.6,
          4.6,
          3.9,
          3.7,
          4.2,
          4.6,
          4.1,
          3.2,
          4.1,
          4.4,
          4.2,
          4,
          4.2,
          4.3,
          3.7,
          4,
          4.1,
          4.6,
          4,
          4.1,
          4.1,
          4.8,
          3.6,
          4.4,
          3.6,
          3.8,
          4.5,
          3.7,
          4.8,
          4.2,
          4.1,
          3.8,
          4.9,
          3.3,
          3.7,
          3.3,
          4.7,
          4.5,
          3.9,
          4.3,
          4.4,
          3,
          3.1,
          4.2,
          3.9,
          5,
          4.7,
          4.8,
          3.7,
          4.8,
          4.2,
          4.1,
          4.1,
          3.9,
          3.9,
          3.6,
          3.5,
          1,
          0
         ],
         "yaxis": "y"
        }
       ],
       "layout": {
        "barmode": "relative",
        "font": {
         "family": "Redaction"
        },
        "legend": {
         "orientation": "h",
         "title": {},
         "tracegroupgap": 0,
         "x": 0.5,
         "xanchor": "center",
         "y": 1,
         "yanchor": "bottom"
        },
        "margin": {
         "t": 60
        },
        "template": {
         "data": {
          "bar": [
           {
            "error_x": {
             "color": "#2a3f5f"
            },
            "error_y": {
             "color": "#2a3f5f"
            },
            "marker": {
             "line": {
              "color": "#E5ECF6",
              "width": 0.5
             },
             "pattern": {
              "fillmode": "overlay",
              "size": 10,
              "solidity": 0.2
             }
            },
            "type": "bar"
           }
          ],
          "barpolar": [
           {
            "marker": {
             "line": {
              "color": "#E5ECF6",
              "width": 0.5
             },
             "pattern": {
              "fillmode": "overlay",
              "size": 10,
              "solidity": 0.2
             }
            },
            "type": "barpolar"
           }
          ],
          "carpet": [
           {
            "aaxis": {
             "endlinecolor": "#2a3f5f",
             "gridcolor": "white",
             "linecolor": "white",
             "minorgridcolor": "white",
             "startlinecolor": "#2a3f5f"
            },
            "baxis": {
             "endlinecolor": "#2a3f5f",
             "gridcolor": "white",
             "linecolor": "white",
             "minorgridcolor": "white",
             "startlinecolor": "#2a3f5f"
            },
            "type": "carpet"
           }
          ],
          "choropleth": [
           {
            "colorbar": {
             "outlinewidth": 0,
             "ticks": ""
            },
            "type": "choropleth"
           }
          ],
          "contour": [
           {
            "colorbar": {
             "outlinewidth": 0,
             "ticks": ""
            },
            "colorscale": [
             [
              0,
              "#0d0887"
             ],
             [
              0.1111111111111111,
              "#46039f"
             ],
             [
              0.2222222222222222,
              "#7201a8"
             ],
             [
              0.3333333333333333,
              "#9c179e"
             ],
             [
              0.4444444444444444,
              "#bd3786"
             ],
             [
              0.5555555555555556,
              "#d8576b"
             ],
             [
              0.6666666666666666,
              "#ed7953"
             ],
             [
              0.7777777777777778,
              "#fb9f3a"
             ],
             [
              0.8888888888888888,
              "#fdca26"
             ],
             [
              1,
              "#f0f921"
             ]
            ],
            "type": "contour"
           }
          ],
          "contourcarpet": [
           {
            "colorbar": {
             "outlinewidth": 0,
             "ticks": ""
            },
            "type": "contourcarpet"
           }
          ],
          "heatmap": [
           {
            "colorbar": {
             "outlinewidth": 0,
             "ticks": ""
            },
            "colorscale": [
             [
              0,
              "#0d0887"
             ],
             [
              0.1111111111111111,
              "#46039f"
             ],
             [
              0.2222222222222222,
              "#7201a8"
             ],
             [
              0.3333333333333333,
              "#9c179e"
             ],
             [
              0.4444444444444444,
              "#bd3786"
             ],
             [
              0.5555555555555556,
              "#d8576b"
             ],
             [
              0.6666666666666666,
              "#ed7953"
             ],
             [
              0.7777777777777778,
              "#fb9f3a"
             ],
             [
              0.8888888888888888,
              "#fdca26"
             ],
             [
              1,
              "#f0f921"
             ]
            ],
            "type": "heatmap"
           }
          ],
          "heatmapgl": [
           {
            "colorbar": {
             "outlinewidth": 0,
             "ticks": ""
            },
            "colorscale": [
             [
              0,
              "#0d0887"
             ],
             [
              0.1111111111111111,
              "#46039f"
             ],
             [
              0.2222222222222222,
              "#7201a8"
             ],
             [
              0.3333333333333333,
              "#9c179e"
             ],
             [
              0.4444444444444444,
              "#bd3786"
             ],
             [
              0.5555555555555556,
              "#d8576b"
             ],
             [
              0.6666666666666666,
              "#ed7953"
             ],
             [
              0.7777777777777778,
              "#fb9f3a"
             ],
             [
              0.8888888888888888,
              "#fdca26"
             ],
             [
              1,
              "#f0f921"
             ]
            ],
            "type": "heatmapgl"
           }
          ],
          "histogram": [
           {
            "marker": {
             "pattern": {
              "fillmode": "overlay",
              "size": 10,
              "solidity": 0.2
             }
            },
            "type": "histogram"
           }
          ],
          "histogram2d": [
           {
            "colorbar": {
             "outlinewidth": 0,
             "ticks": ""
            },
            "colorscale": [
             [
              0,
              "#0d0887"
             ],
             [
              0.1111111111111111,
              "#46039f"
             ],
             [
              0.2222222222222222,
              "#7201a8"
             ],
             [
              0.3333333333333333,
              "#9c179e"
             ],
             [
              0.4444444444444444,
              "#bd3786"
             ],
             [
              0.5555555555555556,
              "#d8576b"
             ],
             [
              0.6666666666666666,
              "#ed7953"
             ],
             [
              0.7777777777777778,
              "#fb9f3a"
             ],
             [
              0.8888888888888888,
              "#fdca26"
             ],
             [
              1,
              "#f0f921"
             ]
            ],
            "type": "histogram2d"
           }
          ],
          "histogram2dcontour": [
           {
            "colorbar": {
             "outlinewidth": 0,
             "ticks": ""
            },
            "colorscale": [
             [
              0,
              "#0d0887"
             ],
             [
              0.1111111111111111,
              "#46039f"
             ],
             [
              0.2222222222222222,
              "#7201a8"
             ],
             [
              0.3333333333333333,
              "#9c179e"
             ],
             [
              0.4444444444444444,
              "#bd3786"
             ],
             [
              0.5555555555555556,
              "#d8576b"
             ],
             [
              0.6666666666666666,
              "#ed7953"
             ],
             [
              0.7777777777777778,
              "#fb9f3a"
             ],
             [
              0.8888888888888888,
              "#fdca26"
             ],
             [
              1,
              "#f0f921"
             ]
            ],
            "type": "histogram2dcontour"
           }
          ],
          "mesh3d": [
           {
            "colorbar": {
             "outlinewidth": 0,
             "ticks": ""
            },
            "type": "mesh3d"
           }
          ],
          "parcoords": [
           {
            "line": {
             "colorbar": {
              "outlinewidth": 0,
              "ticks": ""
             }
            },
            "type": "parcoords"
           }
          ],
          "pie": [
           {
            "automargin": true,
            "type": "pie"
           }
          ],
          "scatter": [
           {
            "fillpattern": {
             "fillmode": "overlay",
             "size": 10,
             "solidity": 0.2
            },
            "type": "scatter"
           }
          ],
          "scatter3d": [
           {
            "line": {
             "colorbar": {
              "outlinewidth": 0,
              "ticks": ""
             }
            },
            "marker": {
             "colorbar": {
              "outlinewidth": 0,
              "ticks": ""
             }
            },
            "type": "scatter3d"
           }
          ],
          "scattercarpet": [
           {
            "marker": {
             "colorbar": {
              "outlinewidth": 0,
              "ticks": ""
             }
            },
            "type": "scattercarpet"
           }
          ],
          "scattergeo": [
           {
            "marker": {
             "colorbar": {
              "outlinewidth": 0,
              "ticks": ""
             }
            },
            "type": "scattergeo"
           }
          ],
          "scattergl": [
           {
            "marker": {
             "colorbar": {
              "outlinewidth": 0,
              "ticks": ""
             }
            },
            "type": "scattergl"
           }
          ],
          "scattermapbox": [
           {
            "marker": {
             "colorbar": {
              "outlinewidth": 0,
              "ticks": ""
             }
            },
            "type": "scattermapbox"
           }
          ],
          "scatterpolar": [
           {
            "marker": {
             "colorbar": {
              "outlinewidth": 0,
              "ticks": ""
             }
            },
            "type": "scatterpolar"
           }
          ],
          "scatterpolargl": [
           {
            "marker": {
             "colorbar": {
              "outlinewidth": 0,
              "ticks": ""
             }
            },
            "type": "scatterpolargl"
           }
          ],
          "scatterternary": [
           {
            "marker": {
             "colorbar": {
              "outlinewidth": 0,
              "ticks": ""
             }
            },
            "type": "scatterternary"
           }
          ],
          "surface": [
           {
            "colorbar": {
             "outlinewidth": 0,
             "ticks": ""
            },
            "colorscale": [
             [
              0,
              "#0d0887"
             ],
             [
              0.1111111111111111,
              "#46039f"
             ],
             [
              0.2222222222222222,
              "#7201a8"
             ],
             [
              0.3333333333333333,
              "#9c179e"
             ],
             [
              0.4444444444444444,
              "#bd3786"
             ],
             [
              0.5555555555555556,
              "#d8576b"
             ],
             [
              0.6666666666666666,
              "#ed7953"
             ],
             [
              0.7777777777777778,
              "#fb9f3a"
             ],
             [
              0.8888888888888888,
              "#fdca26"
             ],
             [
              1,
              "#f0f921"
             ]
            ],
            "type": "surface"
           }
          ],
          "table": [
           {
            "cells": {
             "fill": {
              "color": "#EBF0F8"
             },
             "line": {
              "color": "white"
             }
            },
            "header": {
             "fill": {
              "color": "#C8D4E3"
             },
             "line": {
              "color": "white"
             }
            },
            "type": "table"
           }
          ]
         },
         "layout": {
          "annotationdefaults": {
           "arrowcolor": "#2a3f5f",
           "arrowhead": 0,
           "arrowwidth": 1
          },
          "autotypenumbers": "strict",
          "coloraxis": {
           "colorbar": {
            "outlinewidth": 0,
            "ticks": ""
           }
          },
          "colorscale": {
           "diverging": [
            [
             0,
             "#8e0152"
            ],
            [
             0.1,
             "#c51b7d"
            ],
            [
             0.2,
             "#de77ae"
            ],
            [
             0.3,
             "#f1b6da"
            ],
            [
             0.4,
             "#fde0ef"
            ],
            [
             0.5,
             "#f7f7f7"
            ],
            [
             0.6,
             "#e6f5d0"
            ],
            [
             0.7,
             "#b8e186"
            ],
            [
             0.8,
             "#7fbc41"
            ],
            [
             0.9,
             "#4d9221"
            ],
            [
             1,
             "#276419"
            ]
           ],
           "sequential": [
            [
             0,
             "#0d0887"
            ],
            [
             0.1111111111111111,
             "#46039f"
            ],
            [
             0.2222222222222222,
             "#7201a8"
            ],
            [
             0.3333333333333333,
             "#9c179e"
            ],
            [
             0.4444444444444444,
             "#bd3786"
            ],
            [
             0.5555555555555556,
             "#d8576b"
            ],
            [
             0.6666666666666666,
             "#ed7953"
            ],
            [
             0.7777777777777778,
             "#fb9f3a"
            ],
            [
             0.8888888888888888,
             "#fdca26"
            ],
            [
             1,
             "#f0f921"
            ]
           ],
           "sequentialminus": [
            [
             0,
             "#0d0887"
            ],
            [
             0.1111111111111111,
             "#46039f"
            ],
            [
             0.2222222222222222,
             "#7201a8"
            ],
            [
             0.3333333333333333,
             "#9c179e"
            ],
            [
             0.4444444444444444,
             "#bd3786"
            ],
            [
             0.5555555555555556,
             "#d8576b"
            ],
            [
             0.6666666666666666,
             "#ed7953"
            ],
            [
             0.7777777777777778,
             "#fb9f3a"
            ],
            [
             0.8888888888888888,
             "#fdca26"
            ],
            [
             1,
             "#f0f921"
            ]
           ]
          },
          "colorway": [
           "#636efa",
           "#EF553B",
           "#00cc96",
           "#ab63fa",
           "#FFA15A",
           "#19d3f3",
           "#FF6692",
           "#B6E880",
           "#FF97FF",
           "#FECB52"
          ],
          "font": {
           "color": "#2a3f5f"
          },
          "geo": {
           "bgcolor": "white",
           "lakecolor": "white",
           "landcolor": "#E5ECF6",
           "showlakes": true,
           "showland": true,
           "subunitcolor": "white"
          },
          "hoverlabel": {
           "align": "left"
          },
          "hovermode": "closest",
          "mapbox": {
           "style": "light"
          },
          "paper_bgcolor": "white",
          "plot_bgcolor": "#E5ECF6",
          "polar": {
           "angularaxis": {
            "gridcolor": "white",
            "linecolor": "white",
            "ticks": ""
           },
           "bgcolor": "#E5ECF6",
           "radialaxis": {
            "gridcolor": "white",
            "linecolor": "white",
            "ticks": ""
           }
          },
          "scene": {
           "xaxis": {
            "backgroundcolor": "#E5ECF6",
            "gridcolor": "white",
            "gridwidth": 2,
            "linecolor": "white",
            "showbackground": true,
            "ticks": "",
            "zerolinecolor": "white"
           },
           "yaxis": {
            "backgroundcolor": "#E5ECF6",
            "gridcolor": "white",
            "gridwidth": 2,
            "linecolor": "white",
            "showbackground": true,
            "ticks": "",
            "zerolinecolor": "white"
           },
           "zaxis": {
            "backgroundcolor": "#E5ECF6",
            "gridcolor": "white",
            "gridwidth": 2,
            "linecolor": "white",
            "showbackground": true,
            "ticks": "",
            "zerolinecolor": "white"
           }
          },
          "shapedefaults": {
           "line": {
            "color": "#2a3f5f"
           }
          },
          "ternary": {
           "aaxis": {
            "gridcolor": "white",
            "linecolor": "white",
            "ticks": ""
           },
           "baxis": {
            "gridcolor": "white",
            "linecolor": "white",
            "ticks": ""
           },
           "bgcolor": "#E5ECF6",
           "caxis": {
            "gridcolor": "white",
            "linecolor": "white",
            "ticks": ""
           }
          },
          "title": {
           "x": 0.05
          },
          "xaxis": {
           "automargin": true,
           "gridcolor": "white",
           "linecolor": "white",
           "ticks": "",
           "title": {
            "standoff": 15
           },
           "zerolinecolor": "white",
           "zerolinewidth": 2
          },
          "yaxis": {
           "automargin": true,
           "gridcolor": "white",
           "linecolor": "white",
           "ticks": "",
           "title": {
            "standoff": 15
           },
           "zerolinecolor": "white",
           "zerolinewidth": 2
          }
         }
        },
        "xaxis": {
         "anchor": "y",
         "domain": [
          0,
          1
         ],
         "title": {
          "text": "Brand"
         }
        },
        "yaxis": {
         "anchor": "x",
         "domain": [
          0,
          1
         ],
         "title": {
          "text": "Rank"
         }
        }
       }
      }
     },
     "metadata": {},
     "output_type": "display_data"
    }
   ],
   "source": [
    "fig = px.bar(df, x='Brand', y='Rank'\n",
    "            )\n",
    "\n",
    "fig.update_layout( # customize font and legend orientation & position\n",
    "    font_family=\"Redaction\",\n",
    "    legend=dict(\n",
    "        title=None, orientation=\"h\", y=1, yanchor=\"bottom\", x=0.5, xanchor=\"center\"\n",
    "    )\n",
    ")\n",
    "\n",
    "\n",
    "fig.show()"
   ]
  },
  {
   "cell_type": "code",
   "execution_count": 44,
   "metadata": {},
   "outputs": [
    {
     "data": {
      "application/vnd.plotly.v1+json": {
       "config": {
        "plotlyServerURL": "https://plot.ly"
       },
       "data": [
        {
         "alignmentgroup": "True",
         "hovertemplate": "Toxin=%{x}<br>Product=%{y}<extra></extra>",
         "legendgroup": "",
         "marker": {
          "color": "#636efa",
          "pattern": {
           "shape": ""
          }
         },
         "name": "",
         "offsetgroup": "",
         "orientation": "v",
         "showlegend": false,
         "textposition": "auto",
         "type": "bar",
         "x": [
          "Ethanolamine",
          "Oxybenzone",
          "Oxybenzone",
          "Oxybenzone",
          "Oxybenzone",
          "Oxybenzone",
          "Oxybenzone",
          "Oxybenzone",
          "Oxybenzone",
          "Oxybenzone",
          "Oxybenzone",
          "Oxybenzone",
          "Oxybenzone",
          "Ethanolamine",
          "Formaldehyde",
          "Diethanol",
          "Silane",
          "Silane",
          "Silane",
          "Silane",
          "Silane",
          "Silane",
          "Silane",
          "Silane",
          "Silane",
          "Silane",
          "Silane",
          "Silane",
          "Silane",
          "Silane",
          "Silane",
          "Silane",
          "Silane",
          "Silane",
          "Silane",
          "Silane",
          "Silane",
          "Silane",
          "Silane",
          "Silane",
          "Silane",
          "Silane",
          "Silane",
          "Silane",
          "Silane",
          "Silane",
          "Silane",
          "Silane",
          "Silane",
          "Silane",
          "Silane",
          "Silane",
          "Silane",
          "Silane",
          "Silane",
          "Silane",
          "Silane",
          "Silane",
          "Silane",
          "Silane",
          "Silane",
          "Silane",
          "Silane",
          "Silane",
          "Silane",
          "Silane",
          "Silane",
          "Silane",
          "Octinaxate"
         ],
         "xaxis": "x",
         "y": [
          "No products found",
          "No products found",
          "Camera Ready CC Cream Broad Spectrum SPF 30 Dark Spot Correcting",
          "Lingerie de Peau BB Cream",
          "Exfoliating Scrub",
          "Hydra Life BB Creme Broad Spectrum SPF 30",
          "The Broad Spectrum SPF 50 UV Protecting Fluid",
          "Ultimate Sun Protection Spray Broad Spectrum SPF 50+ For Face/Body",
          "Broad Spectrum SPF 50 Sunscreen Face Cream",
          "DayWear UV Base Advanced Anti-Oxidant & UV Defense SPF 50",
          "DayWear BB Anti-Oxidant Beauty Benefit Crème SPF 35",
          "Protect Ultra Sheer Weightless Sunscreen Broad Spectrum SPF 50+ UVA/UVB",
          "Sun Lotion 30 SPF",
          "Radiance Awakening Mask Intense",
          "No products found",
          "No products found",
          "Ultra Facial Cream",
          "The True Cream Moisturizing Bomb",
          "Water Bank Moisture Cream",
          "Dramatically Different Moisturizing Gel",
          "Revitalizing Supreme Global Anti-Aging Crème",
          "Renewed Hope in A Jar Refreshing & Refining Moisturizer",
          "Dramatically Different Hydrating Jelly",
          "Drink of H2O Hydrating Boost Moisturizer Rainforest of the Sea™",
          "Limited Edition Dramatically Different™ Moisturizing Gel",
          "Cooling Water",
          "DREAMDUO™ Overnight Transforming Treatment",
          "Essential Power Skin Toner for Normal to Dry Skin",
          "Bergamot Herbal Extract Toner",
          "A Glowing Regimen Trial Set",
          "FRXXXTION Stick Exfoliating Cleanser",
          "Fresh Pressed 7-day System with Pure Vitamin C",
          "Advanced Night Repair Synchronized Recovery Complex II",
          "The Treatment Lotion",
          "Skin Love Glow Elixir",
          "needles no more™",
          "Fresh Pressed Daily Booster with Pure Vitamin C 10%",
          "Watermelon Brightening Serum",
          "MOISTURE BOUND Rejuvenating Serum",
          "Repairwear Laser Focus",
          "needles no more® 3-D filler mask",
          "Perfectionist Pro Rapid Firm + Lift Treatment",
          "Future Solution LX Intensive Firming Contour Serum",
          "Advanced Night Repair Concentrated Recovery PowerFoil Mask",
          "The Brilliance Brightening Mask",
          "Nutritious Vitality8™ Night Creme/Mask",
          "Treatment Lotion Hydrating Mask",
          "Advanced Night Repair Concentrated Recovery Eye Mask",
          "Plantscription™ Powerful Lifting Overnight Mask",
          "Water Pocket Sheet Mask Sleeping Mask (Replenishing)",
          "Flower Fusion™ Lavender Soothing Sheet Mask",
          "Flower Fusion™ Rose Hydrating Sheet Mask",
          "Flower Fusion™ Raspberry Refreshing Sheet Mask",
          "Flower Fusion™ Violet Nourishing Sheet Mask",
          "Flower Fusion™ Orange Radiance-Boosting Sheet Mask",
          "Advanced Night Repair Eye Concentrate Matrix",
          "Advanced Night Repair Eye Serum Synchronized Complex II",
          "Eye Doctor™ Moisture Care For Skin Around Eyes",
          "Intensive Vitalizing Eye Essence",
          "Goat Milk De-Puffing Eye Balm",
          "Super-Cool De-Puffing Eye Balm",
          "Renewed Hope In A Jar Eye",
          "FIRMx™ 360 Eye Renewal",
          "Time In A Bottle For Eyes 100% In-Control",
          "Renewed Hope In A Jar SPF 30",
          "Essential-C Eye Cream SPF 15 PA++",
          "Do Not Age with Dr. Brandt Triple Peptide Eye Cream",
          "ELEVATE Firming & Lifting Contouring Eye Cream",
          "No products found"
         ],
         "yaxis": "y"
        }
       ],
       "layout": {
        "barmode": "relative",
        "font": {
         "family": "Redaction"
        },
        "legend": {
         "orientation": "h",
         "title": {},
         "tracegroupgap": 0,
         "x": 0.5,
         "xanchor": "center",
         "y": 1,
         "yanchor": "bottom"
        },
        "margin": {
         "t": 60
        },
        "template": {
         "data": {
          "bar": [
           {
            "error_x": {
             "color": "#2a3f5f"
            },
            "error_y": {
             "color": "#2a3f5f"
            },
            "marker": {
             "line": {
              "color": "#E5ECF6",
              "width": 0.5
             },
             "pattern": {
              "fillmode": "overlay",
              "size": 10,
              "solidity": 0.2
             }
            },
            "type": "bar"
           }
          ],
          "barpolar": [
           {
            "marker": {
             "line": {
              "color": "#E5ECF6",
              "width": 0.5
             },
             "pattern": {
              "fillmode": "overlay",
              "size": 10,
              "solidity": 0.2
             }
            },
            "type": "barpolar"
           }
          ],
          "carpet": [
           {
            "aaxis": {
             "endlinecolor": "#2a3f5f",
             "gridcolor": "white",
             "linecolor": "white",
             "minorgridcolor": "white",
             "startlinecolor": "#2a3f5f"
            },
            "baxis": {
             "endlinecolor": "#2a3f5f",
             "gridcolor": "white",
             "linecolor": "white",
             "minorgridcolor": "white",
             "startlinecolor": "#2a3f5f"
            },
            "type": "carpet"
           }
          ],
          "choropleth": [
           {
            "colorbar": {
             "outlinewidth": 0,
             "ticks": ""
            },
            "type": "choropleth"
           }
          ],
          "contour": [
           {
            "colorbar": {
             "outlinewidth": 0,
             "ticks": ""
            },
            "colorscale": [
             [
              0,
              "#0d0887"
             ],
             [
              0.1111111111111111,
              "#46039f"
             ],
             [
              0.2222222222222222,
              "#7201a8"
             ],
             [
              0.3333333333333333,
              "#9c179e"
             ],
             [
              0.4444444444444444,
              "#bd3786"
             ],
             [
              0.5555555555555556,
              "#d8576b"
             ],
             [
              0.6666666666666666,
              "#ed7953"
             ],
             [
              0.7777777777777778,
              "#fb9f3a"
             ],
             [
              0.8888888888888888,
              "#fdca26"
             ],
             [
              1,
              "#f0f921"
             ]
            ],
            "type": "contour"
           }
          ],
          "contourcarpet": [
           {
            "colorbar": {
             "outlinewidth": 0,
             "ticks": ""
            },
            "type": "contourcarpet"
           }
          ],
          "heatmap": [
           {
            "colorbar": {
             "outlinewidth": 0,
             "ticks": ""
            },
            "colorscale": [
             [
              0,
              "#0d0887"
             ],
             [
              0.1111111111111111,
              "#46039f"
             ],
             [
              0.2222222222222222,
              "#7201a8"
             ],
             [
              0.3333333333333333,
              "#9c179e"
             ],
             [
              0.4444444444444444,
              "#bd3786"
             ],
             [
              0.5555555555555556,
              "#d8576b"
             ],
             [
              0.6666666666666666,
              "#ed7953"
             ],
             [
              0.7777777777777778,
              "#fb9f3a"
             ],
             [
              0.8888888888888888,
              "#fdca26"
             ],
             [
              1,
              "#f0f921"
             ]
            ],
            "type": "heatmap"
           }
          ],
          "heatmapgl": [
           {
            "colorbar": {
             "outlinewidth": 0,
             "ticks": ""
            },
            "colorscale": [
             [
              0,
              "#0d0887"
             ],
             [
              0.1111111111111111,
              "#46039f"
             ],
             [
              0.2222222222222222,
              "#7201a8"
             ],
             [
              0.3333333333333333,
              "#9c179e"
             ],
             [
              0.4444444444444444,
              "#bd3786"
             ],
             [
              0.5555555555555556,
              "#d8576b"
             ],
             [
              0.6666666666666666,
              "#ed7953"
             ],
             [
              0.7777777777777778,
              "#fb9f3a"
             ],
             [
              0.8888888888888888,
              "#fdca26"
             ],
             [
              1,
              "#f0f921"
             ]
            ],
            "type": "heatmapgl"
           }
          ],
          "histogram": [
           {
            "marker": {
             "pattern": {
              "fillmode": "overlay",
              "size": 10,
              "solidity": 0.2
             }
            },
            "type": "histogram"
           }
          ],
          "histogram2d": [
           {
            "colorbar": {
             "outlinewidth": 0,
             "ticks": ""
            },
            "colorscale": [
             [
              0,
              "#0d0887"
             ],
             [
              0.1111111111111111,
              "#46039f"
             ],
             [
              0.2222222222222222,
              "#7201a8"
             ],
             [
              0.3333333333333333,
              "#9c179e"
             ],
             [
              0.4444444444444444,
              "#bd3786"
             ],
             [
              0.5555555555555556,
              "#d8576b"
             ],
             [
              0.6666666666666666,
              "#ed7953"
             ],
             [
              0.7777777777777778,
              "#fb9f3a"
             ],
             [
              0.8888888888888888,
              "#fdca26"
             ],
             [
              1,
              "#f0f921"
             ]
            ],
            "type": "histogram2d"
           }
          ],
          "histogram2dcontour": [
           {
            "colorbar": {
             "outlinewidth": 0,
             "ticks": ""
            },
            "colorscale": [
             [
              0,
              "#0d0887"
             ],
             [
              0.1111111111111111,
              "#46039f"
             ],
             [
              0.2222222222222222,
              "#7201a8"
             ],
             [
              0.3333333333333333,
              "#9c179e"
             ],
             [
              0.4444444444444444,
              "#bd3786"
             ],
             [
              0.5555555555555556,
              "#d8576b"
             ],
             [
              0.6666666666666666,
              "#ed7953"
             ],
             [
              0.7777777777777778,
              "#fb9f3a"
             ],
             [
              0.8888888888888888,
              "#fdca26"
             ],
             [
              1,
              "#f0f921"
             ]
            ],
            "type": "histogram2dcontour"
           }
          ],
          "mesh3d": [
           {
            "colorbar": {
             "outlinewidth": 0,
             "ticks": ""
            },
            "type": "mesh3d"
           }
          ],
          "parcoords": [
           {
            "line": {
             "colorbar": {
              "outlinewidth": 0,
              "ticks": ""
             }
            },
            "type": "parcoords"
           }
          ],
          "pie": [
           {
            "automargin": true,
            "type": "pie"
           }
          ],
          "scatter": [
           {
            "fillpattern": {
             "fillmode": "overlay",
             "size": 10,
             "solidity": 0.2
            },
            "type": "scatter"
           }
          ],
          "scatter3d": [
           {
            "line": {
             "colorbar": {
              "outlinewidth": 0,
              "ticks": ""
             }
            },
            "marker": {
             "colorbar": {
              "outlinewidth": 0,
              "ticks": ""
             }
            },
            "type": "scatter3d"
           }
          ],
          "scattercarpet": [
           {
            "marker": {
             "colorbar": {
              "outlinewidth": 0,
              "ticks": ""
             }
            },
            "type": "scattercarpet"
           }
          ],
          "scattergeo": [
           {
            "marker": {
             "colorbar": {
              "outlinewidth": 0,
              "ticks": ""
             }
            },
            "type": "scattergeo"
           }
          ],
          "scattergl": [
           {
            "marker": {
             "colorbar": {
              "outlinewidth": 0,
              "ticks": ""
             }
            },
            "type": "scattergl"
           }
          ],
          "scattermapbox": [
           {
            "marker": {
             "colorbar": {
              "outlinewidth": 0,
              "ticks": ""
             }
            },
            "type": "scattermapbox"
           }
          ],
          "scatterpolar": [
           {
            "marker": {
             "colorbar": {
              "outlinewidth": 0,
              "ticks": ""
             }
            },
            "type": "scatterpolar"
           }
          ],
          "scatterpolargl": [
           {
            "marker": {
             "colorbar": {
              "outlinewidth": 0,
              "ticks": ""
             }
            },
            "type": "scatterpolargl"
           }
          ],
          "scatterternary": [
           {
            "marker": {
             "colorbar": {
              "outlinewidth": 0,
              "ticks": ""
             }
            },
            "type": "scatterternary"
           }
          ],
          "surface": [
           {
            "colorbar": {
             "outlinewidth": 0,
             "ticks": ""
            },
            "colorscale": [
             [
              0,
              "#0d0887"
             ],
             [
              0.1111111111111111,
              "#46039f"
             ],
             [
              0.2222222222222222,
              "#7201a8"
             ],
             [
              0.3333333333333333,
              "#9c179e"
             ],
             [
              0.4444444444444444,
              "#bd3786"
             ],
             [
              0.5555555555555556,
              "#d8576b"
             ],
             [
              0.6666666666666666,
              "#ed7953"
             ],
             [
              0.7777777777777778,
              "#fb9f3a"
             ],
             [
              0.8888888888888888,
              "#fdca26"
             ],
             [
              1,
              "#f0f921"
             ]
            ],
            "type": "surface"
           }
          ],
          "table": [
           {
            "cells": {
             "fill": {
              "color": "#EBF0F8"
             },
             "line": {
              "color": "white"
             }
            },
            "header": {
             "fill": {
              "color": "#C8D4E3"
             },
             "line": {
              "color": "white"
             }
            },
            "type": "table"
           }
          ]
         },
         "layout": {
          "annotationdefaults": {
           "arrowcolor": "#2a3f5f",
           "arrowhead": 0,
           "arrowwidth": 1
          },
          "autotypenumbers": "strict",
          "coloraxis": {
           "colorbar": {
            "outlinewidth": 0,
            "ticks": ""
           }
          },
          "colorscale": {
           "diverging": [
            [
             0,
             "#8e0152"
            ],
            [
             0.1,
             "#c51b7d"
            ],
            [
             0.2,
             "#de77ae"
            ],
            [
             0.3,
             "#f1b6da"
            ],
            [
             0.4,
             "#fde0ef"
            ],
            [
             0.5,
             "#f7f7f7"
            ],
            [
             0.6,
             "#e6f5d0"
            ],
            [
             0.7,
             "#b8e186"
            ],
            [
             0.8,
             "#7fbc41"
            ],
            [
             0.9,
             "#4d9221"
            ],
            [
             1,
             "#276419"
            ]
           ],
           "sequential": [
            [
             0,
             "#0d0887"
            ],
            [
             0.1111111111111111,
             "#46039f"
            ],
            [
             0.2222222222222222,
             "#7201a8"
            ],
            [
             0.3333333333333333,
             "#9c179e"
            ],
            [
             0.4444444444444444,
             "#bd3786"
            ],
            [
             0.5555555555555556,
             "#d8576b"
            ],
            [
             0.6666666666666666,
             "#ed7953"
            ],
            [
             0.7777777777777778,
             "#fb9f3a"
            ],
            [
             0.8888888888888888,
             "#fdca26"
            ],
            [
             1,
             "#f0f921"
            ]
           ],
           "sequentialminus": [
            [
             0,
             "#0d0887"
            ],
            [
             0.1111111111111111,
             "#46039f"
            ],
            [
             0.2222222222222222,
             "#7201a8"
            ],
            [
             0.3333333333333333,
             "#9c179e"
            ],
            [
             0.4444444444444444,
             "#bd3786"
            ],
            [
             0.5555555555555556,
             "#d8576b"
            ],
            [
             0.6666666666666666,
             "#ed7953"
            ],
            [
             0.7777777777777778,
             "#fb9f3a"
            ],
            [
             0.8888888888888888,
             "#fdca26"
            ],
            [
             1,
             "#f0f921"
            ]
           ]
          },
          "colorway": [
           "#636efa",
           "#EF553B",
           "#00cc96",
           "#ab63fa",
           "#FFA15A",
           "#19d3f3",
           "#FF6692",
           "#B6E880",
           "#FF97FF",
           "#FECB52"
          ],
          "font": {
           "color": "#2a3f5f"
          },
          "geo": {
           "bgcolor": "white",
           "lakecolor": "white",
           "landcolor": "#E5ECF6",
           "showlakes": true,
           "showland": true,
           "subunitcolor": "white"
          },
          "hoverlabel": {
           "align": "left"
          },
          "hovermode": "closest",
          "mapbox": {
           "style": "light"
          },
          "paper_bgcolor": "white",
          "plot_bgcolor": "#E5ECF6",
          "polar": {
           "angularaxis": {
            "gridcolor": "white",
            "linecolor": "white",
            "ticks": ""
           },
           "bgcolor": "#E5ECF6",
           "radialaxis": {
            "gridcolor": "white",
            "linecolor": "white",
            "ticks": ""
           }
          },
          "scene": {
           "xaxis": {
            "backgroundcolor": "#E5ECF6",
            "gridcolor": "white",
            "gridwidth": 2,
            "linecolor": "white",
            "showbackground": true,
            "ticks": "",
            "zerolinecolor": "white"
           },
           "yaxis": {
            "backgroundcolor": "#E5ECF6",
            "gridcolor": "white",
            "gridwidth": 2,
            "linecolor": "white",
            "showbackground": true,
            "ticks": "",
            "zerolinecolor": "white"
           },
           "zaxis": {
            "backgroundcolor": "#E5ECF6",
            "gridcolor": "white",
            "gridwidth": 2,
            "linecolor": "white",
            "showbackground": true,
            "ticks": "",
            "zerolinecolor": "white"
           }
          },
          "shapedefaults": {
           "line": {
            "color": "#2a3f5f"
           }
          },
          "ternary": {
           "aaxis": {
            "gridcolor": "white",
            "linecolor": "white",
            "ticks": ""
           },
           "baxis": {
            "gridcolor": "white",
            "linecolor": "white",
            "ticks": ""
           },
           "bgcolor": "#E5ECF6",
           "caxis": {
            "gridcolor": "white",
            "linecolor": "white",
            "ticks": ""
           }
          },
          "title": {
           "x": 0.05
          },
          "xaxis": {
           "automargin": true,
           "gridcolor": "white",
           "linecolor": "white",
           "ticks": "",
           "title": {
            "standoff": 15
           },
           "zerolinecolor": "white",
           "zerolinewidth": 2
          },
          "yaxis": {
           "automargin": true,
           "gridcolor": "white",
           "linecolor": "white",
           "ticks": "",
           "title": {
            "standoff": 15
           },
           "zerolinecolor": "white",
           "zerolinewidth": 2
          }
         }
        },
        "xaxis": {
         "anchor": "y",
         "domain": [
          0,
          1
         ],
         "title": {
          "text": "Toxin"
         }
        },
        "yaxis": {
         "anchor": "x",
         "domain": [
          0,
          1
         ],
         "title": {
          "text": "Product"
         }
        }
       }
      }
     },
     "metadata": {},
     "output_type": "display_data"
    }
   ],
   "source": [
    "fig = px.bar(low_df, x='Toxin', y='Product'\n",
    "            )\n",
    "\n",
    "fig.update_layout( # customize font and legend orientation & position\n",
    "    font_family=\"Redaction\",\n",
    "    legend=dict(\n",
    "        title=None, orientation=\"h\", y=1, yanchor=\"bottom\", x=0.5, xanchor=\"center\"\n",
    "    )\n",
    ")"
   ]
  },
  {
   "cell_type": "markdown",
   "metadata": {},
   "source": [
    "### [Line Chart](https://plotly.com/python/line-charts/) of the variety of the categories in the df\n",
    "- Product Type\n",
    "- Skin Type\n",
    "- Brand"
   ]
  },
  {
   "cell_type": "code",
   "execution_count": null,
   "metadata": {},
   "outputs": [],
   "source": []
  },
  {
   "cell_type": "markdown",
   "metadata": {},
   "source": []
  },
  {
   "cell_type": "code",
   "execution_count": null,
   "metadata": {},
   "outputs": [
    {
     "ename": "KeyError",
     "evalue": "'brand'",
     "output_type": "error",
     "traceback": [
      "\u001b[0;31m---------------------------------------------------------------------------\u001b[0m",
      "\u001b[0;31mKeyError\u001b[0m                                  Traceback (most recent call last)",
      "\u001b[0;32m/var/folders/mw/fc5wj4ns76x4xcwycqk0_bt00000gn/T/ipykernel_54274/862612620.py\u001b[0m in \u001b[0;36m<module>\u001b[0;34m\u001b[0m\n\u001b[1;32m      1\u001b[0m \u001b[0;31m# create the dataframe with the brand name and count of products containing each toxin\u001b[0m\u001b[0;34m\u001b[0m\u001b[0;34m\u001b[0m\u001b[0m\n\u001b[0;32m----> 2\u001b[0;31m \u001b[0mdf_toxins\u001b[0m \u001b[0;34m=\u001b[0m \u001b[0mdf\u001b[0m\u001b[0;34m.\u001b[0m\u001b[0mgroupby\u001b[0m\u001b[0;34m(\u001b[0m\u001b[0;34m[\u001b[0m\u001b[0;34m'brand'\u001b[0m\u001b[0;34m,\u001b[0m \u001b[0;34m'toxin'\u001b[0m\u001b[0;34m]\u001b[0m\u001b[0;34m)\u001b[0m\u001b[0;34m.\u001b[0m\u001b[0mcount\u001b[0m\u001b[0;34m(\u001b[0m\u001b[0;34m)\u001b[0m\u001b[0;34m\u001b[0m\u001b[0;34m\u001b[0m\u001b[0m\n\u001b[0m\u001b[1;32m      3\u001b[0m \u001b[0;34m\u001b[0m\u001b[0m\n\u001b[1;32m      4\u001b[0m \u001b[0;31m# create the heatmap\u001b[0m\u001b[0;34m\u001b[0m\u001b[0;34m\u001b[0m\u001b[0m\n\u001b[1;32m      5\u001b[0m fig = go.Figure(data=go.Heatmap(\n",
      "\u001b[0;32m~/opt/anaconda3/lib/python3.9/site-packages/pandas/core/frame.py\u001b[0m in \u001b[0;36mgroupby\u001b[0;34m(self, by, axis, level, as_index, sort, group_keys, squeeze, observed, dropna)\u001b[0m\n\u001b[1;32m   7719\u001b[0m         \u001b[0;31m# error: Argument \"squeeze\" to \"DataFrameGroupBy\" has incompatible type\u001b[0m\u001b[0;34m\u001b[0m\u001b[0;34m\u001b[0m\u001b[0m\n\u001b[1;32m   7720\u001b[0m         \u001b[0;31m# \"Union[bool, NoDefault]\"; expected \"bool\"\u001b[0m\u001b[0;34m\u001b[0m\u001b[0;34m\u001b[0m\u001b[0m\n\u001b[0;32m-> 7721\u001b[0;31m         return DataFrameGroupBy(\n\u001b[0m\u001b[1;32m   7722\u001b[0m             \u001b[0mobj\u001b[0m\u001b[0;34m=\u001b[0m\u001b[0mself\u001b[0m\u001b[0;34m,\u001b[0m\u001b[0;34m\u001b[0m\u001b[0;34m\u001b[0m\u001b[0m\n\u001b[1;32m   7723\u001b[0m             \u001b[0mkeys\u001b[0m\u001b[0;34m=\u001b[0m\u001b[0mby\u001b[0m\u001b[0;34m,\u001b[0m\u001b[0;34m\u001b[0m\u001b[0;34m\u001b[0m\u001b[0m\n",
      "\u001b[0;32m~/opt/anaconda3/lib/python3.9/site-packages/pandas/core/groupby/groupby.py\u001b[0m in \u001b[0;36m__init__\u001b[0;34m(self, obj, keys, axis, level, grouper, exclusions, selection, as_index, sort, group_keys, squeeze, observed, mutated, dropna)\u001b[0m\n\u001b[1;32m    880\u001b[0m             \u001b[0;32mfrom\u001b[0m \u001b[0mpandas\u001b[0m\u001b[0;34m.\u001b[0m\u001b[0mcore\u001b[0m\u001b[0;34m.\u001b[0m\u001b[0mgroupby\u001b[0m\u001b[0;34m.\u001b[0m\u001b[0mgrouper\u001b[0m \u001b[0;32mimport\u001b[0m \u001b[0mget_grouper\u001b[0m\u001b[0;34m\u001b[0m\u001b[0;34m\u001b[0m\u001b[0m\n\u001b[1;32m    881\u001b[0m \u001b[0;34m\u001b[0m\u001b[0m\n\u001b[0;32m--> 882\u001b[0;31m             grouper, exclusions, obj = get_grouper(\n\u001b[0m\u001b[1;32m    883\u001b[0m                 \u001b[0mobj\u001b[0m\u001b[0;34m,\u001b[0m\u001b[0;34m\u001b[0m\u001b[0;34m\u001b[0m\u001b[0m\n\u001b[1;32m    884\u001b[0m                 \u001b[0mkeys\u001b[0m\u001b[0;34m,\u001b[0m\u001b[0;34m\u001b[0m\u001b[0;34m\u001b[0m\u001b[0m\n",
      "\u001b[0;32m~/opt/anaconda3/lib/python3.9/site-packages/pandas/core/groupby/grouper.py\u001b[0m in \u001b[0;36mget_grouper\u001b[0;34m(obj, key, axis, level, sort, observed, mutated, validate, dropna)\u001b[0m\n\u001b[1;32m    880\u001b[0m                 \u001b[0min_axis\u001b[0m\u001b[0;34m,\u001b[0m \u001b[0mlevel\u001b[0m\u001b[0;34m,\u001b[0m \u001b[0mgpr\u001b[0m \u001b[0;34m=\u001b[0m \u001b[0;32mFalse\u001b[0m\u001b[0;34m,\u001b[0m \u001b[0mgpr\u001b[0m\u001b[0;34m,\u001b[0m \u001b[0;32mNone\u001b[0m\u001b[0;34m\u001b[0m\u001b[0;34m\u001b[0m\u001b[0m\n\u001b[1;32m    881\u001b[0m             \u001b[0;32melse\u001b[0m\u001b[0;34m:\u001b[0m\u001b[0;34m\u001b[0m\u001b[0;34m\u001b[0m\u001b[0m\n\u001b[0;32m--> 882\u001b[0;31m                 \u001b[0;32mraise\u001b[0m \u001b[0mKeyError\u001b[0m\u001b[0;34m(\u001b[0m\u001b[0mgpr\u001b[0m\u001b[0;34m)\u001b[0m\u001b[0;34m\u001b[0m\u001b[0;34m\u001b[0m\u001b[0m\n\u001b[0m\u001b[1;32m    883\u001b[0m         \u001b[0;32melif\u001b[0m \u001b[0misinstance\u001b[0m\u001b[0;34m(\u001b[0m\u001b[0mgpr\u001b[0m\u001b[0;34m,\u001b[0m \u001b[0mGrouper\u001b[0m\u001b[0;34m)\u001b[0m \u001b[0;32mand\u001b[0m \u001b[0mgpr\u001b[0m\u001b[0;34m.\u001b[0m\u001b[0mkey\u001b[0m \u001b[0;32mis\u001b[0m \u001b[0;32mnot\u001b[0m \u001b[0;32mNone\u001b[0m\u001b[0;34m:\u001b[0m\u001b[0;34m\u001b[0m\u001b[0;34m\u001b[0m\u001b[0m\n\u001b[1;32m    884\u001b[0m             \u001b[0;31m# Add key to exclusions\u001b[0m\u001b[0;34m\u001b[0m\u001b[0;34m\u001b[0m\u001b[0m\n",
      "\u001b[0;31mKeyError\u001b[0m: 'brand'"
     ]
    }
   ],
   "source": [
    "\n",
    "\n",
    "# create the dataframe with the brand name and count of products containing each toxin\n",
    "df_toxins = df.groupby(['brand', 'toxin']).count()\n",
    "\n",
    "# create the heatmap\n",
    "fig = go.Figure(data=go.Heatmap(\n",
    "                   z=df_toxins['count'],\n",
    "                   x=df_toxins.index.get_level_values('brand'),\n",
    "                   y=df_toxins.index.get_level_values('toxin'),\n",
    "                   colorscale='Viridis'))\n",
    "fig.show()"
   ]
  }
 ],
 "metadata": {
  "kernelspec": {
   "display_name": "Python 3.9.13 ('base')",
   "language": "python",
   "name": "python3"
  },
  "language_info": {
   "codemirror_mode": {
    "name": "ipython",
    "version": 3
   },
   "file_extension": ".py",
   "mimetype": "text/x-python",
   "name": "python",
   "nbconvert_exporter": "python",
   "pygments_lexer": "ipython3",
   "version": "3.9.13"
  },
  "orig_nbformat": 4,
  "vscode": {
   "interpreter": {
    "hash": "0b5c61de2e429f9752d8dbc011c1d8d05e3d8719ce4f9a2a549c70706b4985bf"
   }
  }
 },
 "nbformat": 4,
 "nbformat_minor": 2
}
