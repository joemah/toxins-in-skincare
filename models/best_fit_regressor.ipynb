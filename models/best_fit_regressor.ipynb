{
 "cells": [
  {
   "cell_type": "markdown",
   "id": "20f92bb2",
   "metadata": {},
   "source": [
    "### Makeup/Skincare Recommendation machine:\n",
    "\n",
    "1. Type of Skincare\n",
    "    1. moisturizer\n",
    "    2. cleanser\n",
    "    3. treatment\n",
    "    4. face mask\n",
    "    5. eye cream\n",
    "    6. sun protectant\n",
    "2. Type of Skin\n",
    "    1. Dry\n",
    "    2. Normal\n",
    "    3. Oily\n",
    "    4. Combination\n",
    "    5. Sensitive\n",
    "3. Price Point (range: 3-370)\n",
    "    1. $3-$20 I am cheap\n",
    "    2. $20-$50 I can spend a little\n",
    "    3. $50-$100 I can splurge a little\n",
    "    4. $100-$200 I can splurge a lot\n",
    "    5. $200-$370 I wanna break my bank\n",
    "4. Display the products in descdening order of rating"
   ]
  },
  {
   "cell_type": "code",
   "execution_count": 1,
   "id": "351edf24",
   "metadata": {},
   "outputs": [],
   "source": [
    "import pandas as pd\n",
    "import numpy as np\n",
    "import seaborn as sns\n",
    "import matplotlib.pyplot as plt"
   ]
  },
  {
   "cell_type": "code",
   "execution_count": 2,
   "id": "0a8ac6cc",
   "metadata": {},
   "outputs": [],
   "source": [
    "df = pd.read_csv('../data/processed/clean_products_data.csv')"
   ]
  },
  {
   "cell_type": "code",
   "execution_count": 3,
   "id": "ec25af4c",
   "metadata": {
    "scrolled": true
   },
   "outputs": [
    {
     "data": {
      "text/html": [
       "<div>\n",
       "<style scoped>\n",
       "    .dataframe tbody tr th:only-of-type {\n",
       "        vertical-align: middle;\n",
       "    }\n",
       "\n",
       "    .dataframe tbody tr th {\n",
       "        vertical-align: top;\n",
       "    }\n",
       "\n",
       "    .dataframe thead th {\n",
       "        text-align: right;\n",
       "    }\n",
       "</style>\n",
       "<table border=\"1\" class=\"dataframe\">\n",
       "  <thead>\n",
       "    <tr style=\"text-align: right;\">\n",
       "      <th></th>\n",
       "      <th>index</th>\n",
       "      <th>Label</th>\n",
       "      <th>Brand</th>\n",
       "      <th>Name</th>\n",
       "      <th>Price</th>\n",
       "      <th>Rank</th>\n",
       "      <th>Ingredients</th>\n",
       "      <th>Combination</th>\n",
       "      <th>Dry</th>\n",
       "      <th>Normal</th>\n",
       "      <th>Oily</th>\n",
       "      <th>Sensitive</th>\n",
       "    </tr>\n",
       "  </thead>\n",
       "  <tbody>\n",
       "    <tr>\n",
       "      <th>0</th>\n",
       "      <td>1</td>\n",
       "      <td>Moisturizer</td>\n",
       "      <td>SK-II</td>\n",
       "      <td>Facial Treatment Essence</td>\n",
       "      <td>179</td>\n",
       "      <td>4.1</td>\n",
       "      <td>Galactomyces Ferment Filtrate (Pitera), Butyle...</td>\n",
       "      <td>1</td>\n",
       "      <td>1</td>\n",
       "      <td>1</td>\n",
       "      <td>1</td>\n",
       "      <td>1</td>\n",
       "    </tr>\n",
       "    <tr>\n",
       "      <th>1</th>\n",
       "      <td>2</td>\n",
       "      <td>Moisturizer</td>\n",
       "      <td>DRUNK ELEPHANT</td>\n",
       "      <td>Protini™ Polypeptide Cream</td>\n",
       "      <td>68</td>\n",
       "      <td>4.4</td>\n",
       "      <td>Water, Dicaprylyl Carbonate, Glycerin, Ceteary...</td>\n",
       "      <td>1</td>\n",
       "      <td>1</td>\n",
       "      <td>1</td>\n",
       "      <td>1</td>\n",
       "      <td>0</td>\n",
       "    </tr>\n",
       "    <tr>\n",
       "      <th>2</th>\n",
       "      <td>4</td>\n",
       "      <td>Moisturizer</td>\n",
       "      <td>IT COSMETICS</td>\n",
       "      <td>Your Skin But Better™ CC+™ Cream with SPF 50+</td>\n",
       "      <td>38</td>\n",
       "      <td>4.1</td>\n",
       "      <td>Water, Snail Secretion Filtrate, Phenyl Trimet...</td>\n",
       "      <td>1</td>\n",
       "      <td>1</td>\n",
       "      <td>1</td>\n",
       "      <td>1</td>\n",
       "      <td>1</td>\n",
       "    </tr>\n",
       "    <tr>\n",
       "      <th>3</th>\n",
       "      <td>6</td>\n",
       "      <td>Moisturizer</td>\n",
       "      <td>DRUNK ELEPHANT</td>\n",
       "      <td>Lala Retro™ Whipped Cream</td>\n",
       "      <td>60</td>\n",
       "      <td>4.2</td>\n",
       "      <td>Water, Glycerin, Caprylic/ Capric Triglyceride...</td>\n",
       "      <td>1</td>\n",
       "      <td>1</td>\n",
       "      <td>1</td>\n",
       "      <td>1</td>\n",
       "      <td>0</td>\n",
       "    </tr>\n",
       "    <tr>\n",
       "      <th>4</th>\n",
       "      <td>7</td>\n",
       "      <td>Moisturizer</td>\n",
       "      <td>DRUNK ELEPHANT</td>\n",
       "      <td>Virgin Marula Luxury Facial Oil</td>\n",
       "      <td>72</td>\n",
       "      <td>4.4</td>\n",
       "      <td>100% Unrefined Sclerocraya Birrea (Marula) Ker...</td>\n",
       "      <td>1</td>\n",
       "      <td>1</td>\n",
       "      <td>1</td>\n",
       "      <td>1</td>\n",
       "      <td>0</td>\n",
       "    </tr>\n",
       "  </tbody>\n",
       "</table>\n",
       "</div>"
      ],
      "text/plain": [
       "   index        Label           Brand  \\\n",
       "0      1  Moisturizer           SK-II   \n",
       "1      2  Moisturizer  DRUNK ELEPHANT   \n",
       "2      4  Moisturizer    IT COSMETICS   \n",
       "3      6  Moisturizer  DRUNK ELEPHANT   \n",
       "4      7  Moisturizer  DRUNK ELEPHANT   \n",
       "\n",
       "                                            Name  Price  Rank  \\\n",
       "0                       Facial Treatment Essence    179   4.1   \n",
       "1                     Protini™ Polypeptide Cream     68   4.4   \n",
       "2  Your Skin But Better™ CC+™ Cream with SPF 50+     38   4.1   \n",
       "3                      Lala Retro™ Whipped Cream     60   4.2   \n",
       "4                Virgin Marula Luxury Facial Oil     72   4.4   \n",
       "\n",
       "                                         Ingredients  Combination  Dry  \\\n",
       "0  Galactomyces Ferment Filtrate (Pitera), Butyle...            1    1   \n",
       "1  Water, Dicaprylyl Carbonate, Glycerin, Ceteary...            1    1   \n",
       "2  Water, Snail Secretion Filtrate, Phenyl Trimet...            1    1   \n",
       "3  Water, Glycerin, Caprylic/ Capric Triglyceride...            1    1   \n",
       "4  100% Unrefined Sclerocraya Birrea (Marula) Ker...            1    1   \n",
       "\n",
       "   Normal  Oily  Sensitive  \n",
       "0       1     1          1  \n",
       "1       1     1          0  \n",
       "2       1     1          1  \n",
       "3       1     1          0  \n",
       "4       1     1          0  "
      ]
     },
     "execution_count": 3,
     "metadata": {},
     "output_type": "execute_result"
    }
   ],
   "source": [
    "df.head()"
   ]
  },
  {
   "cell_type": "code",
   "execution_count": 4,
   "id": "a01852c0",
   "metadata": {},
   "outputs": [
    {
     "name": "stdout",
     "output_type": "stream",
     "text": [
      "<class 'pandas.core.frame.DataFrame'>\n",
      "RangeIndex: 830 entries, 0 to 829\n",
      "Data columns (total 12 columns):\n",
      " #   Column       Non-Null Count  Dtype  \n",
      "---  ------       --------------  -----  \n",
      " 0   index        830 non-null    int64  \n",
      " 1   Label        830 non-null    object \n",
      " 2   Brand        830 non-null    object \n",
      " 3   Name         830 non-null    object \n",
      " 4   Price        830 non-null    int64  \n",
      " 5   Rank         830 non-null    float64\n",
      " 6   Ingredients  830 non-null    object \n",
      " 7   Combination  830 non-null    int64  \n",
      " 8   Dry          830 non-null    int64  \n",
      " 9   Normal       830 non-null    int64  \n",
      " 10  Oily         830 non-null    int64  \n",
      " 11  Sensitive    830 non-null    int64  \n",
      "dtypes: float64(1), int64(7), object(4)\n",
      "memory usage: 77.9+ KB\n"
     ]
    }
   ],
   "source": [
    "df.info()"
   ]
  },
  {
   "cell_type": "code",
   "execution_count": 5,
   "id": "914fe668",
   "metadata": {},
   "outputs": [],
   "source": [
    "from sklearn.preprocessing import LabelEncoder\n",
    "le = LabelEncoder()\n",
    "df['Brand'] = le.fit_transform(df['Brand'])\n",
    "df['Label'] = le.fit_transform(df['Label'])"
   ]
  },
  {
   "cell_type": "code",
   "execution_count": 6,
   "id": "8b9394c0",
   "metadata": {},
   "outputs": [
    {
     "data": {
      "text/html": [
       "<div>\n",
       "<style scoped>\n",
       "    .dataframe tbody tr th:only-of-type {\n",
       "        vertical-align: middle;\n",
       "    }\n",
       "\n",
       "    .dataframe tbody tr th {\n",
       "        vertical-align: top;\n",
       "    }\n",
       "\n",
       "    .dataframe thead th {\n",
       "        text-align: right;\n",
       "    }\n",
       "</style>\n",
       "<table border=\"1\" class=\"dataframe\">\n",
       "  <thead>\n",
       "    <tr style=\"text-align: right;\">\n",
       "      <th></th>\n",
       "      <th>index</th>\n",
       "      <th>Label</th>\n",
       "      <th>Brand</th>\n",
       "      <th>Name</th>\n",
       "      <th>Price</th>\n",
       "      <th>Rank</th>\n",
       "      <th>Ingredients</th>\n",
       "      <th>Combination</th>\n",
       "      <th>Dry</th>\n",
       "      <th>Normal</th>\n",
       "      <th>Oily</th>\n",
       "      <th>Sensitive</th>\n",
       "    </tr>\n",
       "  </thead>\n",
       "  <tbody>\n",
       "    <tr>\n",
       "      <th>0</th>\n",
       "      <td>1</td>\n",
       "      <td>3</td>\n",
       "      <td>83</td>\n",
       "      <td>Facial Treatment Essence</td>\n",
       "      <td>179</td>\n",
       "      <td>4.1</td>\n",
       "      <td>Galactomyces Ferment Filtrate (Pitera), Butyle...</td>\n",
       "      <td>1</td>\n",
       "      <td>1</td>\n",
       "      <td>1</td>\n",
       "      <td>1</td>\n",
       "      <td>1</td>\n",
       "    </tr>\n",
       "    <tr>\n",
       "      <th>1</th>\n",
       "      <td>2</td>\n",
       "      <td>3</td>\n",
       "      <td>25</td>\n",
       "      <td>Protini™ Polypeptide Cream</td>\n",
       "      <td>68</td>\n",
       "      <td>4.4</td>\n",
       "      <td>Water, Dicaprylyl Carbonate, Glycerin, Ceteary...</td>\n",
       "      <td>1</td>\n",
       "      <td>1</td>\n",
       "      <td>1</td>\n",
       "      <td>1</td>\n",
       "      <td>0</td>\n",
       "    </tr>\n",
       "    <tr>\n",
       "      <th>2</th>\n",
       "      <td>4</td>\n",
       "      <td>3</td>\n",
       "      <td>42</td>\n",
       "      <td>Your Skin But Better™ CC+™ Cream with SPF 50+</td>\n",
       "      <td>38</td>\n",
       "      <td>4.1</td>\n",
       "      <td>Water, Snail Secretion Filtrate, Phenyl Trimet...</td>\n",
       "      <td>1</td>\n",
       "      <td>1</td>\n",
       "      <td>1</td>\n",
       "      <td>1</td>\n",
       "      <td>1</td>\n",
       "    </tr>\n",
       "    <tr>\n",
       "      <th>3</th>\n",
       "      <td>6</td>\n",
       "      <td>3</td>\n",
       "      <td>25</td>\n",
       "      <td>Lala Retro™ Whipped Cream</td>\n",
       "      <td>60</td>\n",
       "      <td>4.2</td>\n",
       "      <td>Water, Glycerin, Caprylic/ Capric Triglyceride...</td>\n",
       "      <td>1</td>\n",
       "      <td>1</td>\n",
       "      <td>1</td>\n",
       "      <td>1</td>\n",
       "      <td>0</td>\n",
       "    </tr>\n",
       "    <tr>\n",
       "      <th>4</th>\n",
       "      <td>7</td>\n",
       "      <td>3</td>\n",
       "      <td>25</td>\n",
       "      <td>Virgin Marula Luxury Facial Oil</td>\n",
       "      <td>72</td>\n",
       "      <td>4.4</td>\n",
       "      <td>100% Unrefined Sclerocraya Birrea (Marula) Ker...</td>\n",
       "      <td>1</td>\n",
       "      <td>1</td>\n",
       "      <td>1</td>\n",
       "      <td>1</td>\n",
       "      <td>0</td>\n",
       "    </tr>\n",
       "  </tbody>\n",
       "</table>\n",
       "</div>"
      ],
      "text/plain": [
       "   index  Label  Brand                                           Name  Price  \\\n",
       "0      1      3     83                       Facial Treatment Essence    179   \n",
       "1      2      3     25                     Protini™ Polypeptide Cream     68   \n",
       "2      4      3     42  Your Skin But Better™ CC+™ Cream with SPF 50+     38   \n",
       "3      6      3     25                      Lala Retro™ Whipped Cream     60   \n",
       "4      7      3     25                Virgin Marula Luxury Facial Oil     72   \n",
       "\n",
       "   Rank                                        Ingredients  Combination  Dry  \\\n",
       "0   4.1  Galactomyces Ferment Filtrate (Pitera), Butyle...            1    1   \n",
       "1   4.4  Water, Dicaprylyl Carbonate, Glycerin, Ceteary...            1    1   \n",
       "2   4.1  Water, Snail Secretion Filtrate, Phenyl Trimet...            1    1   \n",
       "3   4.2  Water, Glycerin, Caprylic/ Capric Triglyceride...            1    1   \n",
       "4   4.4  100% Unrefined Sclerocraya Birrea (Marula) Ker...            1    1   \n",
       "\n",
       "   Normal  Oily  Sensitive  \n",
       "0       1     1          1  \n",
       "1       1     1          0  \n",
       "2       1     1          1  \n",
       "3       1     1          0  \n",
       "4       1     1          0  "
      ]
     },
     "execution_count": 6,
     "metadata": {},
     "output_type": "execute_result"
    }
   ],
   "source": [
    "df.head()"
   ]
  },
  {
   "cell_type": "code",
   "execution_count": 8,
   "id": "928b805e",
   "metadata": {},
   "outputs": [
    {
     "name": "stdout",
     "output_type": "stream",
     "text": [
      "0      179\n",
      "1       68\n",
      "2       38\n",
      "3       60\n",
      "4       72\n",
      "      ... \n",
      "825     38\n",
      "826     34\n",
      "827     48\n",
      "828     54\n",
      "829     45\n",
      "Name: Price, Length: 830, dtype: int64\n",
      "0      4.1\n",
      "1      4.4\n",
      "2      4.1\n",
      "3      4.2\n",
      "4      4.4\n",
      "      ... \n",
      "825    4.1\n",
      "826    4.1\n",
      "827    3.9\n",
      "828    3.5\n",
      "829    0.0\n",
      "Name: Rank, Length: 830, dtype: float64\n"
     ]
    }
   ],
   "source": [
    "x = df['Price']\n",
    "y = df['Rank']\n",
    "# y.resize(1472,1)\n",
    "\n",
    "print(x)\n",
    "print(y)"
   ]
  },
  {
   "cell_type": "code",
   "execution_count": 9,
   "id": "991bf67f",
   "metadata": {},
   "outputs": [],
   "source": [
    "from sklearn.model_selection import train_test_split"
   ]
  },
  {
   "cell_type": "code",
   "execution_count": 10,
   "id": "f0d543aa",
   "metadata": {},
   "outputs": [],
   "source": [
    "x_train, x_test, y_train, y_test = train_test_split(x, y, test_size=0.33, random_state=42)"
   ]
  },
  {
   "cell_type": "code",
   "execution_count": 11,
   "id": "30be0044",
   "metadata": {},
   "outputs": [],
   "source": [
    "from sklearn.metrics import mean_squared_error, r2_score\n",
    "from math import sqrt"
   ]
  },
  {
   "cell_type": "markdown",
   "id": "8e764d97",
   "metadata": {},
   "source": [
    "### Neighbor Regression Model"
   ]
  },
  {
   "cell_type": "code",
   "execution_count": 14,
   "id": "dc904082",
   "metadata": {},
   "outputs": [
    {
     "ename": "ValueError",
     "evalue": "Expected 2D array, got 1D array instead:\narray=[ 26  39  58  88  25  99  69   9  50  45  39   8  48  95  68   7  48  38\n  28  78  60  46  59  46  12  68  34  40  24   7   9  65 225  61  30  50\n  27  16  65  54  39  18  30  34  32  69  39  30  36  40  28  26  45   9\n  32  75  20  32   8  39  24  27  17  62  26   6  48  60  28  36 275  65\n  71  38  30  90  58  49  34  30   7  65  19  72 125  39  34  58  32  19\n  19  34   8  73  70  29  35  38  42  90  75   7   9  16  95  42  25   7\n   9   7  28  46  82  55  45  26  22 179  32   7  34  44 170  65  73  34\n  48  48  51  38  48   4 158  18  39  62  40  54  52  70  38 120  19  29\n 122  39  62  42   9  10  75  45  24  35  85  42  19  92  45  42  54  85\n  16  35  69  12  36  49  60  38  69  28  40 175  48  55  56  39 100  56\n  34  32  58  48  39  30 370  39  30  35  28  75  36  40 150  58  42  55\n  72  26  76  45  42  24  36 110  59  64  15  56  95  38  65 150 160  65\n  46  22  58  69  11  46  42  88  37  55  65  33  54  42  52  75  38  12\n  38  34  25   8  64  36  16  78  85  21  36  48  28   6  34  36  35  65\n  36  38  38  42  28  55   6  38  85  26  19  32  37  48  82 110   7  72\n  38  58  48  45  58  61  35  68  75  82  40  75 100  10  26  80   8  90\n  72 140  76  28  60  58  42  34  40  65  88  34  28  38  22  90  46  48\n  56  28  27  42  36  48  37  50  29  60  39 139  36  20  59 185  95  42\n  55  42  18  44  54  20  38  44  48  32  39  32  55  24  95  30  38  32\n  48  25  18  34  26  40  38  38  28  48  30   5  28  65  75  55  48  34\n  69  29 125  76  68 115  22  30  25  62  14 105  80  56  38  27  33  38\n  99  26  78  35   7  30  60  38  39  48  45  26  65  49  80  15 110  39\n   8  75  39  23  38  60  38   3  80  74  30  38  36  92   9  60  75  48\n 125  32  16  88  29 230  30  72  48  46  62  12  68  39  38  90  17  32\n  52  28  36  57  19  33  12  86  21  48  35  68  28  12  50  30  28  69\n  85  32  90  47  38  24  48   6  60  28   7  48  95  40  30  35  55  55\n  45  56 152  48  30  29  23  28  45  38  35  39 145  19  56  68  19  19\n  56  23  54  60  69  23 149  88  34  45 100  12  34  15  32  60  42  28\n  36  45   6  18  95  26  12  69  75  34  38  38  28  41  25 229  45  35\n  36  15  48   7  36  20   9  28  49  75  59  52  48  39  38  65 175  44\n  48  19  39 135  95  18  75  25  39  80  50  82  32  38  98  39].\nReshape your data either using array.reshape(-1, 1) if your data has a single feature or array.reshape(1, -1) if it contains a single sample.",
     "output_type": "error",
     "traceback": [
      "\u001b[0;31m---------------------------------------------------------------------------\u001b[0m",
      "\u001b[0;31mValueError\u001b[0m                                Traceback (most recent call last)",
      "\u001b[0;32m/var/folders/mw/fc5wj4ns76x4xcwycqk0_bt00000gn/T/ipykernel_40915/3369497565.py\u001b[0m in \u001b[0;36m<module>\u001b[0;34m\u001b[0m\n\u001b[1;32m      2\u001b[0m \u001b[0mkn\u001b[0m \u001b[0;34m=\u001b[0m \u001b[0mKNeighborsRegressor\u001b[0m\u001b[0;34m(\u001b[0m\u001b[0;34m)\u001b[0m\u001b[0;34m\u001b[0m\u001b[0;34m\u001b[0m\u001b[0m\n\u001b[1;32m      3\u001b[0m \u001b[0;31m# Fit the model to the training data using the .fit() method\u001b[0m\u001b[0;34m\u001b[0m\u001b[0;34m\u001b[0m\u001b[0m\n\u001b[0;32m----> 4\u001b[0;31m \u001b[0mkn\u001b[0m\u001b[0;34m.\u001b[0m\u001b[0mfit\u001b[0m\u001b[0;34m(\u001b[0m\u001b[0mx_train\u001b[0m\u001b[0;34m,\u001b[0m \u001b[0my_train\u001b[0m\u001b[0;34m)\u001b[0m\u001b[0;34m\u001b[0m\u001b[0;34m\u001b[0m\u001b[0m\n\u001b[0m\u001b[1;32m      5\u001b[0m \u001b[0;31m# Make predictions on the testing data using the .predict() method\u001b[0m\u001b[0;34m\u001b[0m\u001b[0;34m\u001b[0m\u001b[0m\n\u001b[1;32m      6\u001b[0m \u001b[0;34m\u001b[0m\u001b[0m\n",
      "\u001b[0;32m~/opt/anaconda3/lib/python3.9/site-packages/sklearn/neighbors/_regression.py\u001b[0m in \u001b[0;36mfit\u001b[0;34m(self, X, y)\u001b[0m\n\u001b[1;32m    211\u001b[0m         \u001b[0mself\u001b[0m\u001b[0;34m.\u001b[0m\u001b[0mweights\u001b[0m \u001b[0;34m=\u001b[0m \u001b[0m_check_weights\u001b[0m\u001b[0;34m(\u001b[0m\u001b[0mself\u001b[0m\u001b[0;34m.\u001b[0m\u001b[0mweights\u001b[0m\u001b[0;34m)\u001b[0m\u001b[0;34m\u001b[0m\u001b[0;34m\u001b[0m\u001b[0m\n\u001b[1;32m    212\u001b[0m \u001b[0;34m\u001b[0m\u001b[0m\n\u001b[0;32m--> 213\u001b[0;31m         \u001b[0;32mreturn\u001b[0m \u001b[0mself\u001b[0m\u001b[0;34m.\u001b[0m\u001b[0m_fit\u001b[0m\u001b[0;34m(\u001b[0m\u001b[0mX\u001b[0m\u001b[0;34m,\u001b[0m \u001b[0my\u001b[0m\u001b[0;34m)\u001b[0m\u001b[0;34m\u001b[0m\u001b[0;34m\u001b[0m\u001b[0m\n\u001b[0m\u001b[1;32m    214\u001b[0m \u001b[0;34m\u001b[0m\u001b[0m\n\u001b[1;32m    215\u001b[0m     \u001b[0;32mdef\u001b[0m \u001b[0mpredict\u001b[0m\u001b[0;34m(\u001b[0m\u001b[0mself\u001b[0m\u001b[0;34m,\u001b[0m \u001b[0mX\u001b[0m\u001b[0;34m)\u001b[0m\u001b[0;34m:\u001b[0m\u001b[0;34m\u001b[0m\u001b[0;34m\u001b[0m\u001b[0m\n",
      "\u001b[0;32m~/opt/anaconda3/lib/python3.9/site-packages/sklearn/neighbors/_base.py\u001b[0m in \u001b[0;36m_fit\u001b[0;34m(self, X, y)\u001b[0m\n\u001b[1;32m    398\u001b[0m         \u001b[0;32mif\u001b[0m \u001b[0mself\u001b[0m\u001b[0;34m.\u001b[0m\u001b[0m_get_tags\u001b[0m\u001b[0;34m(\u001b[0m\u001b[0;34m)\u001b[0m\u001b[0;34m[\u001b[0m\u001b[0;34m\"requires_y\"\u001b[0m\u001b[0;34m]\u001b[0m\u001b[0;34m:\u001b[0m\u001b[0;34m\u001b[0m\u001b[0;34m\u001b[0m\u001b[0m\n\u001b[1;32m    399\u001b[0m             \u001b[0;32mif\u001b[0m \u001b[0;32mnot\u001b[0m \u001b[0misinstance\u001b[0m\u001b[0;34m(\u001b[0m\u001b[0mX\u001b[0m\u001b[0;34m,\u001b[0m \u001b[0;34m(\u001b[0m\u001b[0mKDTree\u001b[0m\u001b[0;34m,\u001b[0m \u001b[0mBallTree\u001b[0m\u001b[0;34m,\u001b[0m \u001b[0mNeighborsBase\u001b[0m\u001b[0;34m)\u001b[0m\u001b[0;34m)\u001b[0m\u001b[0;34m:\u001b[0m\u001b[0;34m\u001b[0m\u001b[0;34m\u001b[0m\u001b[0m\n\u001b[0;32m--> 400\u001b[0;31m                 \u001b[0mX\u001b[0m\u001b[0;34m,\u001b[0m \u001b[0my\u001b[0m \u001b[0;34m=\u001b[0m \u001b[0mself\u001b[0m\u001b[0;34m.\u001b[0m\u001b[0m_validate_data\u001b[0m\u001b[0;34m(\u001b[0m\u001b[0mX\u001b[0m\u001b[0;34m,\u001b[0m \u001b[0my\u001b[0m\u001b[0;34m,\u001b[0m \u001b[0maccept_sparse\u001b[0m\u001b[0;34m=\u001b[0m\u001b[0;34m\"csr\"\u001b[0m\u001b[0;34m,\u001b[0m \u001b[0mmulti_output\u001b[0m\u001b[0;34m=\u001b[0m\u001b[0;32mTrue\u001b[0m\u001b[0;34m)\u001b[0m\u001b[0;34m\u001b[0m\u001b[0;34m\u001b[0m\u001b[0m\n\u001b[0m\u001b[1;32m    401\u001b[0m \u001b[0;34m\u001b[0m\u001b[0m\n\u001b[1;32m    402\u001b[0m             \u001b[0;32mif\u001b[0m \u001b[0mis_classifier\u001b[0m\u001b[0;34m(\u001b[0m\u001b[0mself\u001b[0m\u001b[0;34m)\u001b[0m\u001b[0;34m:\u001b[0m\u001b[0;34m\u001b[0m\u001b[0;34m\u001b[0m\u001b[0m\n",
      "\u001b[0;32m~/opt/anaconda3/lib/python3.9/site-packages/sklearn/base.py\u001b[0m in \u001b[0;36m_validate_data\u001b[0;34m(self, X, y, reset, validate_separately, **check_params)\u001b[0m\n\u001b[1;32m    579\u001b[0m                 \u001b[0my\u001b[0m \u001b[0;34m=\u001b[0m \u001b[0mcheck_array\u001b[0m\u001b[0;34m(\u001b[0m\u001b[0my\u001b[0m\u001b[0;34m,\u001b[0m \u001b[0;34m**\u001b[0m\u001b[0mcheck_y_params\u001b[0m\u001b[0;34m)\u001b[0m\u001b[0;34m\u001b[0m\u001b[0;34m\u001b[0m\u001b[0m\n\u001b[1;32m    580\u001b[0m             \u001b[0;32melse\u001b[0m\u001b[0;34m:\u001b[0m\u001b[0;34m\u001b[0m\u001b[0;34m\u001b[0m\u001b[0m\n\u001b[0;32m--> 581\u001b[0;31m                 \u001b[0mX\u001b[0m\u001b[0;34m,\u001b[0m \u001b[0my\u001b[0m \u001b[0;34m=\u001b[0m \u001b[0mcheck_X_y\u001b[0m\u001b[0;34m(\u001b[0m\u001b[0mX\u001b[0m\u001b[0;34m,\u001b[0m \u001b[0my\u001b[0m\u001b[0;34m,\u001b[0m \u001b[0;34m**\u001b[0m\u001b[0mcheck_params\u001b[0m\u001b[0;34m)\u001b[0m\u001b[0;34m\u001b[0m\u001b[0;34m\u001b[0m\u001b[0m\n\u001b[0m\u001b[1;32m    582\u001b[0m             \u001b[0mout\u001b[0m \u001b[0;34m=\u001b[0m \u001b[0mX\u001b[0m\u001b[0;34m,\u001b[0m \u001b[0my\u001b[0m\u001b[0;34m\u001b[0m\u001b[0;34m\u001b[0m\u001b[0m\n\u001b[1;32m    583\u001b[0m \u001b[0;34m\u001b[0m\u001b[0m\n",
      "\u001b[0;32m~/opt/anaconda3/lib/python3.9/site-packages/sklearn/utils/validation.py\u001b[0m in \u001b[0;36mcheck_X_y\u001b[0;34m(X, y, accept_sparse, accept_large_sparse, dtype, order, copy, force_all_finite, ensure_2d, allow_nd, multi_output, ensure_min_samples, ensure_min_features, y_numeric, estimator)\u001b[0m\n\u001b[1;32m    962\u001b[0m         \u001b[0;32mraise\u001b[0m \u001b[0mValueError\u001b[0m\u001b[0;34m(\u001b[0m\u001b[0;34m\"y cannot be None\"\u001b[0m\u001b[0;34m)\u001b[0m\u001b[0;34m\u001b[0m\u001b[0;34m\u001b[0m\u001b[0m\n\u001b[1;32m    963\u001b[0m \u001b[0;34m\u001b[0m\u001b[0m\n\u001b[0;32m--> 964\u001b[0;31m     X = check_array(\n\u001b[0m\u001b[1;32m    965\u001b[0m         \u001b[0mX\u001b[0m\u001b[0;34m,\u001b[0m\u001b[0;34m\u001b[0m\u001b[0;34m\u001b[0m\u001b[0m\n\u001b[1;32m    966\u001b[0m         \u001b[0maccept_sparse\u001b[0m\u001b[0;34m=\u001b[0m\u001b[0maccept_sparse\u001b[0m\u001b[0;34m,\u001b[0m\u001b[0;34m\u001b[0m\u001b[0;34m\u001b[0m\u001b[0m\n",
      "\u001b[0;32m~/opt/anaconda3/lib/python3.9/site-packages/sklearn/utils/validation.py\u001b[0m in \u001b[0;36mcheck_array\u001b[0;34m(array, accept_sparse, accept_large_sparse, dtype, order, copy, force_all_finite, ensure_2d, allow_nd, ensure_min_samples, ensure_min_features, estimator)\u001b[0m\n\u001b[1;32m    767\u001b[0m             \u001b[0;31m# If input is 1D raise error\u001b[0m\u001b[0;34m\u001b[0m\u001b[0;34m\u001b[0m\u001b[0m\n\u001b[1;32m    768\u001b[0m             \u001b[0;32mif\u001b[0m \u001b[0marray\u001b[0m\u001b[0;34m.\u001b[0m\u001b[0mndim\u001b[0m \u001b[0;34m==\u001b[0m \u001b[0;36m1\u001b[0m\u001b[0;34m:\u001b[0m\u001b[0;34m\u001b[0m\u001b[0;34m\u001b[0m\u001b[0m\n\u001b[0;32m--> 769\u001b[0;31m                 raise ValueError(\n\u001b[0m\u001b[1;32m    770\u001b[0m                     \u001b[0;34m\"Expected 2D array, got 1D array instead:\\narray={}.\\n\"\u001b[0m\u001b[0;34m\u001b[0m\u001b[0;34m\u001b[0m\u001b[0m\n\u001b[1;32m    771\u001b[0m                     \u001b[0;34m\"Reshape your data either using array.reshape(-1, 1) if \"\u001b[0m\u001b[0;34m\u001b[0m\u001b[0;34m\u001b[0m\u001b[0m\n",
      "\u001b[0;31mValueError\u001b[0m: Expected 2D array, got 1D array instead:\narray=[ 26  39  58  88  25  99  69   9  50  45  39   8  48  95  68   7  48  38\n  28  78  60  46  59  46  12  68  34  40  24   7   9  65 225  61  30  50\n  27  16  65  54  39  18  30  34  32  69  39  30  36  40  28  26  45   9\n  32  75  20  32   8  39  24  27  17  62  26   6  48  60  28  36 275  65\n  71  38  30  90  58  49  34  30   7  65  19  72 125  39  34  58  32  19\n  19  34   8  73  70  29  35  38  42  90  75   7   9  16  95  42  25   7\n   9   7  28  46  82  55  45  26  22 179  32   7  34  44 170  65  73  34\n  48  48  51  38  48   4 158  18  39  62  40  54  52  70  38 120  19  29\n 122  39  62  42   9  10  75  45  24  35  85  42  19  92  45  42  54  85\n  16  35  69  12  36  49  60  38  69  28  40 175  48  55  56  39 100  56\n  34  32  58  48  39  30 370  39  30  35  28  75  36  40 150  58  42  55\n  72  26  76  45  42  24  36 110  59  64  15  56  95  38  65 150 160  65\n  46  22  58  69  11  46  42  88  37  55  65  33  54  42  52  75  38  12\n  38  34  25   8  64  36  16  78  85  21  36  48  28   6  34  36  35  65\n  36  38  38  42  28  55   6  38  85  26  19  32  37  48  82 110   7  72\n  38  58  48  45  58  61  35  68  75  82  40  75 100  10  26  80   8  90\n  72 140  76  28  60  58  42  34  40  65  88  34  28  38  22  90  46  48\n  56  28  27  42  36  48  37  50  29  60  39 139  36  20  59 185  95  42\n  55  42  18  44  54  20  38  44  48  32  39  32  55  24  95  30  38  32\n  48  25  18  34  26  40  38  38  28  48  30   5  28  65  75  55  48  34\n  69  29 125  76  68 115  22  30  25  62  14 105  80  56  38  27  33  38\n  99  26  78  35   7  30  60  38  39  48  45  26  65  49  80  15 110  39\n   8  75  39  23  38  60  38   3  80  74  30  38  36  92   9  60  75  48\n 125  32  16  88  29 230  30  72  48  46  62  12  68  39  38  90  17  32\n  52  28  36  57  19  33  12  86  21  48  35  68  28  12  50  30  28  69\n  85  32  90  47  38  24  48   6  60  28   7  48  95  40  30  35  55  55\n  45  56 152  48  30  29  23  28  45  38  35  39 145  19  56  68  19  19\n  56  23  54  60  69  23 149  88  34  45 100  12  34  15  32  60  42  28\n  36  45   6  18  95  26  12  69  75  34  38  38  28  41  25 229  45  35\n  36  15  48   7  36  20   9  28  49  75  59  52  48  39  38  65 175  44\n  48  19  39 135  95  18  75  25  39  80  50  82  32  38  98  39].\nReshape your data either using array.reshape(-1, 1) if your data has a single feature or array.reshape(1, -1) if it contains a single sample."
     ]
    }
   ],
   "source": [
    "from sklearn.neighbors import KNeighborsRegressor\n",
    "kn = KNeighborsRegressor()\n",
    "# Fit the model to the training data using the .fit() method\n",
    "kn.fit(x_train, y_train)\n",
    "# Make predictions on the testing data using the .predict() method\n",
    "\n",
    "kn.fit(x_train.reshape(-1, 1), y_train)\n",
    "\n",
    "# Make predictions on the testing data\n",
    "y_pred = kn.predict(x_test.reshape(-1, 1))\n",
    "\n",
    "y_pred = kn.predict(x_test)\n",
    "mse = mean_squared_error(y_test, y_pred)\n",
    "print(f\"Mean squared error: {mse:.2f}\")\n",
    "\n",
    "\n",
    "\n",
    "# Calculate the mean squared error between the predicted and true values using the mean_squared_error() function\n",
    "# er_kn = mean_squared_error(y_test, y_pred)\n",
    "# # Calculate the R^2 score between the predicted and true values using the r2_score() function\n",
    "# r2_kn = r2_score(y_test, y_pred)\n",
    "# # Calculate the sum of squared errors between the predicted and true values\n",
    "# ss_kn = 1 - r2_kn\n",
    "# # Calculate the root mean squared error between the predicted and true values using the sqrt() function\n",
    "# rmse_kn = sqrt(er_kn)\n",
    "# # Print the mean squared error\n",
    "# print('mean squared error: ', er_kn)\n",
    "# # Print the R^2 score\n",
    "# print('r2 score: ', r2_kn)\n",
    "# # Print the sum of squared errors\n",
    "# print('sum of squared errors: ', ss_kn)\n",
    "\n",
    "\n",
    "#ac_kn = accuracy_score(y_test,y_pred)\n",
    "#print('accuracy score: ', ac_kn)\n",
    "#print('confusion matrix: ', confusion_matrix(y_test,y_pred))\n",
    "#fpr,tpr,threshold = roc_curve(y_test,y_pred)\n",
    "#rc_kn = auc(fpr,tpr)\n",
    "#print('ROC curve: ', rc_kn)"
   ]
  },
  {
   "cell_type": "markdown",
   "id": "3cb2ffb3",
   "metadata": {},
   "source": [
    "### SVR"
   ]
  },
  {
   "cell_type": "code",
   "execution_count": null,
   "id": "bdffd7fa",
   "metadata": {
    "scrolled": true
   },
   "outputs": [],
   "source": [
    "from sklearn.svm import SVR\n",
    "sv = SVR(kernel='linear')\n",
    "sv.fit(x_train,y_train)\n",
    "y_pred = sv.predict(x_test)\n",
    "er_sv = mean_squared_error(y_test,y_pred)\n",
    "r2_sv = r2_score(y_test,y_pred)\n",
    "ss_sv = 1-r2_sv\n",
    "rmse_sv = sqrt(er_sv)\n",
    "print('mean squared error: ',er_sv)\n",
    "print('r2 score: ', r2_sv)\n",
    "print('sum of square error: ', ss_sv)\n",
    "print('root mean square error: ', rmse_sv)\n",
    "#ac_sv = accuracy_score(y_test,y_pred)\n",
    "#print('accuracy score: ', ac_sv)\n",
    "#print('confusion matrix: ', confusion_matrix(y_test,y_pred))\n",
    "#fpr,tpr,threshold = roc_curve(y_test,y_pred)\n",
    "#rc_sv = auc(fpr,tpr)\n",
    "#print('ROC curve: ', rc_sv)"
   ]
  },
  {
   "cell_type": "code",
   "execution_count": null,
   "id": "6df9f7cb",
   "metadata": {},
   "outputs": [],
   "source": [
    "from sklearn.svm import SVR\n",
    "sr = SVR(kernel='rbf')\n",
    "sr.fit(x_train,y_train)\n",
    "y_pred = sr.predict(x_test)\n",
    "er_sr = mean_squared_error(y_test,y_pred)\n",
    "r2_sr = r2_score(y_test,y_pred)\n",
    "ss_sr = 1-r2_sr\n",
    "rmse_sr = sqrt(er_sr)\n",
    "print('mean squared error: ',er_sr)\n",
    "print('r2 score: ', r2_sr)\n",
    "print('sum of square error: ', ss_sr)\n",
    "print('root mean square error: ', rmse_sr)\n",
    "#ac_sr = accuracy_score(y_test,y_pred)\n",
    "#print('accuracy score: ', ac_sr)\n",
    "#print('confusion matrix: ', confusion_matrix(y_test,y_pred))\n",
    "#fpr,tpr,threshold = roc_curve(y_test,y_pred)\n",
    "#rc_sr = auc(fpr,tpr)\n",
    "#print('ROC curve: ', rc_sr)"
   ]
  },
  {
   "cell_type": "code",
   "execution_count": null,
   "id": "3361c4a4",
   "metadata": {},
   "outputs": [],
   "source": [
    "from sklearn.svm import SVR\n",
    "sp = SVR(kernel='poly')\n",
    "sp.fit(x_train,y_train)\n",
    "y_pred = sp.predict(x_test)\n",
    "er_sp = mean_squared_error(y_test,y_pred)\n",
    "r2_sp = r2_score(y_test,y_pred)\n",
    "ss_sp = 1-r2_sp\n",
    "rmse_sp = sqrt(er_sp)\n",
    "print('mean squared error: ',er_sp)\n",
    "print('r2 score: ', r2_sp)\n",
    "print('sum of square error: ', ss_sp)\n",
    "print('root mean square error: ', rmse_sp)\n",
    "#ac_sp = accuracy_score(y_test,y_pred)\n",
    "#print('accuracy score: ', ac_sp)\n",
    "#print('confusion matrix: ', confusion_matrix(y_test,y_pred))\n",
    "#fpr,tpr,threshold = roc_curve(y_test,y_pred)\n",
    "#rc_sp = auc(fpr,tpr)\n",
    "#print('ROC curve: ', rc_sp)"
   ]
  },
  {
   "cell_type": "code",
   "execution_count": null,
   "id": "bcc0d10a",
   "metadata": {},
   "outputs": [],
   "source": [
    "from sklearn.svm import SVR\n",
    "ss = SVR(kernel='sigmoid')\n",
    "ss.fit(x_train,y_train)\n",
    "y_pred = ss.predict(x_test)\n",
    "er_ss = mean_squared_error(y_test,y_pred)\n",
    "r2_ss = r2_score(y_test,y_pred)\n",
    "ss_ss = 1-r2_ss\n",
    "rmse_ss = sqrt(er_ss)\n",
    "print('mean squared error: ',er_ss)\n",
    "print('r2 score: ', r2_ss)\n",
    "print('sum of square error: ', ss_ss)\n",
    "print('root mean square error: ', rmse_ss)\n",
    "#ac_ss = accuracy_score(y_test,y_pred)\n",
    "#print('accuracy score: ', ac_ss)\n",
    "#print('confusion matrix: ', confusion_matrix(y_test,y_pred))\n",
    "#fpr,tpr,threshold = roc_curve(y_test,y_pred)\n",
    "#rc_ss = auc(fpr,tpr)\n",
    "#print('ROC curve: ', rc_ss)"
   ]
  },
  {
   "cell_type": "markdown",
   "id": "89c0c2b2",
   "metadata": {},
   "source": [
    "### DecisionTreeRegressor"
   ]
  },
  {
   "cell_type": "code",
   "execution_count": null,
   "id": "1b792fed",
   "metadata": {},
   "outputs": [],
   "source": [
    "from sklearn.tree import DecisionTreeRegressor\n",
    "dt = DecisionTreeRegressor()\n",
    "dt.fit(x_train,y_train)\n",
    "y_pred = dt.predict(x_test)\n",
    "er_dt = mean_squared_error(y_test,y_pred)\n",
    "r2_dt = r2_score(y_test,y_pred)\n",
    "ss_dt = 1-r2_dt\n",
    "rmse_dt = sqrt(er_dt)\n",
    "print('mean squared error: ',er_dt)\n",
    "print('r2 score: ', r2_dt)\n",
    "print('sum of square error: ', ss_dt)\n",
    "print('root mean square error: ', rmse_dt)\n",
    "#ac_dt = accuracy_score(y_test,y_pred)\n",
    "#print('accuracy score: ', ac_dt)\n",
    "#print('confusion matrix: ', confusion_matrix(y_test,y_pred))\n",
    "#fpr,tpr,threshold = roc_curve(y_test,y_pred)\n",
    "#rc_dt = auc(fpr,tpr)\n",
    "#print('ROC curve: ', rc_dt)"
   ]
  },
  {
   "cell_type": "markdown",
   "id": "9d9d7489",
   "metadata": {},
   "source": [
    "### ExtraTree Regression Model"
   ]
  },
  {
   "cell_type": "code",
   "execution_count": null,
   "id": "d3fe1988",
   "metadata": {},
   "outputs": [],
   "source": [
    "from sklearn.tree import ExtraTreeRegressor\n",
    "ec = ExtraTreeRegressor()\n",
    "ec.fit(x_train,y_train)\n",
    "y_pred = ec.predict(x_test)\n",
    "er_ec = mean_squared_error(y_test,y_pred)\n",
    "r2_ec = r2_score(y_test,y_pred)\n",
    "ss_ec = 1-r2_ec\n",
    "rmse_ec = sqrt(er_ec)\n",
    "print('mean squared error: ',er_ec)\n",
    "print('r2 score: ', r2_ec)\n",
    "print('sum of square error: ', ss_ec)\n",
    "print('root mean square error: ', rmse_ec)\n",
    "#ac_ec = accuracy_score(y_test,y_pred)\n",
    "#print('accuracy score: ', ac_ec)\n",
    "#print('confusion matrix: ', confusion_matrix(y_test,y_pred))\n",
    "#fpr,tpr,threshold = roc_curve(y_test,y_pred)\n",
    "#rc_ec = auc(fpr,tpr)\n",
    "#print('ROC curve: ', rc_ec)"
   ]
  },
  {
   "cell_type": "markdown",
   "id": "d443b796",
   "metadata": {},
   "source": [
    "### RandomForestRegressor"
   ]
  },
  {
   "cell_type": "code",
   "execution_count": null,
   "id": "16efdd08",
   "metadata": {},
   "outputs": [],
   "source": [
    "from sklearn.ensemble import RandomForestRegressor\n",
    "rf = RandomForestRegressor(n_estimators=1000)\n",
    "rf.fit(x_train,y_train)\n",
    "y_pred = rf.predict(x_test)\n",
    "er_rf = mean_squared_error(y_test,y_pred)\n",
    "r2_rf = r2_score(y_test,y_pred)\n",
    "ss_rf = 1-r2_rf\n",
    "rmse_rf = sqrt(er_rf)\n",
    "print('mean squared error: ',er_rf)\n",
    "print('r2 score: ', r2_rf)\n",
    "print('sum of square error: ', ss_rf)\n",
    "print('root mean square error: ', rmse_rf)\n",
    "#ac_rf = accuracy_score(y_test,y_pred)\n",
    "#print('accuracy score: ', ac_rf)\n",
    "#print('confusion matrix: ', confusion_matrix(y_test,y_pred))\n",
    "#fpr,tpr,threshold = roc_curve(y_test,y_pred)\n",
    "#rc_rf = auc(fpr,tpr)\n",
    "#print('ROC curve: ', rc_rf)"
   ]
  },
  {
   "cell_type": "markdown",
   "id": "98d8ebdd",
   "metadata": {},
   "source": [
    "### GradientBoostingRegressor"
   ]
  },
  {
   "cell_type": "code",
   "execution_count": null,
   "id": "91ad5647",
   "metadata": {},
   "outputs": [],
   "source": [
    "from sklearn.ensemble import GradientBoostingRegressor\n",
    "gbc = GradientBoostingRegressor(n_estimators=100)\n",
    "gbc.fit(x_train,y_train)\n",
    "y_pred = gbc.predict(x_test)\n",
    "er_gbc = mean_squared_error(y_test,y_pred)\n",
    "r2_gbc = r2_score(y_test,y_pred)\n",
    "ss_gbc = 1-r2_gbc\n",
    "rmse_gbc = sqrt(er_gbc)\n",
    "print('mean squared error: ',er_gbc)\n",
    "print('r2 score: ', r2_gbc)\n",
    "print('sum of square error: ', ss_gbc)\n",
    "print('root mean square error: ', rmse_gbc)\n",
    "#ac_gbc = accuracy_score(y_test,y_pred)\n",
    "#print('accuracy score: ', ac_gbc)\n",
    "#print('confusion matrix: ', confusion_matrix(y_test,y_pred))\n",
    "#fpr,tpr,threshold = roc_curve(y_test,y_pred)\n",
    "#rc_gbc = auc(fpr,tpr)\n",
    "#print('ROC curve: ', rc_gbc)"
   ]
  },
  {
   "cell_type": "markdown",
   "id": "731faf4e",
   "metadata": {},
   "source": [
    "### AdaBoostRegressor"
   ]
  },
  {
   "cell_type": "code",
   "execution_count": null,
   "id": "86807c6e",
   "metadata": {},
   "outputs": [],
   "source": [
    "from sklearn.ensemble import AdaBoostRegressor\n",
    "abc = AdaBoostRegressor(n_estimators=100)\n",
    "abc.fit(x_train,y_train)\n",
    "y_pred = abc.predict(x_test)\n",
    "er_abc = mean_squared_error(y_test,y_pred)\n",
    "r2_abc = r2_score(y_test,y_pred)\n",
    "ss_abc = 1-r2_abc\n",
    "rmse_abc = sqrt(er_abc)\n",
    "print('mean squared error: ',er_abc)\n",
    "print('r2 score: ', r2_abc)\n",
    "print('sum of square error: ', ss_abc)\n",
    "print('root mean square error: ', rmse_abc)\n",
    "#ac_abc = accuracy_score(y_test,y_pred)\n",
    "#print('accuracy score: ', ac_abc)\n",
    "#print('confusion matrix: ', confusion_matrix(y_test,y_pred))\n",
    "#fpr,tpr,threshold = roc_curve(y_test,y_pred)\n",
    "#rc_abc = auc(fpr,tpr)\n",
    "#print('ROC curve: ', rc_abc)"
   ]
  },
  {
   "cell_type": "code",
   "execution_count": null,
   "id": "a15abf15",
   "metadata": {},
   "outputs": [],
   "source": [
    "from sklearn.ensemble import BaggingRegressor\n",
    "bc = BaggingRegressor(n_estimators=1000)\n",
    "bc.fit(x_train,y_train)\n",
    "y_pred = bc.predict(x_test)\n",
    "er_bc = mean_squared_error(y_test,y_pred)\n",
    "r2_bc = r2_score(y_test,y_pred)\n",
    "ss_bc = 1-r2_bc\n",
    "rmse_bc = sqrt(er_bc)\n",
    "print('mean squared error: ',er_bc)\n",
    "print('r2 score: ', r2_bc)\n",
    "print('sum of square error: ', ss_bc)\n",
    "print('root mean square error: ', rmse_bc)\n",
    "#ac_bc = accuracy_score(y_test,y_pred)\n",
    "#print('accuracy score: ', ac_bc)\n",
    "#print('confusion matrix: ', confusion_matrix(y_test,y_pred))\n",
    "#fpr,tpr,threshold = roc_curve(y_test,y_pred)\n",
    "#rc_bc = auc(fpr,tpr)\n",
    "#print('ROC curve: ', rc_bc)"
   ]
  },
  {
   "cell_type": "markdown",
   "id": "245df3a7",
   "metadata": {},
   "source": [
    "### XGBRegressor"
   ]
  },
  {
   "cell_type": "code",
   "execution_count": null,
   "id": "5a584db3",
   "metadata": {},
   "outputs": [],
   "source": [
    "from xgboost import XGBRegressor\n",
    "xg = XGBRegressor(n_estimators=1000)\n",
    "xg.fit(x_train,y_train)\n",
    "y_pred = xg.predict(x_test)\n",
    "er_xg = mean_squared_error(y_test,y_pred)\n",
    "r2_xg = r2_score(y_test,y_pred)\n",
    "ss_xg = 1-r2_xg\n",
    "rmse_xg = sqrt(er_xg)\n",
    "print('mean squared error: ',er_xg)\n",
    "print('r2 score: ', r2_xg)\n",
    "print('sum of square error: ', ss_xg)\n",
    "print('root mean square error: ', rmse_xg)\n",
    "#ac_xg = accuracy_score(y_test,y_pred)\n",
    "#print('accuracy score: ', ac_xg)\n",
    "#print('confusion matrix: ', confusion_matrix(y_test,y_pred))\n",
    "#fpr,tpr,threshold = roc_curve(y_test,y_pred)\n",
    "#rc_xg = auc(fpr,tpr)\n",
    "#print('ROC curve: ', rc_xg)"
   ]
  },
  {
   "cell_type": "markdown",
   "id": "e0e30d47",
   "metadata": {},
   "source": [
    "### XGBRFRegressor"
   ]
  },
  {
   "cell_type": "markdown",
   "id": "1fca0ce0",
   "metadata": {},
   "source": []
  },
  {
   "cell_type": "code",
   "execution_count": null,
   "id": "455dd5b7",
   "metadata": {},
   "outputs": [],
   "source": [
    "from xgboost import XGBRFRegressor\n",
    "xgrf = XGBRFRegressor(n_estimators=1000)\n",
    "xgrf.fit(x_train,y_train)\n",
    "y_pred = xgrf.predict(x_test)\n",
    "er_xgrf = mean_squared_error(y_test,y_pred)\n",
    "r2_xgrf = r2_score(y_test,y_pred)\n",
    "ss_xgrf = 1-r2_xgrf\n",
    "rmse_xgrf = sqrt(er_xgrf)\n",
    "print('mean squared error: ',er_xgrf)\n",
    "print('r2 score: ', r2_xgrf)\n",
    "print('sum of square error: ', ss_xgrf)\n",
    "print('root mean square error: ', rmse_xgrf)\n",
    "#ac_xgrf = accuracy_score(y_test,y_pred)\n",
    "#print('accuracy score: ', ac_xgrf)\n",
    "#print('confusion matrix: ', confusion_matrix(y_test,y_pred))\n",
    "#fpr,tpr,threshold = roc_curve(y_test,y_pred)\n",
    "#rc_xgrf = auc(fpr,tpr)\n",
    "#print('ROC curve: ', rc_xgrf)"
   ]
  },
  {
   "cell_type": "markdown",
   "id": "d64d8135",
   "metadata": {},
   "source": [
    "### VotingRegressor"
   ]
  },
  {
   "cell_type": "code",
   "execution_count": null,
   "id": "3dda44be",
   "metadata": {},
   "outputs": [],
   "source": [
    "from sklearn.ensemble import VotingRegressor\n",
    "vr = VotingRegressor(estimators=[('rf',rf),('gb',gbc),('xgb',xg)])\n",
    "vr.fit(x_train,y_train)\n",
    "y_pred = vr.predict(x_test)\n",
    "er_vr = mean_squared_error(y_test,y_pred)\n",
    "r2_vr = r2_score(y_test,y_pred)\n",
    "ss_vr = 1-r2_vr\n",
    "rmse_vr = sqrt(er_vr)\n",
    "print('mean squared error: ',er_vr)\n",
    "print('r2 score: ', r2_vr)\n",
    "print('sum of square error: ', ss_vr)\n",
    "print('root mean square error: ', rmse_vr)\n",
    "#ac_vr = accuracy_score(y_test,y_pred)\n",
    "#print('accuracy score: ', ac_vr)\n",
    "#print('confusion matrix: ', confusion_matrix(y_test,y_pred))\n",
    "#fpr,tpr,threshold = roc_curve(y_test,y_pred)\n",
    "#rc_vr = auc(fpr,tpr)\n",
    "#print('ROC curve: ', rc_vr)"
   ]
  },
  {
   "cell_type": "markdown",
   "id": "fa55ed4a",
   "metadata": {},
   "source": [
    "## Checking which regression model is the best"
   ]
  },
  {
   "cell_type": "code",
   "execution_count": null,
   "id": "76a572d8",
   "metadata": {},
   "outputs": [],
   "source": [
    "#ac = [ac_lr,ac_kn,ac_sv,ac_sr,ac_sp,ac_ss,ac_dt,ac_ec,ac_rf,ac_gbc,ac_abc,ac_bc,ac_xg,ac_xgrf,ac_vr]\n",
    "#rc = [rc_kn,rc_sv,rc_sr,rc_sp,rc_ss,rc_dt,rc_ec,rc_rf,rc_gbc,rc_abc,rc_bc,rc_xg,rc_xgrf,rc_vr]\n",
    "er = [er_kn,er_sv,er_sr,er_sp,er_ss,er_dt,er_ec,er_rf,er_gbc,er_abc,er_bc,er_xg,er_xgrf,er_vr]\n",
    "r2 = [r2_kn,r2_sv,r2_sr,r2_sp,r2_ss,r2_dt,r2_ec,r2_rf,r2_gbc,r2_abc,r2_bc,r2_xg,r2_xgrf,r2_vr]\n",
    "ss = [ss_kn,ss_sv,ss_sr,ss_sp,ss_ss,ss_dt,ss_ec,ss_rf,ss_gbc,ss_abc,ss_bc,ss_xg,ss_xgrf,ss_vr]\n",
    "rmse = [rmse_kn,rmse_sv,rmse_sr,rmse_sp,rmse_ss,rmse_dt,rmse_ec,rmse_rf,rmse_gbc,rmse_abc,rmse_bc,rmse_xg,rmse_xgrf,rmse_vr]\n",
    "name = ['KNN','SVR','RSVR','PSVR','SSVR','DT','ET','RF','GB','AB','BC','XGB','XGBRF','VR']"
   ]
  },
  {
   "cell_type": "code",
   "execution_count": null,
   "id": "acaa6906",
   "metadata": {},
   "outputs": [],
   "source": [
    "#plt.bar(name,ac)\n",
    "#plt.title(\"Best Algorithm\")\n",
    "#plt.xlabel(\"Algorithm\")\n",
    "#plt.ylabel(\"Accuracy Value\")\n",
    "#plt.show()"
   ]
  },
  {
   "cell_type": "code",
   "execution_count": null,
   "id": "4cd16bba",
   "metadata": {},
   "outputs": [],
   "source": [
    "plt.bar(name,r2)\n",
    "plt.title(\"Best Algorithm\")\n",
    "plt.xlabel(\"Algorithm\")\n",
    "plt.ylabel(\"R2 Score\")\n",
    "plt.show()"
   ]
  },
  {
   "cell_type": "code",
   "execution_count": null,
   "id": "6558ddea",
   "metadata": {
    "scrolled": true
   },
   "outputs": [],
   "source": [
    "plt.bar(name,ss)\n",
    "plt.title(\"Best Algorithm\")\n",
    "plt.xlabel(\"Algorithm\")\n",
    "plt.ylabel(\"Sum of Square\")\n",
    "plt.show()"
   ]
  },
  {
   "cell_type": "code",
   "execution_count": null,
   "id": "6e7f8892",
   "metadata": {},
   "outputs": [],
   "source": [
    "plt.bar(name,er)\n",
    "plt.title(\"Best Algorithm\")\n",
    "plt.xlabel(\"Algorithm\")\n",
    "plt.ylabel(\"Mean Squared Error\")\n",
    "plt.show()"
   ]
  },
  {
   "cell_type": "code",
   "execution_count": null,
   "id": "b9508372",
   "metadata": {},
   "outputs": [],
   "source": [
    "plt.bar(name,rmse)\n",
    "plt.title(\"Best Algorithm\")\n",
    "plt.xlabel(\"Algorithm\")\n",
    "plt.ylabel(\"Root Mean Squared Error\")\n",
    "plt.show()"
   ]
  },
  {
   "cell_type": "code",
   "execution_count": null,
   "id": "388a4f13",
   "metadata": {
    "scrolled": true
   },
   "outputs": [],
   "source": [
    "#print(pd.DataFrame(ac).mean())\n",
    "print(pd.DataFrame(er).mean())"
   ]
  },
  {
   "cell_type": "code",
   "execution_count": null,
   "id": "021e3746",
   "metadata": {},
   "outputs": [
    {
     "ename": "NameError",
     "evalue": "name 'er' is not defined",
     "output_type": "error",
     "traceback": [
      "\u001b[0;31m---------------------------------------------------------------------------\u001b[0m",
      "\u001b[0;31mNameError\u001b[0m                                 Traceback (most recent call last)",
      "\u001b[0;32m/var/folders/mw/fc5wj4ns76x4xcwycqk0_bt00000gn/T/ipykernel_54223/3022581090.py\u001b[0m in \u001b[0;36m<module>\u001b[0;34m\u001b[0m\n\u001b[1;32m      1\u001b[0m \u001b[0;31m#print(pd.DataFrame(ac).mode())\u001b[0m\u001b[0;34m\u001b[0m\u001b[0;34m\u001b[0m\u001b[0m\n\u001b[0;32m----> 2\u001b[0;31m \u001b[0mprint\u001b[0m\u001b[0;34m(\u001b[0m\u001b[0mpd\u001b[0m\u001b[0;34m.\u001b[0m\u001b[0mDataFrame\u001b[0m\u001b[0;34m(\u001b[0m\u001b[0mer\u001b[0m\u001b[0;34m)\u001b[0m\u001b[0;34m.\u001b[0m\u001b[0mmode\u001b[0m\u001b[0;34m(\u001b[0m\u001b[0;34m)\u001b[0m\u001b[0;34m)\u001b[0m\u001b[0;34m\u001b[0m\u001b[0;34m\u001b[0m\u001b[0m\n\u001b[0m",
      "\u001b[0;31mNameError\u001b[0m: name 'er' is not defined"
     ]
    }
   ],
   "source": [
    "#print(pd.DataFrame(ac).mode())\n",
    "print(pd.DataFrame(er).mode())"
   ]
  },
  {
   "cell_type": "markdown",
   "id": "8de3aef6",
   "metadata": {},
   "source": [
    "temp = []\n",
    "a = []\n",
    "r = []\n",
    "for i in range(16):\n",
    "    if ac[i] > 0.87 and rc[i] > 0.6:\n",
    "        temp.append(name[i])\n",
    "        a.append(round(ac[i],2))\n",
    "        r.append(round(rc[i],2))"
   ]
  },
  {
   "cell_type": "markdown",
   "id": "cf8e3632",
   "metadata": {},
   "source": [
    "print(temp)\n",
    "print(a)\n",
    "print(r)"
   ]
  },
  {
   "cell_type": "code",
   "execution_count": null,
   "id": "856afc7c",
   "metadata": {},
   "outputs": [],
   "source": [
    "# pandas_profiling and autoviz.AutoViz_Class import AutoViz_Class\n",
    "# AUTO VIML"
   ]
  },
  {
   "cell_type": "code",
   "execution_count": null,
   "id": "46206789",
   "metadata": {},
   "outputs": [],
   "source": [
    "from sklearn.linear_model import Lasso, Ridge"
   ]
  },
  {
   "cell_type": "code",
   "execution_count": null,
   "id": "004d1e36",
   "metadata": {},
   "outputs": [],
   "source": [
    "ls = Lasso()\n",
    "ls.fit(x_train,y_train)\n",
    "y_pred = ls.predict(x_test)"
   ]
  },
  {
   "cell_type": "code",
   "execution_count": null,
   "id": "a82fe188",
   "metadata": {},
   "outputs": [],
   "source": [
    "rs = Ridge()\n",
    "rs.fit(x_train,y_train)\n",
    "y_pred = rs.predict(x_test)"
   ]
  }
 ],
 "metadata": {
  "kernelspec": {
   "display_name": "Python 3.9.13 ('base')",
   "language": "python",
   "name": "python3"
  },
  "language_info": {
   "codemirror_mode": {
    "name": "ipython",
    "version": 3
   },
   "file_extension": ".py",
   "mimetype": "text/x-python",
   "name": "python",
   "nbconvert_exporter": "python",
   "pygments_lexer": "ipython3",
   "version": "3.9.13"
  },
  "vscode": {
   "interpreter": {
    "hash": "0b5c61de2e429f9752d8dbc011c1d8d05e3d8719ce4f9a2a549c70706b4985bf"
   }
  }
 },
 "nbformat": 4,
 "nbformat_minor": 5
}
