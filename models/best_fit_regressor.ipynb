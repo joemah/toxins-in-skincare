{
 "cells": [
  {
   "cell_type": "code",
   "execution_count": 29,
   "id": "351edf24",
   "metadata": {},
   "outputs": [],
   "source": [
    "import pandas as pd\n",
    "import numpy as np\n",
    "import seaborn as sns\n",
    "import matplotlib.pyplot as plt"
   ]
  },
  {
   "cell_type": "code",
   "execution_count": 30,
   "id": "0a8ac6cc",
   "metadata": {},
   "outputs": [],
   "source": [
    "df = pd.read_csv('../data/processed/cleaned_data.csv')"
   ]
  },
  {
   "cell_type": "code",
   "execution_count": 31,
   "id": "ec25af4c",
   "metadata": {
    "scrolled": true
   },
   "outputs": [
    {
     "data": {
      "text/html": [
       "<div>\n",
       "<style scoped>\n",
       "    .dataframe tbody tr th:only-of-type {\n",
       "        vertical-align: middle;\n",
       "    }\n",
       "\n",
       "    .dataframe tbody tr th {\n",
       "        vertical-align: top;\n",
       "    }\n",
       "\n",
       "    .dataframe thead th {\n",
       "        text-align: right;\n",
       "    }\n",
       "</style>\n",
       "<table border=\"1\" class=\"dataframe\">\n",
       "  <thead>\n",
       "    <tr style=\"text-align: right;\">\n",
       "      <th></th>\n",
       "      <th>Label</th>\n",
       "      <th>Brand</th>\n",
       "      <th>Name</th>\n",
       "      <th>Price</th>\n",
       "      <th>Rank</th>\n",
       "      <th>Ingredients</th>\n",
       "    </tr>\n",
       "  </thead>\n",
       "  <tbody>\n",
       "    <tr>\n",
       "      <th>0</th>\n",
       "      <td>3.0</td>\n",
       "      <td>64.0</td>\n",
       "      <td>Crème de la Mer</td>\n",
       "      <td>175.0</td>\n",
       "      <td>4.1</td>\n",
       "      <td>Algae (Seaweed) Extract, Mineral Oil, Petrolat...</td>\n",
       "    </tr>\n",
       "    <tr>\n",
       "      <th>1</th>\n",
       "      <td>3.0</td>\n",
       "      <td>95.0</td>\n",
       "      <td>Facial Treatment Essence</td>\n",
       "      <td>179.0</td>\n",
       "      <td>4.1</td>\n",
       "      <td>Galactomyces Ferment Filtrate (Pitera), Butyle...</td>\n",
       "    </tr>\n",
       "    <tr>\n",
       "      <th>2</th>\n",
       "      <td>3.0</td>\n",
       "      <td>29.0</td>\n",
       "      <td>Protini™ Polypeptide Cream</td>\n",
       "      <td>68.0</td>\n",
       "      <td>4.4</td>\n",
       "      <td>Water, Dicaprylyl Carbonate, Glycerin, Ceteary...</td>\n",
       "    </tr>\n",
       "    <tr>\n",
       "      <th>3</th>\n",
       "      <td>3.0</td>\n",
       "      <td>64.0</td>\n",
       "      <td>The Moisturizing Soft Cream</td>\n",
       "      <td>175.0</td>\n",
       "      <td>3.8</td>\n",
       "      <td>Algae (Seaweed) Extract, Cyclopentasiloxane, P...</td>\n",
       "    </tr>\n",
       "    <tr>\n",
       "      <th>4</th>\n",
       "      <td>3.0</td>\n",
       "      <td>49.0</td>\n",
       "      <td>Your Skin But Better™ CC+™ Cream with SPF 50+</td>\n",
       "      <td>38.0</td>\n",
       "      <td>4.1</td>\n",
       "      <td>Water, Snail Secretion Filtrate, Phenyl Trimet...</td>\n",
       "    </tr>\n",
       "  </tbody>\n",
       "</table>\n",
       "</div>"
      ],
      "text/plain": [
       "   Label  Brand                                           Name  Price  Rank  \\\n",
       "0    3.0   64.0                                Crème de la Mer  175.0   4.1   \n",
       "1    3.0   95.0                       Facial Treatment Essence  179.0   4.1   \n",
       "2    3.0   29.0                     Protini™ Polypeptide Cream   68.0   4.4   \n",
       "3    3.0   64.0                    The Moisturizing Soft Cream  175.0   3.8   \n",
       "4    3.0   49.0  Your Skin But Better™ CC+™ Cream with SPF 50+   38.0   4.1   \n",
       "\n",
       "                                         Ingredients  \n",
       "0  Algae (Seaweed) Extract, Mineral Oil, Petrolat...  \n",
       "1  Galactomyces Ferment Filtrate (Pitera), Butyle...  \n",
       "2  Water, Dicaprylyl Carbonate, Glycerin, Ceteary...  \n",
       "3  Algae (Seaweed) Extract, Cyclopentasiloxane, P...  \n",
       "4  Water, Snail Secretion Filtrate, Phenyl Trimet...  "
      ]
     },
     "execution_count": 31,
     "metadata": {},
     "output_type": "execute_result"
    }
   ],
   "source": [
    "df.head()"
   ]
  },
  {
   "cell_type": "code",
   "execution_count": 32,
   "id": "a01852c0",
   "metadata": {},
   "outputs": [
    {
     "name": "stdout",
     "output_type": "stream",
     "text": [
      "<class 'pandas.core.frame.DataFrame'>\n",
      "RangeIndex: 1472 entries, 0 to 1471\n",
      "Data columns (total 6 columns):\n",
      " #   Column       Non-Null Count  Dtype  \n",
      "---  ------       --------------  -----  \n",
      " 0   Label        1472 non-null   float64\n",
      " 1   Brand        1472 non-null   float64\n",
      " 2   Name         1472 non-null   object \n",
      " 3   Price        1472 non-null   float64\n",
      " 4   Rank         1472 non-null   float64\n",
      " 5   Ingredients  1472 non-null   object \n",
      "dtypes: float64(4), object(2)\n",
      "memory usage: 69.1+ KB\n"
     ]
    }
   ],
   "source": [
    "df.info()"
   ]
  },
  {
   "cell_type": "code",
   "execution_count": 33,
   "id": "914fe668",
   "metadata": {},
   "outputs": [],
   "source": [
    "from sklearn.preprocessing import LabelEncoder\n",
    "le = LabelEncoder()\n",
    "df['Brand'] = le.fit_transform(df['Brand'])\n",
    "df['Label'] = le.fit_transform(df['Label'])"
   ]
  },
  {
   "cell_type": "code",
   "execution_count": 34,
   "id": "8b9394c0",
   "metadata": {},
   "outputs": [
    {
     "data": {
      "text/html": [
       "<div>\n",
       "<style scoped>\n",
       "    .dataframe tbody tr th:only-of-type {\n",
       "        vertical-align: middle;\n",
       "    }\n",
       "\n",
       "    .dataframe tbody tr th {\n",
       "        vertical-align: top;\n",
       "    }\n",
       "\n",
       "    .dataframe thead th {\n",
       "        text-align: right;\n",
       "    }\n",
       "</style>\n",
       "<table border=\"1\" class=\"dataframe\">\n",
       "  <thead>\n",
       "    <tr style=\"text-align: right;\">\n",
       "      <th></th>\n",
       "      <th>Label</th>\n",
       "      <th>Brand</th>\n",
       "      <th>Name</th>\n",
       "      <th>Price</th>\n",
       "      <th>Rank</th>\n",
       "      <th>Ingredients</th>\n",
       "    </tr>\n",
       "  </thead>\n",
       "  <tbody>\n",
       "    <tr>\n",
       "      <th>0</th>\n",
       "      <td>3</td>\n",
       "      <td>64</td>\n",
       "      <td>Crème de la Mer</td>\n",
       "      <td>175.0</td>\n",
       "      <td>4.1</td>\n",
       "      <td>Algae (Seaweed) Extract, Mineral Oil, Petrolat...</td>\n",
       "    </tr>\n",
       "    <tr>\n",
       "      <th>1</th>\n",
       "      <td>3</td>\n",
       "      <td>95</td>\n",
       "      <td>Facial Treatment Essence</td>\n",
       "      <td>179.0</td>\n",
       "      <td>4.1</td>\n",
       "      <td>Galactomyces Ferment Filtrate (Pitera), Butyle...</td>\n",
       "    </tr>\n",
       "    <tr>\n",
       "      <th>2</th>\n",
       "      <td>3</td>\n",
       "      <td>29</td>\n",
       "      <td>Protini™ Polypeptide Cream</td>\n",
       "      <td>68.0</td>\n",
       "      <td>4.4</td>\n",
       "      <td>Water, Dicaprylyl Carbonate, Glycerin, Ceteary...</td>\n",
       "    </tr>\n",
       "    <tr>\n",
       "      <th>3</th>\n",
       "      <td>3</td>\n",
       "      <td>64</td>\n",
       "      <td>The Moisturizing Soft Cream</td>\n",
       "      <td>175.0</td>\n",
       "      <td>3.8</td>\n",
       "      <td>Algae (Seaweed) Extract, Cyclopentasiloxane, P...</td>\n",
       "    </tr>\n",
       "    <tr>\n",
       "      <th>4</th>\n",
       "      <td>3</td>\n",
       "      <td>49</td>\n",
       "      <td>Your Skin But Better™ CC+™ Cream with SPF 50+</td>\n",
       "      <td>38.0</td>\n",
       "      <td>4.1</td>\n",
       "      <td>Water, Snail Secretion Filtrate, Phenyl Trimet...</td>\n",
       "    </tr>\n",
       "  </tbody>\n",
       "</table>\n",
       "</div>"
      ],
      "text/plain": [
       "   Label  Brand                                           Name  Price  Rank  \\\n",
       "0      3     64                                Crème de la Mer  175.0   4.1   \n",
       "1      3     95                       Facial Treatment Essence  179.0   4.1   \n",
       "2      3     29                     Protini™ Polypeptide Cream   68.0   4.4   \n",
       "3      3     64                    The Moisturizing Soft Cream  175.0   3.8   \n",
       "4      3     49  Your Skin But Better™ CC+™ Cream with SPF 50+   38.0   4.1   \n",
       "\n",
       "                                         Ingredients  \n",
       "0  Algae (Seaweed) Extract, Mineral Oil, Petrolat...  \n",
       "1  Galactomyces Ferment Filtrate (Pitera), Butyle...  \n",
       "2  Water, Dicaprylyl Carbonate, Glycerin, Ceteary...  \n",
       "3  Algae (Seaweed) Extract, Cyclopentasiloxane, P...  \n",
       "4  Water, Snail Secretion Filtrate, Phenyl Trimet...  "
      ]
     },
     "execution_count": 34,
     "metadata": {},
     "output_type": "execute_result"
    }
   ],
   "source": [
    "df.head()"
   ]
  },
  {
   "cell_type": "code",
   "execution_count": 35,
   "id": "928b805e",
   "metadata": {},
   "outputs": [
    {
     "name": "stdout",
     "output_type": "stream",
     "text": [
      "[[3 64 'Crème de la Mer' 175.0\n",
      "  'Algae (Seaweed) Extract, Mineral Oil, Petrolatum, Glycerin, Isohexadecane, Microcrystalline Wax, Lanolin Alcohol, Citrus Aurantifolia (Lime) Extract, Sesamum Indicum (Sesame) Seed Oil, Eucalyptus Globulus (Eucalyptus) Leaf Oil, Sesamum Indicum (Sesame) Seed Powder, Medicago Sativa (Alfalfa) Seed Powder, Helianthus Annuus (Sunflower) Seedcake, Prunus Amygdalus Dulcis (Sweet Almond) Seed Meal, Sodium Gluconate, Copper Gluconate, Calcium Gluconate, Magnesium Gluconate, Zinc Gluconate, Magnesium Sulfate, Paraffin, Tocopheryl Succinate, Niacin, Water, Beta-Carotene, Decyl Oleate, Aluminum Distearate, Octyldodecanol, Citric Acid, Cyanocobalamin, Magnesium Stearate, Panthenol, Limonene, Geraniol, Linalool, Hydroxycitronellal, Citronellol, Benzyl Salicylate, Citral, Sodium Benzoate, Alcohol Denat., Fragrance.']\n",
      " [3 95 'Facial Treatment Essence' 179.0\n",
      "  'Galactomyces Ferment Filtrate (Pitera), Butylene Glycol, Pentylene Glycol, Water, Sodium Benzoate, Methylparaben, Sorbic Acid.']\n",
      " [3 29 'Protini™ Polypeptide Cream' 68.0\n",
      "  'Water, Dicaprylyl Carbonate, Glycerin, Cetearyl Alcohol, Cetearyl Olivate, Sorbitan Olivate, Sclerocarya Birrea Seed Oil, Bacillus/Soybean/ Folic Acid Ferment Extract, Nymphaea Alba Root Extract, sh-Oligopeptide-1, sh-Oligopeptide-2, sh-Polypeptide-1, sh-Polypeptide-9, sh-Polypeptide-11, Copper Palmitoyl Heptapeptide-14, Heptapeptide-15 Palmitate, Palmitoyl Tetrapeptide-7, Palmitoyl Tripeptide-1, Alanine, Arginine, Glycine, Histidine, Isoleucine, Phenylalanine, Proline, Serine, Threonine, Valine, Acetyl Glutamine, Coconut Alkanes , Coco-Caprylate/Caprate, Sodium Hyaluronate, Aspartic Acid, Linoleic Acid, Linolenic Acid, Lecithin, Butylene Glycol, Polyvinyl Alcohol, Sodium Lactate, Sodium PCA, PCA, Sorbitan Isostearate, Carbomer, Polysorbate 20, Polysorbate 60, Lactic Acid/Glycolic Acid Copolymer, Hydroxyethyl Acrylate/Sodium Acryloyldimethyl Taurate Copolymer, Xanthan Gum, Isomalt, 1,2-Hexanediol, Caprylyl Glycol, Chlorphenesin, Phenoxyethanol, Tocopherol, Sodium Benzoate, Phenylpropanol, Glyceryl Caprylate, Symphytum Officinale Callus Culture Extract.']\n",
      " ...\n",
      " [4 111 'Self Tan Dry Oil SPF 50' 54.0\n",
      "  'Water, Dihydroxyacetone, Glycerin, Sclerocarya Birrea Seed Oil, Mica, Cymbopogon flexuosus (Lemongrass) oil, Cucumis Sativus (Cucumber) Extract, Citrus aurantium amara (Bitter orange) flower oil, Dimethyl isosorbide, Sodium Benzoate, Potassium Sorbate, Caramel, Tin oxide, CI 77491 (Iron oxides), Cocos Nucifera (Coconut) Oil, Gardenia Taitensis Flower Extract, Sorbitol, Sodium Citrate, Silica.']\n",
      " [4 100 'Pro Light Self Tan Bronzing Mist' 20.0\n",
      "  'Water, Dihydroxyacetone, Propylene Glycol, PPG-5-Ceteth-20, Glycerin, Ethoxydiglycol, Caramel, Phenoxyethanol, PEG-12 Dimethicone, Parfum (Fragrance), Sodium Metabisulfite, Tocopherol, Ethylhexylglycerin, Linalool, Alpha-isomethyl Ionone, CI 14700 (Red 4), CI 19140 (Yellow 5), CI 42090 (Blue 1).']\n",
      " [4 23 'DERMAPROTECT Daily Defense Broad Spectrum SPF 50+' 45.0\n",
      "  'Visit the DERMAFLASH boutique']]\n",
      "[[4.1]\n",
      " [4.1]\n",
      " [4.4]\n",
      " ...\n",
      " [3.5]\n",
      " [1. ]\n",
      " [0. ]]\n"
     ]
    }
   ],
   "source": [
    "x = df.drop(['Rank'], axis = 1).values\n",
    "y = df['Rank'].values\n",
    "y.resize(1472,1)\n",
    "\n",
    "print(x)\n",
    "print(y)"
   ]
  },
  {
   "cell_type": "code",
   "execution_count": 36,
   "id": "991bf67f",
   "metadata": {},
   "outputs": [],
   "source": [
    "from sklearn.model_selection import train_test_split"
   ]
  },
  {
   "cell_type": "code",
   "execution_count": 37,
   "id": "f0d543aa",
   "metadata": {},
   "outputs": [],
   "source": [
    "x_train, x_test, y_train, y_test = train_test_split(x, y, test_size=0.33, random_state=42)"
   ]
  },
  {
   "cell_type": "code",
   "execution_count": 38,
   "id": "30be0044",
   "metadata": {},
   "outputs": [],
   "source": [
    "from sklearn.metrics import mean_squared_error, r2_score\n",
    "from math import sqrt"
   ]
  },
  {
   "cell_type": "markdown",
   "id": "8e764d97",
   "metadata": {},
   "source": [
    "### Neighbor Regression Model"
   ]
  },
  {
   "cell_type": "code",
   "execution_count": 39,
   "id": "dc904082",
   "metadata": {},
   "outputs": [
    {
     "ename": "ValueError",
     "evalue": "could not convert string to float: 'A Perfect World™ SPF 20 Age-Defense Eye Cream with White Tea'",
     "output_type": "error",
     "traceback": [
      "\u001b[0;31m---------------------------------------------------------------------------\u001b[0m",
      "\u001b[0;31mValueError\u001b[0m                                Traceback (most recent call last)",
      "\u001b[0;32m/var/folders/mw/fc5wj4ns76x4xcwycqk0_bt00000gn/T/ipykernel_54223/1296041925.py\u001b[0m in \u001b[0;36m<module>\u001b[0;34m\u001b[0m\n\u001b[1;32m      1\u001b[0m \u001b[0;32mfrom\u001b[0m \u001b[0msklearn\u001b[0m\u001b[0;34m.\u001b[0m\u001b[0mneighbors\u001b[0m \u001b[0;32mimport\u001b[0m \u001b[0mKNeighborsRegressor\u001b[0m\u001b[0;34m\u001b[0m\u001b[0;34m\u001b[0m\u001b[0m\n\u001b[1;32m      2\u001b[0m \u001b[0mkn\u001b[0m \u001b[0;34m=\u001b[0m \u001b[0mKNeighborsRegressor\u001b[0m\u001b[0;34m(\u001b[0m\u001b[0;34m)\u001b[0m\u001b[0;34m\u001b[0m\u001b[0;34m\u001b[0m\u001b[0m\n\u001b[0;32m----> 3\u001b[0;31m \u001b[0mkn\u001b[0m\u001b[0;34m.\u001b[0m\u001b[0mfit\u001b[0m\u001b[0;34m(\u001b[0m\u001b[0mx_train\u001b[0m\u001b[0;34m,\u001b[0m\u001b[0my_train\u001b[0m\u001b[0;34m)\u001b[0m\u001b[0;34m\u001b[0m\u001b[0;34m\u001b[0m\u001b[0m\n\u001b[0m\u001b[1;32m      4\u001b[0m \u001b[0my_pred\u001b[0m \u001b[0;34m=\u001b[0m \u001b[0mkn\u001b[0m\u001b[0;34m.\u001b[0m\u001b[0mpredict\u001b[0m\u001b[0;34m(\u001b[0m\u001b[0mx_test\u001b[0m\u001b[0;34m)\u001b[0m\u001b[0;34m\u001b[0m\u001b[0;34m\u001b[0m\u001b[0m\n\u001b[1;32m      5\u001b[0m \u001b[0mer_kn\u001b[0m \u001b[0;34m=\u001b[0m \u001b[0mmean_squared_error\u001b[0m\u001b[0;34m(\u001b[0m\u001b[0my_test\u001b[0m\u001b[0;34m,\u001b[0m\u001b[0my_pred\u001b[0m\u001b[0;34m)\u001b[0m\u001b[0;34m\u001b[0m\u001b[0;34m\u001b[0m\u001b[0m\n",
      "\u001b[0;32m~/opt/anaconda3/lib/python3.9/site-packages/sklearn/neighbors/_regression.py\u001b[0m in \u001b[0;36mfit\u001b[0;34m(self, X, y)\u001b[0m\n\u001b[1;32m    211\u001b[0m         \u001b[0mself\u001b[0m\u001b[0;34m.\u001b[0m\u001b[0mweights\u001b[0m \u001b[0;34m=\u001b[0m \u001b[0m_check_weights\u001b[0m\u001b[0;34m(\u001b[0m\u001b[0mself\u001b[0m\u001b[0;34m.\u001b[0m\u001b[0mweights\u001b[0m\u001b[0;34m)\u001b[0m\u001b[0;34m\u001b[0m\u001b[0;34m\u001b[0m\u001b[0m\n\u001b[1;32m    212\u001b[0m \u001b[0;34m\u001b[0m\u001b[0m\n\u001b[0;32m--> 213\u001b[0;31m         \u001b[0;32mreturn\u001b[0m \u001b[0mself\u001b[0m\u001b[0;34m.\u001b[0m\u001b[0m_fit\u001b[0m\u001b[0;34m(\u001b[0m\u001b[0mX\u001b[0m\u001b[0;34m,\u001b[0m \u001b[0my\u001b[0m\u001b[0;34m)\u001b[0m\u001b[0;34m\u001b[0m\u001b[0;34m\u001b[0m\u001b[0m\n\u001b[0m\u001b[1;32m    214\u001b[0m \u001b[0;34m\u001b[0m\u001b[0m\n\u001b[1;32m    215\u001b[0m     \u001b[0;32mdef\u001b[0m \u001b[0mpredict\u001b[0m\u001b[0;34m(\u001b[0m\u001b[0mself\u001b[0m\u001b[0;34m,\u001b[0m \u001b[0mX\u001b[0m\u001b[0;34m)\u001b[0m\u001b[0;34m:\u001b[0m\u001b[0;34m\u001b[0m\u001b[0;34m\u001b[0m\u001b[0m\n",
      "\u001b[0;32m~/opt/anaconda3/lib/python3.9/site-packages/sklearn/neighbors/_base.py\u001b[0m in \u001b[0;36m_fit\u001b[0;34m(self, X, y)\u001b[0m\n\u001b[1;32m    398\u001b[0m         \u001b[0;32mif\u001b[0m \u001b[0mself\u001b[0m\u001b[0;34m.\u001b[0m\u001b[0m_get_tags\u001b[0m\u001b[0;34m(\u001b[0m\u001b[0;34m)\u001b[0m\u001b[0;34m[\u001b[0m\u001b[0;34m\"requires_y\"\u001b[0m\u001b[0;34m]\u001b[0m\u001b[0;34m:\u001b[0m\u001b[0;34m\u001b[0m\u001b[0;34m\u001b[0m\u001b[0m\n\u001b[1;32m    399\u001b[0m             \u001b[0;32mif\u001b[0m \u001b[0;32mnot\u001b[0m \u001b[0misinstance\u001b[0m\u001b[0;34m(\u001b[0m\u001b[0mX\u001b[0m\u001b[0;34m,\u001b[0m \u001b[0;34m(\u001b[0m\u001b[0mKDTree\u001b[0m\u001b[0;34m,\u001b[0m \u001b[0mBallTree\u001b[0m\u001b[0;34m,\u001b[0m \u001b[0mNeighborsBase\u001b[0m\u001b[0;34m)\u001b[0m\u001b[0;34m)\u001b[0m\u001b[0;34m:\u001b[0m\u001b[0;34m\u001b[0m\u001b[0;34m\u001b[0m\u001b[0m\n\u001b[0;32m--> 400\u001b[0;31m                 \u001b[0mX\u001b[0m\u001b[0;34m,\u001b[0m \u001b[0my\u001b[0m \u001b[0;34m=\u001b[0m \u001b[0mself\u001b[0m\u001b[0;34m.\u001b[0m\u001b[0m_validate_data\u001b[0m\u001b[0;34m(\u001b[0m\u001b[0mX\u001b[0m\u001b[0;34m,\u001b[0m \u001b[0my\u001b[0m\u001b[0;34m,\u001b[0m \u001b[0maccept_sparse\u001b[0m\u001b[0;34m=\u001b[0m\u001b[0;34m\"csr\"\u001b[0m\u001b[0;34m,\u001b[0m \u001b[0mmulti_output\u001b[0m\u001b[0;34m=\u001b[0m\u001b[0;32mTrue\u001b[0m\u001b[0;34m)\u001b[0m\u001b[0;34m\u001b[0m\u001b[0;34m\u001b[0m\u001b[0m\n\u001b[0m\u001b[1;32m    401\u001b[0m \u001b[0;34m\u001b[0m\u001b[0m\n\u001b[1;32m    402\u001b[0m             \u001b[0;32mif\u001b[0m \u001b[0mis_classifier\u001b[0m\u001b[0;34m(\u001b[0m\u001b[0mself\u001b[0m\u001b[0;34m)\u001b[0m\u001b[0;34m:\u001b[0m\u001b[0;34m\u001b[0m\u001b[0;34m\u001b[0m\u001b[0m\n",
      "\u001b[0;32m~/opt/anaconda3/lib/python3.9/site-packages/sklearn/base.py\u001b[0m in \u001b[0;36m_validate_data\u001b[0;34m(self, X, y, reset, validate_separately, **check_params)\u001b[0m\n\u001b[1;32m    579\u001b[0m                 \u001b[0my\u001b[0m \u001b[0;34m=\u001b[0m \u001b[0mcheck_array\u001b[0m\u001b[0;34m(\u001b[0m\u001b[0my\u001b[0m\u001b[0;34m,\u001b[0m \u001b[0;34m**\u001b[0m\u001b[0mcheck_y_params\u001b[0m\u001b[0;34m)\u001b[0m\u001b[0;34m\u001b[0m\u001b[0;34m\u001b[0m\u001b[0m\n\u001b[1;32m    580\u001b[0m             \u001b[0;32melse\u001b[0m\u001b[0;34m:\u001b[0m\u001b[0;34m\u001b[0m\u001b[0;34m\u001b[0m\u001b[0m\n\u001b[0;32m--> 581\u001b[0;31m                 \u001b[0mX\u001b[0m\u001b[0;34m,\u001b[0m \u001b[0my\u001b[0m \u001b[0;34m=\u001b[0m \u001b[0mcheck_X_y\u001b[0m\u001b[0;34m(\u001b[0m\u001b[0mX\u001b[0m\u001b[0;34m,\u001b[0m \u001b[0my\u001b[0m\u001b[0;34m,\u001b[0m \u001b[0;34m**\u001b[0m\u001b[0mcheck_params\u001b[0m\u001b[0;34m)\u001b[0m\u001b[0;34m\u001b[0m\u001b[0;34m\u001b[0m\u001b[0m\n\u001b[0m\u001b[1;32m    582\u001b[0m             \u001b[0mout\u001b[0m \u001b[0;34m=\u001b[0m \u001b[0mX\u001b[0m\u001b[0;34m,\u001b[0m \u001b[0my\u001b[0m\u001b[0;34m\u001b[0m\u001b[0;34m\u001b[0m\u001b[0m\n\u001b[1;32m    583\u001b[0m \u001b[0;34m\u001b[0m\u001b[0m\n",
      "\u001b[0;32m~/opt/anaconda3/lib/python3.9/site-packages/sklearn/utils/validation.py\u001b[0m in \u001b[0;36mcheck_X_y\u001b[0;34m(X, y, accept_sparse, accept_large_sparse, dtype, order, copy, force_all_finite, ensure_2d, allow_nd, multi_output, ensure_min_samples, ensure_min_features, y_numeric, estimator)\u001b[0m\n\u001b[1;32m    962\u001b[0m         \u001b[0;32mraise\u001b[0m \u001b[0mValueError\u001b[0m\u001b[0;34m(\u001b[0m\u001b[0;34m\"y cannot be None\"\u001b[0m\u001b[0;34m)\u001b[0m\u001b[0;34m\u001b[0m\u001b[0;34m\u001b[0m\u001b[0m\n\u001b[1;32m    963\u001b[0m \u001b[0;34m\u001b[0m\u001b[0m\n\u001b[0;32m--> 964\u001b[0;31m     X = check_array(\n\u001b[0m\u001b[1;32m    965\u001b[0m         \u001b[0mX\u001b[0m\u001b[0;34m,\u001b[0m\u001b[0;34m\u001b[0m\u001b[0;34m\u001b[0m\u001b[0m\n\u001b[1;32m    966\u001b[0m         \u001b[0maccept_sparse\u001b[0m\u001b[0;34m=\u001b[0m\u001b[0maccept_sparse\u001b[0m\u001b[0;34m,\u001b[0m\u001b[0;34m\u001b[0m\u001b[0;34m\u001b[0m\u001b[0m\n",
      "\u001b[0;32m~/opt/anaconda3/lib/python3.9/site-packages/sklearn/utils/validation.py\u001b[0m in \u001b[0;36mcheck_array\u001b[0;34m(array, accept_sparse, accept_large_sparse, dtype, order, copy, force_all_finite, ensure_2d, allow_nd, ensure_min_samples, ensure_min_features, estimator)\u001b[0m\n\u001b[1;32m    744\u001b[0m                     \u001b[0marray\u001b[0m \u001b[0;34m=\u001b[0m \u001b[0marray\u001b[0m\u001b[0;34m.\u001b[0m\u001b[0mastype\u001b[0m\u001b[0;34m(\u001b[0m\u001b[0mdtype\u001b[0m\u001b[0;34m,\u001b[0m \u001b[0mcasting\u001b[0m\u001b[0;34m=\u001b[0m\u001b[0;34m\"unsafe\"\u001b[0m\u001b[0;34m,\u001b[0m \u001b[0mcopy\u001b[0m\u001b[0;34m=\u001b[0m\u001b[0;32mFalse\u001b[0m\u001b[0;34m)\u001b[0m\u001b[0;34m\u001b[0m\u001b[0;34m\u001b[0m\u001b[0m\n\u001b[1;32m    745\u001b[0m                 \u001b[0;32melse\u001b[0m\u001b[0;34m:\u001b[0m\u001b[0;34m\u001b[0m\u001b[0;34m\u001b[0m\u001b[0m\n\u001b[0;32m--> 746\u001b[0;31m                     \u001b[0marray\u001b[0m \u001b[0;34m=\u001b[0m \u001b[0mnp\u001b[0m\u001b[0;34m.\u001b[0m\u001b[0masarray\u001b[0m\u001b[0;34m(\u001b[0m\u001b[0marray\u001b[0m\u001b[0;34m,\u001b[0m \u001b[0morder\u001b[0m\u001b[0;34m=\u001b[0m\u001b[0morder\u001b[0m\u001b[0;34m,\u001b[0m \u001b[0mdtype\u001b[0m\u001b[0;34m=\u001b[0m\u001b[0mdtype\u001b[0m\u001b[0;34m)\u001b[0m\u001b[0;34m\u001b[0m\u001b[0;34m\u001b[0m\u001b[0m\n\u001b[0m\u001b[1;32m    747\u001b[0m             \u001b[0;32mexcept\u001b[0m \u001b[0mComplexWarning\u001b[0m \u001b[0;32mas\u001b[0m \u001b[0mcomplex_warning\u001b[0m\u001b[0;34m:\u001b[0m\u001b[0;34m\u001b[0m\u001b[0;34m\u001b[0m\u001b[0m\n\u001b[1;32m    748\u001b[0m                 raise ValueError(\n",
      "\u001b[0;31mValueError\u001b[0m: could not convert string to float: 'A Perfect World™ SPF 20 Age-Defense Eye Cream with White Tea'"
     ]
    }
   ],
   "source": [
    "from sklearn.neighbors import KNeighborsRegressor\n",
    "kn = KNeighborsRegressor()\n",
    "kn.fit(x_train,y_train)\n",
    "y_pred = kn.predict(x_test)\n",
    "er_kn = mean_squared_error(y_test,y_pred)\n",
    "r2_kn = r2_score(y_test,y_pred)\n",
    "ss_kn = 1-r2_kn\n",
    "rmse_kn = sqrt(er_kn)\n",
    "print('mean squared error: ',er_kn)\n",
    "print('r2 score: ', r2_kn)\n",
    "print('sum of square error: ', ss_kn)\n",
    "print('root mean square error: ', rmse_kn)\n",
    "#ac_kn = accuracy_score(y_test,y_pred)\n",
    "#print('accuracy score: ', ac_kn)\n",
    "#print('confusion matrix: ', confusion_matrix(y_test,y_pred))\n",
    "#fpr,tpr,threshold = roc_curve(y_test,y_pred)\n",
    "#rc_kn = auc(fpr,tpr)\n",
    "#print('ROC curve: ', rc_kn)"
   ]
  },
  {
   "cell_type": "markdown",
   "id": "3cb2ffb3",
   "metadata": {},
   "source": [
    "### SVR"
   ]
  },
  {
   "cell_type": "code",
   "execution_count": null,
   "id": "bdffd7fa",
   "metadata": {
    "scrolled": true
   },
   "outputs": [],
   "source": [
    "from sklearn.svm import SVR\n",
    "sv = SVR(kernel='linear')\n",
    "sv.fit(x_train,y_train)\n",
    "y_pred = sv.predict(x_test)\n",
    "er_sv = mean_squared_error(y_test,y_pred)\n",
    "r2_sv = r2_score(y_test,y_pred)\n",
    "ss_sv = 1-r2_sv\n",
    "rmse_sv = sqrt(er_sv)\n",
    "print('mean squared error: ',er_sv)\n",
    "print('r2 score: ', r2_sv)\n",
    "print('sum of square error: ', ss_sv)\n",
    "print('root mean square error: ', rmse_sv)\n",
    "#ac_sv = accuracy_score(y_test,y_pred)\n",
    "#print('accuracy score: ', ac_sv)\n",
    "#print('confusion matrix: ', confusion_matrix(y_test,y_pred))\n",
    "#fpr,tpr,threshold = roc_curve(y_test,y_pred)\n",
    "#rc_sv = auc(fpr,tpr)\n",
    "#print('ROC curve: ', rc_sv)"
   ]
  },
  {
   "cell_type": "code",
   "execution_count": null,
   "id": "6df9f7cb",
   "metadata": {},
   "outputs": [],
   "source": [
    "from sklearn.svm import SVR\n",
    "sr = SVR(kernel='rbf')\n",
    "sr.fit(x_train,y_train)\n",
    "y_pred = sr.predict(x_test)\n",
    "er_sr = mean_squared_error(y_test,y_pred)\n",
    "r2_sr = r2_score(y_test,y_pred)\n",
    "ss_sr = 1-r2_sr\n",
    "rmse_sr = sqrt(er_sr)\n",
    "print('mean squared error: ',er_sr)\n",
    "print('r2 score: ', r2_sr)\n",
    "print('sum of square error: ', ss_sr)\n",
    "print('root mean square error: ', rmse_sr)\n",
    "#ac_sr = accuracy_score(y_test,y_pred)\n",
    "#print('accuracy score: ', ac_sr)\n",
    "#print('confusion matrix: ', confusion_matrix(y_test,y_pred))\n",
    "#fpr,tpr,threshold = roc_curve(y_test,y_pred)\n",
    "#rc_sr = auc(fpr,tpr)\n",
    "#print('ROC curve: ', rc_sr)"
   ]
  },
  {
   "cell_type": "code",
   "execution_count": null,
   "id": "3361c4a4",
   "metadata": {},
   "outputs": [],
   "source": [
    "from sklearn.svm import SVR\n",
    "sp = SVR(kernel='poly')\n",
    "sp.fit(x_train,y_train)\n",
    "y_pred = sp.predict(x_test)\n",
    "er_sp = mean_squared_error(y_test,y_pred)\n",
    "r2_sp = r2_score(y_test,y_pred)\n",
    "ss_sp = 1-r2_sp\n",
    "rmse_sp = sqrt(er_sp)\n",
    "print('mean squared error: ',er_sp)\n",
    "print('r2 score: ', r2_sp)\n",
    "print('sum of square error: ', ss_sp)\n",
    "print('root mean square error: ', rmse_sp)\n",
    "#ac_sp = accuracy_score(y_test,y_pred)\n",
    "#print('accuracy score: ', ac_sp)\n",
    "#print('confusion matrix: ', confusion_matrix(y_test,y_pred))\n",
    "#fpr,tpr,threshold = roc_curve(y_test,y_pred)\n",
    "#rc_sp = auc(fpr,tpr)\n",
    "#print('ROC curve: ', rc_sp)"
   ]
  },
  {
   "cell_type": "code",
   "execution_count": null,
   "id": "bcc0d10a",
   "metadata": {},
   "outputs": [],
   "source": [
    "from sklearn.svm import SVR\n",
    "ss = SVR(kernel='sigmoid')\n",
    "ss.fit(x_train,y_train)\n",
    "y_pred = ss.predict(x_test)\n",
    "er_ss = mean_squared_error(y_test,y_pred)\n",
    "r2_ss = r2_score(y_test,y_pred)\n",
    "ss_ss = 1-r2_ss\n",
    "rmse_ss = sqrt(er_ss)\n",
    "print('mean squared error: ',er_ss)\n",
    "print('r2 score: ', r2_ss)\n",
    "print('sum of square error: ', ss_ss)\n",
    "print('root mean square error: ', rmse_ss)\n",
    "#ac_ss = accuracy_score(y_test,y_pred)\n",
    "#print('accuracy score: ', ac_ss)\n",
    "#print('confusion matrix: ', confusion_matrix(y_test,y_pred))\n",
    "#fpr,tpr,threshold = roc_curve(y_test,y_pred)\n",
    "#rc_ss = auc(fpr,tpr)\n",
    "#print('ROC curve: ', rc_ss)"
   ]
  },
  {
   "cell_type": "markdown",
   "id": "89c0c2b2",
   "metadata": {},
   "source": [
    "### DecisionTreeRegressor"
   ]
  },
  {
   "cell_type": "code",
   "execution_count": null,
   "id": "1b792fed",
   "metadata": {},
   "outputs": [],
   "source": [
    "from sklearn.tree import DecisionTreeRegressor\n",
    "dt = DecisionTreeRegressor()\n",
    "dt.fit(x_train,y_train)\n",
    "y_pred = dt.predict(x_test)\n",
    "er_dt = mean_squared_error(y_test,y_pred)\n",
    "r2_dt = r2_score(y_test,y_pred)\n",
    "ss_dt = 1-r2_dt\n",
    "rmse_dt = sqrt(er_dt)\n",
    "print('mean squared error: ',er_dt)\n",
    "print('r2 score: ', r2_dt)\n",
    "print('sum of square error: ', ss_dt)\n",
    "print('root mean square error: ', rmse_dt)\n",
    "#ac_dt = accuracy_score(y_test,y_pred)\n",
    "#print('accuracy score: ', ac_dt)\n",
    "#print('confusion matrix: ', confusion_matrix(y_test,y_pred))\n",
    "#fpr,tpr,threshold = roc_curve(y_test,y_pred)\n",
    "#rc_dt = auc(fpr,tpr)\n",
    "#print('ROC curve: ', rc_dt)"
   ]
  },
  {
   "cell_type": "markdown",
   "id": "9d9d7489",
   "metadata": {},
   "source": [
    "### ExtraTree Regression Model"
   ]
  },
  {
   "cell_type": "code",
   "execution_count": null,
   "id": "d3fe1988",
   "metadata": {},
   "outputs": [],
   "source": [
    "from sklearn.tree import ExtraTreeRegressor\n",
    "ec = ExtraTreeRegressor()\n",
    "ec.fit(x_train,y_train)\n",
    "y_pred = ec.predict(x_test)\n",
    "er_ec = mean_squared_error(y_test,y_pred)\n",
    "r2_ec = r2_score(y_test,y_pred)\n",
    "ss_ec = 1-r2_ec\n",
    "rmse_ec = sqrt(er_ec)\n",
    "print('mean squared error: ',er_ec)\n",
    "print('r2 score: ', r2_ec)\n",
    "print('sum of square error: ', ss_ec)\n",
    "print('root mean square error: ', rmse_ec)\n",
    "#ac_ec = accuracy_score(y_test,y_pred)\n",
    "#print('accuracy score: ', ac_ec)\n",
    "#print('confusion matrix: ', confusion_matrix(y_test,y_pred))\n",
    "#fpr,tpr,threshold = roc_curve(y_test,y_pred)\n",
    "#rc_ec = auc(fpr,tpr)\n",
    "#print('ROC curve: ', rc_ec)"
   ]
  },
  {
   "cell_type": "markdown",
   "id": "d443b796",
   "metadata": {},
   "source": [
    "### RandomForestRegressor"
   ]
  },
  {
   "cell_type": "code",
   "execution_count": null,
   "id": "16efdd08",
   "metadata": {},
   "outputs": [],
   "source": [
    "from sklearn.ensemble import RandomForestRegressor\n",
    "rf = RandomForestRegressor(n_estimators=1000)\n",
    "rf.fit(x_train,y_train)\n",
    "y_pred = rf.predict(x_test)\n",
    "er_rf = mean_squared_error(y_test,y_pred)\n",
    "r2_rf = r2_score(y_test,y_pred)\n",
    "ss_rf = 1-r2_rf\n",
    "rmse_rf = sqrt(er_rf)\n",
    "print('mean squared error: ',er_rf)\n",
    "print('r2 score: ', r2_rf)\n",
    "print('sum of square error: ', ss_rf)\n",
    "print('root mean square error: ', rmse_rf)\n",
    "#ac_rf = accuracy_score(y_test,y_pred)\n",
    "#print('accuracy score: ', ac_rf)\n",
    "#print('confusion matrix: ', confusion_matrix(y_test,y_pred))\n",
    "#fpr,tpr,threshold = roc_curve(y_test,y_pred)\n",
    "#rc_rf = auc(fpr,tpr)\n",
    "#print('ROC curve: ', rc_rf)"
   ]
  },
  {
   "cell_type": "markdown",
   "id": "98d8ebdd",
   "metadata": {},
   "source": [
    "### GradientBoostingRegressor"
   ]
  },
  {
   "cell_type": "code",
   "execution_count": null,
   "id": "91ad5647",
   "metadata": {},
   "outputs": [],
   "source": [
    "from sklearn.ensemble import GradientBoostingRegressor\n",
    "gbc = GradientBoostingRegressor(n_estimators=100)\n",
    "gbc.fit(x_train,y_train)\n",
    "y_pred = gbc.predict(x_test)\n",
    "er_gbc = mean_squared_error(y_test,y_pred)\n",
    "r2_gbc = r2_score(y_test,y_pred)\n",
    "ss_gbc = 1-r2_gbc\n",
    "rmse_gbc = sqrt(er_gbc)\n",
    "print('mean squared error: ',er_gbc)\n",
    "print('r2 score: ', r2_gbc)\n",
    "print('sum of square error: ', ss_gbc)\n",
    "print('root mean square error: ', rmse_gbc)\n",
    "#ac_gbc = accuracy_score(y_test,y_pred)\n",
    "#print('accuracy score: ', ac_gbc)\n",
    "#print('confusion matrix: ', confusion_matrix(y_test,y_pred))\n",
    "#fpr,tpr,threshold = roc_curve(y_test,y_pred)\n",
    "#rc_gbc = auc(fpr,tpr)\n",
    "#print('ROC curve: ', rc_gbc)"
   ]
  },
  {
   "cell_type": "markdown",
   "id": "731faf4e",
   "metadata": {},
   "source": [
    "### AdaBoostRegressor"
   ]
  },
  {
   "cell_type": "code",
   "execution_count": null,
   "id": "86807c6e",
   "metadata": {},
   "outputs": [],
   "source": [
    "from sklearn.ensemble import AdaBoostRegressor\n",
    "abc = AdaBoostRegressor(n_estimators=100)\n",
    "abc.fit(x_train,y_train)\n",
    "y_pred = abc.predict(x_test)\n",
    "er_abc = mean_squared_error(y_test,y_pred)\n",
    "r2_abc = r2_score(y_test,y_pred)\n",
    "ss_abc = 1-r2_abc\n",
    "rmse_abc = sqrt(er_abc)\n",
    "print('mean squared error: ',er_abc)\n",
    "print('r2 score: ', r2_abc)\n",
    "print('sum of square error: ', ss_abc)\n",
    "print('root mean square error: ', rmse_abc)\n",
    "#ac_abc = accuracy_score(y_test,y_pred)\n",
    "#print('accuracy score: ', ac_abc)\n",
    "#print('confusion matrix: ', confusion_matrix(y_test,y_pred))\n",
    "#fpr,tpr,threshold = roc_curve(y_test,y_pred)\n",
    "#rc_abc = auc(fpr,tpr)\n",
    "#print('ROC curve: ', rc_abc)"
   ]
  },
  {
   "cell_type": "code",
   "execution_count": null,
   "id": "a15abf15",
   "metadata": {},
   "outputs": [],
   "source": [
    "from sklearn.ensemble import BaggingRegressor\n",
    "bc = BaggingRegressor(n_estimators=1000)\n",
    "bc.fit(x_train,y_train)\n",
    "y_pred = bc.predict(x_test)\n",
    "er_bc = mean_squared_error(y_test,y_pred)\n",
    "r2_bc = r2_score(y_test,y_pred)\n",
    "ss_bc = 1-r2_bc\n",
    "rmse_bc = sqrt(er_bc)\n",
    "print('mean squared error: ',er_bc)\n",
    "print('r2 score: ', r2_bc)\n",
    "print('sum of square error: ', ss_bc)\n",
    "print('root mean square error: ', rmse_bc)\n",
    "#ac_bc = accuracy_score(y_test,y_pred)\n",
    "#print('accuracy score: ', ac_bc)\n",
    "#print('confusion matrix: ', confusion_matrix(y_test,y_pred))\n",
    "#fpr,tpr,threshold = roc_curve(y_test,y_pred)\n",
    "#rc_bc = auc(fpr,tpr)\n",
    "#print('ROC curve: ', rc_bc)"
   ]
  },
  {
   "cell_type": "markdown",
   "id": "245df3a7",
   "metadata": {},
   "source": [
    "### XGBRegressor"
   ]
  },
  {
   "cell_type": "code",
   "execution_count": null,
   "id": "5a584db3",
   "metadata": {},
   "outputs": [],
   "source": [
    "from xgboost import XGBRegressor\n",
    "xg = XGBRegressor(n_estimators=1000)\n",
    "xg.fit(x_train,y_train)\n",
    "y_pred = xg.predict(x_test)\n",
    "er_xg = mean_squared_error(y_test,y_pred)\n",
    "r2_xg = r2_score(y_test,y_pred)\n",
    "ss_xg = 1-r2_xg\n",
    "rmse_xg = sqrt(er_xg)\n",
    "print('mean squared error: ',er_xg)\n",
    "print('r2 score: ', r2_xg)\n",
    "print('sum of square error: ', ss_xg)\n",
    "print('root mean square error: ', rmse_xg)\n",
    "#ac_xg = accuracy_score(y_test,y_pred)\n",
    "#print('accuracy score: ', ac_xg)\n",
    "#print('confusion matrix: ', confusion_matrix(y_test,y_pred))\n",
    "#fpr,tpr,threshold = roc_curve(y_test,y_pred)\n",
    "#rc_xg = auc(fpr,tpr)\n",
    "#print('ROC curve: ', rc_xg)"
   ]
  },
  {
   "cell_type": "markdown",
   "id": "e0e30d47",
   "metadata": {},
   "source": [
    "### XGBRFRegressor"
   ]
  },
  {
   "cell_type": "markdown",
   "id": "1fca0ce0",
   "metadata": {},
   "source": []
  },
  {
   "cell_type": "code",
   "execution_count": null,
   "id": "455dd5b7",
   "metadata": {},
   "outputs": [],
   "source": [
    "from xgboost import XGBRFRegressor\n",
    "xgrf = XGBRFRegressor(n_estimators=1000)\n",
    "xgrf.fit(x_train,y_train)\n",
    "y_pred = xgrf.predict(x_test)\n",
    "er_xgrf = mean_squared_error(y_test,y_pred)\n",
    "r2_xgrf = r2_score(y_test,y_pred)\n",
    "ss_xgrf = 1-r2_xgrf\n",
    "rmse_xgrf = sqrt(er_xgrf)\n",
    "print('mean squared error: ',er_xgrf)\n",
    "print('r2 score: ', r2_xgrf)\n",
    "print('sum of square error: ', ss_xgrf)\n",
    "print('root mean square error: ', rmse_xgrf)\n",
    "#ac_xgrf = accuracy_score(y_test,y_pred)\n",
    "#print('accuracy score: ', ac_xgrf)\n",
    "#print('confusion matrix: ', confusion_matrix(y_test,y_pred))\n",
    "#fpr,tpr,threshold = roc_curve(y_test,y_pred)\n",
    "#rc_xgrf = auc(fpr,tpr)\n",
    "#print('ROC curve: ', rc_xgrf)"
   ]
  },
  {
   "cell_type": "markdown",
   "id": "d64d8135",
   "metadata": {},
   "source": [
    "### VotingRegressor"
   ]
  },
  {
   "cell_type": "code",
   "execution_count": null,
   "id": "3dda44be",
   "metadata": {},
   "outputs": [],
   "source": [
    "from sklearn.ensemble import VotingRegressor\n",
    "vr = VotingRegressor(estimators=[('rf',rf),('gb',gbc),('xgb',xg)])\n",
    "vr.fit(x_train,y_train)\n",
    "y_pred = vr.predict(x_test)\n",
    "er_vr = mean_squared_error(y_test,y_pred)\n",
    "r2_vr = r2_score(y_test,y_pred)\n",
    "ss_vr = 1-r2_vr\n",
    "rmse_vr = sqrt(er_vr)\n",
    "print('mean squared error: ',er_vr)\n",
    "print('r2 score: ', r2_vr)\n",
    "print('sum of square error: ', ss_vr)\n",
    "print('root mean square error: ', rmse_vr)\n",
    "#ac_vr = accuracy_score(y_test,y_pred)\n",
    "#print('accuracy score: ', ac_vr)\n",
    "#print('confusion matrix: ', confusion_matrix(y_test,y_pred))\n",
    "#fpr,tpr,threshold = roc_curve(y_test,y_pred)\n",
    "#rc_vr = auc(fpr,tpr)\n",
    "#print('ROC curve: ', rc_vr)"
   ]
  },
  {
   "cell_type": "markdown",
   "id": "fa55ed4a",
   "metadata": {},
   "source": [
    "## Checking which regression model is the best"
   ]
  },
  {
   "cell_type": "code",
   "execution_count": null,
   "id": "76a572d8",
   "metadata": {},
   "outputs": [],
   "source": [
    "#ac = [ac_lr,ac_kn,ac_sv,ac_sr,ac_sp,ac_ss,ac_dt,ac_ec,ac_rf,ac_gbc,ac_abc,ac_bc,ac_xg,ac_xgrf,ac_vr]\n",
    "#rc = [rc_kn,rc_sv,rc_sr,rc_sp,rc_ss,rc_dt,rc_ec,rc_rf,rc_gbc,rc_abc,rc_bc,rc_xg,rc_xgrf,rc_vr]\n",
    "er = [er_kn,er_sv,er_sr,er_sp,er_ss,er_dt,er_ec,er_rf,er_gbc,er_abc,er_bc,er_xg,er_xgrf,er_vr]\n",
    "r2 = [r2_kn,r2_sv,r2_sr,r2_sp,r2_ss,r2_dt,r2_ec,r2_rf,r2_gbc,r2_abc,r2_bc,r2_xg,r2_xgrf,r2_vr]\n",
    "ss = [ss_kn,ss_sv,ss_sr,ss_sp,ss_ss,ss_dt,ss_ec,ss_rf,ss_gbc,ss_abc,ss_bc,ss_xg,ss_xgrf,ss_vr]\n",
    "rmse = [rmse_kn,rmse_sv,rmse_sr,rmse_sp,rmse_ss,rmse_dt,rmse_ec,rmse_rf,rmse_gbc,rmse_abc,rmse_bc,rmse_xg,rmse_xgrf,rmse_vr]\n",
    "name = ['KNN','SVR','RSVR','PSVR','SSVR','DT','ET','RF','GB','AB','BC','XGB','XGBRF','VR']"
   ]
  },
  {
   "cell_type": "code",
   "execution_count": null,
   "id": "acaa6906",
   "metadata": {},
   "outputs": [],
   "source": [
    "#plt.bar(name,ac)\n",
    "#plt.title(\"Best Algorithm\")\n",
    "#plt.xlabel(\"Algorithm\")\n",
    "#plt.ylabel(\"Accuracy Value\")\n",
    "#plt.show()"
   ]
  },
  {
   "cell_type": "code",
   "execution_count": null,
   "id": "4cd16bba",
   "metadata": {},
   "outputs": [],
   "source": [
    "plt.bar(name,r2)\n",
    "plt.title(\"Best Algorithm\")\n",
    "plt.xlabel(\"Algorithm\")\n",
    "plt.ylabel(\"R2 Score\")\n",
    "plt.show()"
   ]
  },
  {
   "cell_type": "code",
   "execution_count": null,
   "id": "6558ddea",
   "metadata": {
    "scrolled": true
   },
   "outputs": [],
   "source": [
    "plt.bar(name,ss)\n",
    "plt.title(\"Best Algorithm\")\n",
    "plt.xlabel(\"Algorithm\")\n",
    "plt.ylabel(\"Sum of Square\")\n",
    "plt.show()"
   ]
  },
  {
   "cell_type": "code",
   "execution_count": null,
   "id": "6e7f8892",
   "metadata": {},
   "outputs": [],
   "source": [
    "plt.bar(name,er)\n",
    "plt.title(\"Best Algorithm\")\n",
    "plt.xlabel(\"Algorithm\")\n",
    "plt.ylabel(\"Mean Squared Error\")\n",
    "plt.show()"
   ]
  },
  {
   "cell_type": "code",
   "execution_count": null,
   "id": "b9508372",
   "metadata": {},
   "outputs": [],
   "source": [
    "plt.bar(name,rmse)\n",
    "plt.title(\"Best Algorithm\")\n",
    "plt.xlabel(\"Algorithm\")\n",
    "plt.ylabel(\"Root Mean Squared Error\")\n",
    "plt.show()"
   ]
  },
  {
   "cell_type": "code",
   "execution_count": null,
   "id": "388a4f13",
   "metadata": {
    "scrolled": true
   },
   "outputs": [],
   "source": [
    "#print(pd.DataFrame(ac).mean())\n",
    "print(pd.DataFrame(er).mean())"
   ]
  },
  {
   "cell_type": "code",
   "execution_count": null,
   "id": "021e3746",
   "metadata": {},
   "outputs": [
    {
     "ename": "NameError",
     "evalue": "name 'er' is not defined",
     "output_type": "error",
     "traceback": [
      "\u001b[0;31m---------------------------------------------------------------------------\u001b[0m",
      "\u001b[0;31mNameError\u001b[0m                                 Traceback (most recent call last)",
      "\u001b[0;32m/var/folders/mw/fc5wj4ns76x4xcwycqk0_bt00000gn/T/ipykernel_54223/3022581090.py\u001b[0m in \u001b[0;36m<module>\u001b[0;34m\u001b[0m\n\u001b[1;32m      1\u001b[0m \u001b[0;31m#print(pd.DataFrame(ac).mode())\u001b[0m\u001b[0;34m\u001b[0m\u001b[0;34m\u001b[0m\u001b[0m\n\u001b[0;32m----> 2\u001b[0;31m \u001b[0mprint\u001b[0m\u001b[0;34m(\u001b[0m\u001b[0mpd\u001b[0m\u001b[0;34m.\u001b[0m\u001b[0mDataFrame\u001b[0m\u001b[0;34m(\u001b[0m\u001b[0mer\u001b[0m\u001b[0;34m)\u001b[0m\u001b[0;34m.\u001b[0m\u001b[0mmode\u001b[0m\u001b[0;34m(\u001b[0m\u001b[0;34m)\u001b[0m\u001b[0;34m)\u001b[0m\u001b[0;34m\u001b[0m\u001b[0;34m\u001b[0m\u001b[0m\n\u001b[0m",
      "\u001b[0;31mNameError\u001b[0m: name 'er' is not defined"
     ]
    }
   ],
   "source": [
    "#print(pd.DataFrame(ac).mode())\n",
    "print(pd.DataFrame(er).mode())"
   ]
  },
  {
   "cell_type": "markdown",
   "id": "8de3aef6",
   "metadata": {},
   "source": [
    "temp = []\n",
    "a = []\n",
    "r = []\n",
    "for i in range(16):\n",
    "    if ac[i] > 0.87 and rc[i] > 0.6:\n",
    "        temp.append(name[i])\n",
    "        a.append(round(ac[i],2))\n",
    "        r.append(round(rc[i],2))"
   ]
  },
  {
   "cell_type": "markdown",
   "id": "cf8e3632",
   "metadata": {},
   "source": [
    "print(temp)\n",
    "print(a)\n",
    "print(r)"
   ]
  },
  {
   "cell_type": "code",
   "execution_count": null,
   "id": "856afc7c",
   "metadata": {},
   "outputs": [],
   "source": [
    "# pandas_profiling and autoviz.AutoViz_Class import AutoViz_Class\n",
    "# AUTO VIML"
   ]
  },
  {
   "cell_type": "code",
   "execution_count": null,
   "id": "46206789",
   "metadata": {},
   "outputs": [],
   "source": [
    "from sklearn.linear_model import Lasso, Ridge"
   ]
  },
  {
   "cell_type": "code",
   "execution_count": null,
   "id": "004d1e36",
   "metadata": {},
   "outputs": [],
   "source": [
    "ls = Lasso()\n",
    "ls.fit(x_train,y_train)\n",
    "y_pred = ls.predict(x_test)"
   ]
  },
  {
   "cell_type": "code",
   "execution_count": null,
   "id": "a82fe188",
   "metadata": {},
   "outputs": [],
   "source": [
    "rs = Ridge()\n",
    "rs.fit(x_train,y_train)\n",
    "y_pred = rs.predict(x_test)"
   ]
  }
 ],
 "metadata": {
  "kernelspec": {
   "display_name": "Python 3.9.13 ('base')",
   "language": "python",
   "name": "python3"
  },
  "language_info": {
   "codemirror_mode": {
    "name": "ipython",
    "version": 3
   },
   "file_extension": ".py",
   "mimetype": "text/x-python",
   "name": "python",
   "nbconvert_exporter": "python",
   "pygments_lexer": "ipython3",
   "version": "3.9.13"
  },
  "vscode": {
   "interpreter": {
    "hash": "0b5c61de2e429f9752d8dbc011c1d8d05e3d8719ce4f9a2a549c70706b4985bf"
   }
  }
 },
 "nbformat": 4,
 "nbformat_minor": 5
}
